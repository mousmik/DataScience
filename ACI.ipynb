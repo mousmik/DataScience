{
  "cells": [
    {
      "cell_type": "markdown",
      "id": "ef73df95",
      "metadata": {
        "id": "ef73df95"
      },
      "source": [
        "## Gaming with Min-Max Algorithm - Solution template"
      ]
    },
    {
      "cell_type": "markdown",
      "id": "d6f97bd9",
      "metadata": {
        "id": "d6f97bd9"
      },
      "source": [
        "# Things to follow\n",
        "\n",
        "1. Use appropriate data structures to represent the graph using python libraries\n",
        "2. Provide proper documentation\n",
        "3. Create neat solution without error during game playing"
      ]
    },
    {
      "cell_type": "markdown",
      "id": "9c8fc7c1",
      "metadata": {
        "id": "9c8fc7c1"
      },
      "source": [
        "### Coding begins here"
      ]
    },
    {
      "cell_type": "markdown",
      "id": "ae16f9ad",
      "metadata": {
        "id": "ae16f9ad"
      },
      "source": [
        "### PEAS - Data structures and fringes that define the Agent environment goes here"
      ]
    },
    {
      "cell_type": "markdown",
      "source": [
        "\n",
        "**Performance Measure:**\n",
        "\n",
        "The performance measure for the players (agents) in this game is to maximize their final sum of chosen numbers while adhering to the game rules.\n",
        "\n",
        "**Environment:**\n",
        "\n",
        "The environment consists of the set of natural numbers, {1, 2, 3, …, n}, where 'n' is agreed upon before the game.\n",
        "\n",
        "The environment also includes the current state of the game, which is represented by the remaining numbers in the set, the sum chosen by each player, and whose turn it is (P1 or P2).\n",
        "\n",
        "**Actuators:**\n",
        "\n",
        "The actuators in this game are the actions taken by each player to select one or more numbers from the remaining set of numbers.\n",
        "\n",
        "**Sensors**:\n",
        "\n",
        "The sensors are used to perceive the current state of the game, including the remaining numbers, the current sums chosen by each player, and whose turn it is."
      ],
      "metadata": {
        "id": "tEqOQGPjratJ"
      },
      "id": "tEqOQGPjratJ"
    },
    {
      "cell_type": "code",
      "source": [
        "#Definitions:\n",
        "\n",
        "def game_over(state):\n",
        "    # Check if the game is over\n",
        "    # In Catch-Up, the game is over when there are no remaining numbers to choose\n",
        "    return len(state['remaining_numbers']) == 0\n",
        "\n",
        "def possible_actions(state):\n",
        "    # Generate possible actions for the current state\n",
        "    # In Catch-Up, the actions are choosing one of the remaining numbers\n",
        "    return state['remaining_numbers']\n",
        "\n",
        "def result(state, action):\n",
        "    # Apply the action to the current state and return the new state\n",
        "    # In Catch-Up, update the chosen number and switch the current player\n",
        "    new_state = state.copy()\n",
        "    new_state['remaining_numbers'].remove(action)\n",
        "    if state['current_player'] == 'p1':\n",
        "        new_state['p1_sum'] += action\n",
        "        new_state['current_player'] = 'p2'\n",
        "    else:\n",
        "        new_state['p2_sum'] += action\n",
        "        new_state['current_player'] = 'p1'\n",
        "    return new_state\n",
        "\n",
        "def evaluate_state(state):\n",
        "    # Evaluate the current state\n",
        "    # In Catch-Up, calculate the difference between players' sums\n",
        "    return state['p1_sum'] - state['p2_sum']"
      ],
      "metadata": {
        "id": "XvEPVhnDrstS"
      },
      "id": "XvEPVhnDrstS",
      "execution_count": null,
      "outputs": []
    },
    {
      "cell_type": "code",
      "source": [
        "def choose_best_action_alpha_beta(state, depth, alpha, beta):\n",
        "    best_eval = -float('inf')\n",
        "    best_action = None\n",
        "    for action in possible_actions(state):\n",
        "        eval = alpha_beta(result(state, action), depth - 1, alpha, beta, False)\n",
        "        if eval > best_eval:\n",
        "            best_eval = eval\n",
        "            best_action = action\n",
        "        alpha = max(alpha, eval)\n",
        "        if beta <= alpha:\n",
        "            break\n",
        "    return best_action"
      ],
      "metadata": {
        "id": "iH6ZexbErvIU"
      },
      "id": "iH6ZexbErvIU",
      "execution_count": null,
      "outputs": []
    },
    {
      "cell_type": "markdown",
      "id": "979b8c3b",
      "metadata": {
        "id": "979b8c3b"
      },
      "source": [
        "### Implementation of the Min-Max algorithm"
      ]
    },
    {
      "cell_type": "code",
      "execution_count": null,
      "id": "3e2fd5c8",
      "metadata": {
        "colab": {
          "base_uri": "https://localhost:8080/"
        },
        "id": "3e2fd5c8",
        "outputId": "ddc0137b-effe-4f12-e6eb-90beb4389fee"
      },
      "outputs": [
        {
          "output_type": "stream",
          "name": "stdout",
          "text": [
            "Best action: 1\n"
          ]
        }
      ],
      "source": [
        "#The Min-Max algorithm can be used to find the optimal strategy for a player in this game. Here's a Python code snippet for implementing the Min-Max algorithm:\n",
        "\n",
        "def min_max(state, depth, is_maximizer):\n",
        "    if depth == 0 or game_over(state):\n",
        "        return evaluate_state(state)\n",
        "\n",
        "    if is_maximizer:\n",
        "        max_eval = -float('inf')\n",
        "        for action in possible_actions(state):\n",
        "            eval = min_max(result(state, action), depth - 1, False)\n",
        "            max_eval = max(max_eval, eval)\n",
        "        return max_eval\n",
        "    else:\n",
        "        min_eval = float('inf')\n",
        "        for action in possible_actions(state):\n",
        "            eval = min_max(result(state, action), depth - 1, True)\n",
        "            min_eval = min(min_eval, eval)\n",
        "        return min_eval\n",
        "\n",
        "def choose_best_action(state, depth):\n",
        "    best_eval = -float('inf')\n",
        "    best_action = None\n",
        "    for action in possible_actions(state):\n",
        "        eval = min_max(result(state, action), depth - 1, False)\n",
        "        if eval > best_eval:\n",
        "            best_eval = eval\n",
        "            best_action = action\n",
        "    return best_action\n",
        "\n",
        "# Example usage:\n",
        "initial_state = {\n",
        "    'remaining_numbers': [1, 2, 3, 4, 5],\n",
        "    'p1_sum': 0,\n",
        "    'p2_sum': 0,\n",
        "    'current_player': 'p1'\n",
        "}\n",
        "best_action = choose_best_action(initial_state, depth=3)\n",
        "print(\"Best action:\", best_action)"
      ]
    },
    {
      "cell_type": "markdown",
      "id": "71d82f98",
      "metadata": {
        "id": "71d82f98"
      },
      "source": [
        "### Implementation of the alpha-beta pruning  "
      ]
    },
    {
      "cell_type": "code",
      "execution_count": null,
      "id": "7f807ef3",
      "metadata": {
        "colab": {
          "base_uri": "https://localhost:8080/"
        },
        "id": "7f807ef3",
        "outputId": "0fd1618f-7090-4b17-9316-73fa7ad4f43f"
      },
      "outputs": [
        {
          "output_type": "stream",
          "name": "stdout",
          "text": [
            "Best action: 1\n"
          ]
        }
      ],
      "source": [
        "\n",
        "#Alpha-Beta pruning can be applied to optimize the Min-Max algorithm. Here's a Python code snippet for implementing Alpha-Beta pruning:\n",
        "\n",
        "def alpha_beta(state, depth, alpha, beta, is_maximizer):\n",
        "    if depth == 0 or game_over(state):\n",
        "        return evaluate_state(state)\n",
        "\n",
        "    if is_maximizer:\n",
        "        max_eval = -float('inf')\n",
        "        for action in possible_actions(state):\n",
        "            eval = alpha_beta(result(state, action), depth - 1, alpha, beta, False)\n",
        "            max_eval = max(max_eval, eval)\n",
        "            alpha = max(alpha, eval)\n",
        "            if beta <= alpha:\n",
        "                break\n",
        "        return max_eval\n",
        "    else:\n",
        "        min_eval = float('inf')\n",
        "        for action in possible_actions(state):\n",
        "            eval = alpha_beta(result(state, action), depth - 1, alpha, beta, True)\n",
        "            min_eval = min(min_eval, eval)\n",
        "            beta = min(beta, eval)\n",
        "            if beta <= alpha:\n",
        "                break\n",
        "        return min_eval\n",
        "\n",
        "# Example usage:\n",
        "initial_state = {\n",
        "    'remaining_numbers': [1, 2, 3, 4, 5],\n",
        "    'p1_sum': 0,\n",
        "    'p2_sum': 0,\n",
        "    'current_player': 'p1'\n",
        "}\n",
        "best_action = choose_best_action_alpha_beta(initial_state, depth=3, alpha=-float('inf'), beta=float('inf'))\n",
        "print(\"Best action:\", best_action)\n"
      ]
    },
    {
      "cell_type": "markdown",
      "id": "c158f4a2",
      "metadata": {
        "id": "c158f4a2"
      },
      "source": [
        "### Choice and implementation of the Static Evaluation Function."
      ]
    },
    {
      "cell_type": "code",
      "execution_count": null,
      "id": "3a68e508",
      "metadata": {
        "colab": {
          "base_uri": "https://localhost:8080/"
        },
        "id": "3a68e508",
        "outputId": "731667ee-3e27-4451-ece4-bac7c0989946"
      },
      "outputs": [
        {
          "output_type": "stream",
          "name": "stdout",
          "text": [
            "P1 chooses 1. Sum: 1\n",
            "P2 chooses [4]. Sum: 4\n",
            "P1 chooses [3]. Sum: 4\n",
            "P2 chooses [2]. Sum: 6\n",
            "P2 wins with a sum of 6!\n"
          ]
        }
      ],
      "source": [
        "#Code block - Start the game\n",
        "\n",
        "import random\n",
        "\n",
        "def choose_subset(player_sum, opponent_sum, available_numbers):\n",
        "    # Function to choose a subset of numbers that brings player_sum at least up to opponent_sum\n",
        "    possible_choices = []\n",
        "    for num in available_numbers:\n",
        "        temp_sum = player_sum\n",
        "        temp_choices = []\n",
        "        for n in sorted(available_numbers, reverse=True):\n",
        "            if temp_sum + n >= opponent_sum:\n",
        "                temp_choices.append(n)\n",
        "                temp_sum += n\n",
        "                possible_choices.append(temp_choices)\n",
        "                break\n",
        "            elif temp_sum + n < opponent_sum:\n",
        "                temp_choices.append(n)\n",
        "                temp_sum += n\n",
        "    return random.choice(possible_choices)\n",
        "\n",
        "def play_game(n):\n",
        "    available_numbers = list(range(1, n+1))\n",
        "    p1_sum, p2_sum = 0, 0\n",
        "\n",
        "    # P1's first move\n",
        "    p1_choice = random.choice(available_numbers)\n",
        "    p1_sum += p1_choice\n",
        "    available_numbers.remove(p1_choice)\n",
        "    print(f\"P1 chooses {p1_choice}. Sum: {p1_sum}\")\n",
        "\n",
        "    while available_numbers:\n",
        "        # P2's turn\n",
        "        p2_choices = choose_subset(p2_sum, p1_sum, available_numbers)\n",
        "        p2_sum += sum(p2_choices)\n",
        "        print(f\"P2 chooses {p2_choices}. Sum: {p2_sum}\")\n",
        "        for choice in p2_choices:\n",
        "            available_numbers.remove(choice)\n",
        "\n",
        "        if not available_numbers:\n",
        "            break\n",
        "\n",
        "        # P1's turn\n",
        "        p1_choices = choose_subset(p1_sum, p2_sum, available_numbers)\n",
        "        p1_sum += sum(p1_choices)\n",
        "        print(f\"P1 chooses {p1_choices}. Sum: {p1_sum}\")\n",
        "        for choice in p1_choices:\n",
        "            available_numbers.remove(choice)\n",
        "\n",
        "    # Determine winner\n",
        "    if p1_sum > p2_sum:\n",
        "        print(f\"P1 wins with a sum of {p1_sum}!\")\n",
        "    elif p2_sum > p1_sum:\n",
        "        print(f\"P2 wins with a sum of {p2_sum}!\")\n",
        "    else:\n",
        "        print(\"It's a tie!\")\n",
        "\n",
        "# The game starts with numbers from 1 to 5\n",
        "play_game(4)"
      ]
    },
    {
      "cell_type": "code",
      "source": [],
      "metadata": {
        "id": "jqBGzydwk1JH"
      },
      "id": "jqBGzydwk1JH",
      "execution_count": null,
      "outputs": []
    }
  ],
  "metadata": {
    "kernelspec": {
      "display_name": "Python 3",
      "language": "python",
      "name": "python3"
    },
    "language_info": {
      "codemirror_mode": {
        "name": "ipython",
        "version": 3
      },
      "file_extension": ".py",
      "mimetype": "text/x-python",
      "name": "python",
      "nbconvert_exporter": "python",
      "pygments_lexer": "ipython3",
      "version": "3.8.8"
    },
    "colab": {
      "provenance": []
    }
  },
  "nbformat": 4,
  "nbformat_minor": 5
}