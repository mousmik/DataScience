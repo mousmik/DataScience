{
  "nbformat": 4,
  "nbformat_minor": 0,
  "metadata": {
    "colab": {
      "provenance": []
    },
    "kernelspec": {
      "name": "python3",
      "display_name": "Python 3"
    },
    "language_info": {
      "name": "python"
    }
  },
  "cells": [
    {
      "cell_type": "markdown",
      "source": [
        "PART A\n",
        "      \n",
        "  1. **Import Libraries/Dataset**\n"
      ],
      "metadata": {
        "id": "qW5Lg7E7yUNS"
      }
    },
    {
      "cell_type": "code",
      "source": [
        "# Importing required libraries\n",
        "\n",
        "import pandas as pd\n",
        "import numpy as np\n",
        "import matplotlib.pyplot as plt\n",
        "import seaborn as sns\n",
        "from sklearn.model_selection import train_test_split\n",
        "from sklearn.preprocessing import StandardScaler, LabelEncoder\n",
        "from sklearn.metrics import confusion_matrix, accuracy_score\n",
        "from sklearn.svm import SVC\n",
        "from sklearn.metrics import hinge_loss\n",
        "from sklearn.tree import DecisionTreeClassifier\n",
        "\n",
        "# Reading the dataset\n",
        "df = pd.read_csv(\"Signature.csv\")\n",
        "\n",
        "df.head()"
      ],
      "metadata": {
        "colab": {
          "base_uri": "https://localhost:8080/",
          "height": 255
        },
        "id": "cWp7CmpozFYz",
        "outputId": "2702f349-8b75-4443-ba7e-50ade2400a96"
      },
      "execution_count": null,
      "outputs": [
        {
          "output_type": "execute_result",
          "data": {
            "text/plain": [
              "   duration protocol_type   service  flag  src_bytes  dst_bytes  land  \\\n",
              "0         0           tcp   private   REJ          0          0     0   \n",
              "1         0           tcp   private   REJ          0          0     0   \n",
              "2         2           tcp  ftp_data    SF      12983          0     0   \n",
              "3         0          icmp     eco_i    SF         20          0     0   \n",
              "4         1           tcp    telnet  RSTO          0         15     0   \n",
              "\n",
              "   wrong_fragment  urgent  hot  ...  dst_host_srv_count  \\\n",
              "0               0       0    0  ...                  10   \n",
              "1               0       0    0  ...                   1   \n",
              "2               0       0    0  ...                  86   \n",
              "3               0       0    0  ...                  57   \n",
              "4               0       0    0  ...                  86   \n",
              "\n",
              "   dst_host_same_srv_rate  dst_host_diff_srv_rate  \\\n",
              "0                    0.04                    0.06   \n",
              "1                    0.00                    0.06   \n",
              "2                    0.61                    0.04   \n",
              "3                    1.00                    0.00   \n",
              "4                    0.31                    0.17   \n",
              "\n",
              "   dst_host_same_src_port_rate  dst_host_srv_diff_host_rate  \\\n",
              "0                         0.00                         0.00   \n",
              "1                         0.00                         0.00   \n",
              "2                         0.61                         0.02   \n",
              "3                         1.00                         0.28   \n",
              "4                         0.03                         0.02   \n",
              "\n",
              "   dst_host_serror_rate  dst_host_srv_serror_rate  dst_host_rerror_rate  \\\n",
              "0                   0.0                       0.0                  1.00   \n",
              "1                   0.0                       0.0                  1.00   \n",
              "2                   0.0                       0.0                  0.00   \n",
              "3                   0.0                       0.0                  0.00   \n",
              "4                   0.0                       0.0                  0.83   \n",
              "\n",
              "   dst_host_srv_rerror_rate    class  \n",
              "0                      1.00  anomaly  \n",
              "1                      1.00  anomaly  \n",
              "2                      0.00   normal  \n",
              "3                      0.00  anomaly  \n",
              "4                      0.71  anomaly  \n",
              "\n",
              "[5 rows x 40 columns]"
            ],
            "text/html": [
              "\n",
              "  <div id=\"df-787bba9d-5346-4a88-a79e-c312b9ae17de\" class=\"colab-df-container\">\n",
              "    <div>\n",
              "<style scoped>\n",
              "    .dataframe tbody tr th:only-of-type {\n",
              "        vertical-align: middle;\n",
              "    }\n",
              "\n",
              "    .dataframe tbody tr th {\n",
              "        vertical-align: top;\n",
              "    }\n",
              "\n",
              "    .dataframe thead th {\n",
              "        text-align: right;\n",
              "    }\n",
              "</style>\n",
              "<table border=\"1\" class=\"dataframe\">\n",
              "  <thead>\n",
              "    <tr style=\"text-align: right;\">\n",
              "      <th></th>\n",
              "      <th>duration</th>\n",
              "      <th>protocol_type</th>\n",
              "      <th>service</th>\n",
              "      <th>flag</th>\n",
              "      <th>src_bytes</th>\n",
              "      <th>dst_bytes</th>\n",
              "      <th>land</th>\n",
              "      <th>wrong_fragment</th>\n",
              "      <th>urgent</th>\n",
              "      <th>hot</th>\n",
              "      <th>...</th>\n",
              "      <th>dst_host_srv_count</th>\n",
              "      <th>dst_host_same_srv_rate</th>\n",
              "      <th>dst_host_diff_srv_rate</th>\n",
              "      <th>dst_host_same_src_port_rate</th>\n",
              "      <th>dst_host_srv_diff_host_rate</th>\n",
              "      <th>dst_host_serror_rate</th>\n",
              "      <th>dst_host_srv_serror_rate</th>\n",
              "      <th>dst_host_rerror_rate</th>\n",
              "      <th>dst_host_srv_rerror_rate</th>\n",
              "      <th>class</th>\n",
              "    </tr>\n",
              "  </thead>\n",
              "  <tbody>\n",
              "    <tr>\n",
              "      <th>0</th>\n",
              "      <td>0</td>\n",
              "      <td>tcp</td>\n",
              "      <td>private</td>\n",
              "      <td>REJ</td>\n",
              "      <td>0</td>\n",
              "      <td>0</td>\n",
              "      <td>0</td>\n",
              "      <td>0</td>\n",
              "      <td>0</td>\n",
              "      <td>0</td>\n",
              "      <td>...</td>\n",
              "      <td>10</td>\n",
              "      <td>0.04</td>\n",
              "      <td>0.06</td>\n",
              "      <td>0.00</td>\n",
              "      <td>0.00</td>\n",
              "      <td>0.0</td>\n",
              "      <td>0.0</td>\n",
              "      <td>1.00</td>\n",
              "      <td>1.00</td>\n",
              "      <td>anomaly</td>\n",
              "    </tr>\n",
              "    <tr>\n",
              "      <th>1</th>\n",
              "      <td>0</td>\n",
              "      <td>tcp</td>\n",
              "      <td>private</td>\n",
              "      <td>REJ</td>\n",
              "      <td>0</td>\n",
              "      <td>0</td>\n",
              "      <td>0</td>\n",
              "      <td>0</td>\n",
              "      <td>0</td>\n",
              "      <td>0</td>\n",
              "      <td>...</td>\n",
              "      <td>1</td>\n",
              "      <td>0.00</td>\n",
              "      <td>0.06</td>\n",
              "      <td>0.00</td>\n",
              "      <td>0.00</td>\n",
              "      <td>0.0</td>\n",
              "      <td>0.0</td>\n",
              "      <td>1.00</td>\n",
              "      <td>1.00</td>\n",
              "      <td>anomaly</td>\n",
              "    </tr>\n",
              "    <tr>\n",
              "      <th>2</th>\n",
              "      <td>2</td>\n",
              "      <td>tcp</td>\n",
              "      <td>ftp_data</td>\n",
              "      <td>SF</td>\n",
              "      <td>12983</td>\n",
              "      <td>0</td>\n",
              "      <td>0</td>\n",
              "      <td>0</td>\n",
              "      <td>0</td>\n",
              "      <td>0</td>\n",
              "      <td>...</td>\n",
              "      <td>86</td>\n",
              "      <td>0.61</td>\n",
              "      <td>0.04</td>\n",
              "      <td>0.61</td>\n",
              "      <td>0.02</td>\n",
              "      <td>0.0</td>\n",
              "      <td>0.0</td>\n",
              "      <td>0.00</td>\n",
              "      <td>0.00</td>\n",
              "      <td>normal</td>\n",
              "    </tr>\n",
              "    <tr>\n",
              "      <th>3</th>\n",
              "      <td>0</td>\n",
              "      <td>icmp</td>\n",
              "      <td>eco_i</td>\n",
              "      <td>SF</td>\n",
              "      <td>20</td>\n",
              "      <td>0</td>\n",
              "      <td>0</td>\n",
              "      <td>0</td>\n",
              "      <td>0</td>\n",
              "      <td>0</td>\n",
              "      <td>...</td>\n",
              "      <td>57</td>\n",
              "      <td>1.00</td>\n",
              "      <td>0.00</td>\n",
              "      <td>1.00</td>\n",
              "      <td>0.28</td>\n",
              "      <td>0.0</td>\n",
              "      <td>0.0</td>\n",
              "      <td>0.00</td>\n",
              "      <td>0.00</td>\n",
              "      <td>anomaly</td>\n",
              "    </tr>\n",
              "    <tr>\n",
              "      <th>4</th>\n",
              "      <td>1</td>\n",
              "      <td>tcp</td>\n",
              "      <td>telnet</td>\n",
              "      <td>RSTO</td>\n",
              "      <td>0</td>\n",
              "      <td>15</td>\n",
              "      <td>0</td>\n",
              "      <td>0</td>\n",
              "      <td>0</td>\n",
              "      <td>0</td>\n",
              "      <td>...</td>\n",
              "      <td>86</td>\n",
              "      <td>0.31</td>\n",
              "      <td>0.17</td>\n",
              "      <td>0.03</td>\n",
              "      <td>0.02</td>\n",
              "      <td>0.0</td>\n",
              "      <td>0.0</td>\n",
              "      <td>0.83</td>\n",
              "      <td>0.71</td>\n",
              "      <td>anomaly</td>\n",
              "    </tr>\n",
              "  </tbody>\n",
              "</table>\n",
              "<p>5 rows × 40 columns</p>\n",
              "</div>\n",
              "    <div class=\"colab-df-buttons\">\n",
              "\n",
              "  <div class=\"colab-df-container\">\n",
              "    <button class=\"colab-df-convert\" onclick=\"convertToInteractive('df-787bba9d-5346-4a88-a79e-c312b9ae17de')\"\n",
              "            title=\"Convert this dataframe to an interactive table.\"\n",
              "            style=\"display:none;\">\n",
              "\n",
              "  <svg xmlns=\"http://www.w3.org/2000/svg\" height=\"24px\" viewBox=\"0 -960 960 960\">\n",
              "    <path d=\"M120-120v-720h720v720H120Zm60-500h600v-160H180v160Zm220 220h160v-160H400v160Zm0 220h160v-160H400v160ZM180-400h160v-160H180v160Zm440 0h160v-160H620v160ZM180-180h160v-160H180v160Zm440 0h160v-160H620v160Z\"/>\n",
              "  </svg>\n",
              "    </button>\n",
              "\n",
              "  <style>\n",
              "    .colab-df-container {\n",
              "      display:flex;\n",
              "      gap: 12px;\n",
              "    }\n",
              "\n",
              "    .colab-df-convert {\n",
              "      background-color: #E8F0FE;\n",
              "      border: none;\n",
              "      border-radius: 50%;\n",
              "      cursor: pointer;\n",
              "      display: none;\n",
              "      fill: #1967D2;\n",
              "      height: 32px;\n",
              "      padding: 0 0 0 0;\n",
              "      width: 32px;\n",
              "    }\n",
              "\n",
              "    .colab-df-convert:hover {\n",
              "      background-color: #E2EBFA;\n",
              "      box-shadow: 0px 1px 2px rgba(60, 64, 67, 0.3), 0px 1px 3px 1px rgba(60, 64, 67, 0.15);\n",
              "      fill: #174EA6;\n",
              "    }\n",
              "\n",
              "    .colab-df-buttons div {\n",
              "      margin-bottom: 4px;\n",
              "    }\n",
              "\n",
              "    [theme=dark] .colab-df-convert {\n",
              "      background-color: #3B4455;\n",
              "      fill: #D2E3FC;\n",
              "    }\n",
              "\n",
              "    [theme=dark] .colab-df-convert:hover {\n",
              "      background-color: #434B5C;\n",
              "      box-shadow: 0px 1px 3px 1px rgba(0, 0, 0, 0.15);\n",
              "      filter: drop-shadow(0px 1px 2px rgba(0, 0, 0, 0.3));\n",
              "      fill: #FFFFFF;\n",
              "    }\n",
              "  </style>\n",
              "\n",
              "    <script>\n",
              "      const buttonEl =\n",
              "        document.querySelector('#df-787bba9d-5346-4a88-a79e-c312b9ae17de button.colab-df-convert');\n",
              "      buttonEl.style.display =\n",
              "        google.colab.kernel.accessAllowed ? 'block' : 'none';\n",
              "\n",
              "      async function convertToInteractive(key) {\n",
              "        const element = document.querySelector('#df-787bba9d-5346-4a88-a79e-c312b9ae17de');\n",
              "        const dataTable =\n",
              "          await google.colab.kernel.invokeFunction('convertToInteractive',\n",
              "                                                    [key], {});\n",
              "        if (!dataTable) return;\n",
              "\n",
              "        const docLinkHtml = 'Like what you see? Visit the ' +\n",
              "          '<a target=\"_blank\" href=https://colab.research.google.com/notebooks/data_table.ipynb>data table notebook</a>'\n",
              "          + ' to learn more about interactive tables.';\n",
              "        element.innerHTML = '';\n",
              "        dataTable['output_type'] = 'display_data';\n",
              "        await google.colab.output.renderOutput(dataTable, element);\n",
              "        const docLink = document.createElement('div');\n",
              "        docLink.innerHTML = docLinkHtml;\n",
              "        element.appendChild(docLink);\n",
              "      }\n",
              "    </script>\n",
              "  </div>\n",
              "\n",
              "\n",
              "<div id=\"df-8a5b361e-7b28-40ec-a700-3b74c32ebae2\">\n",
              "  <button class=\"colab-df-quickchart\" onclick=\"quickchart('df-8a5b361e-7b28-40ec-a700-3b74c32ebae2')\"\n",
              "            title=\"Suggest charts.\"\n",
              "            style=\"display:none;\">\n",
              "\n",
              "<svg xmlns=\"http://www.w3.org/2000/svg\" height=\"24px\"viewBox=\"0 0 24 24\"\n",
              "     width=\"24px\">\n",
              "    <g>\n",
              "        <path d=\"M19 3H5c-1.1 0-2 .9-2 2v14c0 1.1.9 2 2 2h14c1.1 0 2-.9 2-2V5c0-1.1-.9-2-2-2zM9 17H7v-7h2v7zm4 0h-2V7h2v10zm4 0h-2v-4h2v4z\"/>\n",
              "    </g>\n",
              "</svg>\n",
              "  </button>\n",
              "\n",
              "<style>\n",
              "  .colab-df-quickchart {\n",
              "    background-color: #E8F0FE;\n",
              "    border: none;\n",
              "    border-radius: 50%;\n",
              "    cursor: pointer;\n",
              "    display: none;\n",
              "    fill: #1967D2;\n",
              "    height: 32px;\n",
              "    padding: 0 0 0 0;\n",
              "    width: 32px;\n",
              "  }\n",
              "\n",
              "  .colab-df-quickchart:hover {\n",
              "    background-color: #E2EBFA;\n",
              "    box-shadow: 0px 1px 2px rgba(60, 64, 67, 0.3), 0px 1px 3px 1px rgba(60, 64, 67, 0.15);\n",
              "    fill: #174EA6;\n",
              "  }\n",
              "\n",
              "  [theme=dark] .colab-df-quickchart {\n",
              "    background-color: #3B4455;\n",
              "    fill: #D2E3FC;\n",
              "  }\n",
              "\n",
              "  [theme=dark] .colab-df-quickchart:hover {\n",
              "    background-color: #434B5C;\n",
              "    box-shadow: 0px 1px 3px 1px rgba(0, 0, 0, 0.15);\n",
              "    filter: drop-shadow(0px 1px 2px rgba(0, 0, 0, 0.3));\n",
              "    fill: #FFFFFF;\n",
              "  }\n",
              "</style>\n",
              "\n",
              "  <script>\n",
              "    async function quickchart(key) {\n",
              "      const charts = await google.colab.kernel.invokeFunction(\n",
              "          'suggestCharts', [key], {});\n",
              "    }\n",
              "    (() => {\n",
              "      let quickchartButtonEl =\n",
              "        document.querySelector('#df-8a5b361e-7b28-40ec-a700-3b74c32ebae2 button');\n",
              "      quickchartButtonEl.style.display =\n",
              "        google.colab.kernel.accessAllowed ? 'block' : 'none';\n",
              "    })();\n",
              "  </script>\n",
              "</div>\n",
              "    </div>\n",
              "  </div>\n"
            ]
          },
          "metadata": {},
          "execution_count": 84
        }
      ]
    },
    {
      "cell_type": "markdown",
      "source": [
        "   2. **Data Visualization and Exploration**"
      ],
      "metadata": {
        "id": "RV3dfyuEzlrO"
      }
    },
    {
      "cell_type": "markdown",
      "source": [
        "          a. Displaying the first 5 rows of the dataset to check features and target variable."
      ],
      "metadata": {
        "id": "YYj4Q3Tb12Tz"
      }
    },
    {
      "cell_type": "code",
      "source": [
        "# Displaying first 5 rows:\n",
        "df.head()"
      ],
      "metadata": {
        "colab": {
          "base_uri": "https://localhost:8080/",
          "height": 255
        },
        "id": "BVe1Gyqm0_59",
        "outputId": "e5286e8a-749a-42cd-93f4-24aeeeca0424"
      },
      "execution_count": null,
      "outputs": [
        {
          "output_type": "execute_result",
          "data": {
            "text/plain": [
              "   duration protocol_type   service  flag  src_bytes  dst_bytes  land  \\\n",
              "0         0           tcp   private   REJ          0          0     0   \n",
              "1         0           tcp   private   REJ          0          0     0   \n",
              "2         2           tcp  ftp_data    SF      12983          0     0   \n",
              "3         0          icmp     eco_i    SF         20          0     0   \n",
              "4         1           tcp    telnet  RSTO          0         15     0   \n",
              "\n",
              "   wrong_fragment  urgent  hot  ...  dst_host_srv_count  \\\n",
              "0               0       0    0  ...                  10   \n",
              "1               0       0    0  ...                   1   \n",
              "2               0       0    0  ...                  86   \n",
              "3               0       0    0  ...                  57   \n",
              "4               0       0    0  ...                  86   \n",
              "\n",
              "   dst_host_same_srv_rate  dst_host_diff_srv_rate  \\\n",
              "0                    0.04                    0.06   \n",
              "1                    0.00                    0.06   \n",
              "2                    0.61                    0.04   \n",
              "3                    1.00                    0.00   \n",
              "4                    0.31                    0.17   \n",
              "\n",
              "   dst_host_same_src_port_rate  dst_host_srv_diff_host_rate  \\\n",
              "0                         0.00                         0.00   \n",
              "1                         0.00                         0.00   \n",
              "2                         0.61                         0.02   \n",
              "3                         1.00                         0.28   \n",
              "4                         0.03                         0.02   \n",
              "\n",
              "   dst_host_serror_rate  dst_host_srv_serror_rate  dst_host_rerror_rate  \\\n",
              "0                   0.0                       0.0                  1.00   \n",
              "1                   0.0                       0.0                  1.00   \n",
              "2                   0.0                       0.0                  0.00   \n",
              "3                   0.0                       0.0                  0.00   \n",
              "4                   0.0                       0.0                  0.83   \n",
              "\n",
              "   dst_host_srv_rerror_rate    class  \n",
              "0                      1.00  anomaly  \n",
              "1                      1.00  anomaly  \n",
              "2                      0.00   normal  \n",
              "3                      0.00  anomaly  \n",
              "4                      0.71  anomaly  \n",
              "\n",
              "[5 rows x 40 columns]"
            ],
            "text/html": [
              "\n",
              "  <div id=\"df-e74708d2-86cf-4152-8475-bbcf5d199376\" class=\"colab-df-container\">\n",
              "    <div>\n",
              "<style scoped>\n",
              "    .dataframe tbody tr th:only-of-type {\n",
              "        vertical-align: middle;\n",
              "    }\n",
              "\n",
              "    .dataframe tbody tr th {\n",
              "        vertical-align: top;\n",
              "    }\n",
              "\n",
              "    .dataframe thead th {\n",
              "        text-align: right;\n",
              "    }\n",
              "</style>\n",
              "<table border=\"1\" class=\"dataframe\">\n",
              "  <thead>\n",
              "    <tr style=\"text-align: right;\">\n",
              "      <th></th>\n",
              "      <th>duration</th>\n",
              "      <th>protocol_type</th>\n",
              "      <th>service</th>\n",
              "      <th>flag</th>\n",
              "      <th>src_bytes</th>\n",
              "      <th>dst_bytes</th>\n",
              "      <th>land</th>\n",
              "      <th>wrong_fragment</th>\n",
              "      <th>urgent</th>\n",
              "      <th>hot</th>\n",
              "      <th>...</th>\n",
              "      <th>dst_host_srv_count</th>\n",
              "      <th>dst_host_same_srv_rate</th>\n",
              "      <th>dst_host_diff_srv_rate</th>\n",
              "      <th>dst_host_same_src_port_rate</th>\n",
              "      <th>dst_host_srv_diff_host_rate</th>\n",
              "      <th>dst_host_serror_rate</th>\n",
              "      <th>dst_host_srv_serror_rate</th>\n",
              "      <th>dst_host_rerror_rate</th>\n",
              "      <th>dst_host_srv_rerror_rate</th>\n",
              "      <th>class</th>\n",
              "    </tr>\n",
              "  </thead>\n",
              "  <tbody>\n",
              "    <tr>\n",
              "      <th>0</th>\n",
              "      <td>0</td>\n",
              "      <td>tcp</td>\n",
              "      <td>private</td>\n",
              "      <td>REJ</td>\n",
              "      <td>0</td>\n",
              "      <td>0</td>\n",
              "      <td>0</td>\n",
              "      <td>0</td>\n",
              "      <td>0</td>\n",
              "      <td>0</td>\n",
              "      <td>...</td>\n",
              "      <td>10</td>\n",
              "      <td>0.04</td>\n",
              "      <td>0.06</td>\n",
              "      <td>0.00</td>\n",
              "      <td>0.00</td>\n",
              "      <td>0.0</td>\n",
              "      <td>0.0</td>\n",
              "      <td>1.00</td>\n",
              "      <td>1.00</td>\n",
              "      <td>anomaly</td>\n",
              "    </tr>\n",
              "    <tr>\n",
              "      <th>1</th>\n",
              "      <td>0</td>\n",
              "      <td>tcp</td>\n",
              "      <td>private</td>\n",
              "      <td>REJ</td>\n",
              "      <td>0</td>\n",
              "      <td>0</td>\n",
              "      <td>0</td>\n",
              "      <td>0</td>\n",
              "      <td>0</td>\n",
              "      <td>0</td>\n",
              "      <td>...</td>\n",
              "      <td>1</td>\n",
              "      <td>0.00</td>\n",
              "      <td>0.06</td>\n",
              "      <td>0.00</td>\n",
              "      <td>0.00</td>\n",
              "      <td>0.0</td>\n",
              "      <td>0.0</td>\n",
              "      <td>1.00</td>\n",
              "      <td>1.00</td>\n",
              "      <td>anomaly</td>\n",
              "    </tr>\n",
              "    <tr>\n",
              "      <th>2</th>\n",
              "      <td>2</td>\n",
              "      <td>tcp</td>\n",
              "      <td>ftp_data</td>\n",
              "      <td>SF</td>\n",
              "      <td>12983</td>\n",
              "      <td>0</td>\n",
              "      <td>0</td>\n",
              "      <td>0</td>\n",
              "      <td>0</td>\n",
              "      <td>0</td>\n",
              "      <td>...</td>\n",
              "      <td>86</td>\n",
              "      <td>0.61</td>\n",
              "      <td>0.04</td>\n",
              "      <td>0.61</td>\n",
              "      <td>0.02</td>\n",
              "      <td>0.0</td>\n",
              "      <td>0.0</td>\n",
              "      <td>0.00</td>\n",
              "      <td>0.00</td>\n",
              "      <td>normal</td>\n",
              "    </tr>\n",
              "    <tr>\n",
              "      <th>3</th>\n",
              "      <td>0</td>\n",
              "      <td>icmp</td>\n",
              "      <td>eco_i</td>\n",
              "      <td>SF</td>\n",
              "      <td>20</td>\n",
              "      <td>0</td>\n",
              "      <td>0</td>\n",
              "      <td>0</td>\n",
              "      <td>0</td>\n",
              "      <td>0</td>\n",
              "      <td>...</td>\n",
              "      <td>57</td>\n",
              "      <td>1.00</td>\n",
              "      <td>0.00</td>\n",
              "      <td>1.00</td>\n",
              "      <td>0.28</td>\n",
              "      <td>0.0</td>\n",
              "      <td>0.0</td>\n",
              "      <td>0.00</td>\n",
              "      <td>0.00</td>\n",
              "      <td>anomaly</td>\n",
              "    </tr>\n",
              "    <tr>\n",
              "      <th>4</th>\n",
              "      <td>1</td>\n",
              "      <td>tcp</td>\n",
              "      <td>telnet</td>\n",
              "      <td>RSTO</td>\n",
              "      <td>0</td>\n",
              "      <td>15</td>\n",
              "      <td>0</td>\n",
              "      <td>0</td>\n",
              "      <td>0</td>\n",
              "      <td>0</td>\n",
              "      <td>...</td>\n",
              "      <td>86</td>\n",
              "      <td>0.31</td>\n",
              "      <td>0.17</td>\n",
              "      <td>0.03</td>\n",
              "      <td>0.02</td>\n",
              "      <td>0.0</td>\n",
              "      <td>0.0</td>\n",
              "      <td>0.83</td>\n",
              "      <td>0.71</td>\n",
              "      <td>anomaly</td>\n",
              "    </tr>\n",
              "  </tbody>\n",
              "</table>\n",
              "<p>5 rows × 40 columns</p>\n",
              "</div>\n",
              "    <div class=\"colab-df-buttons\">\n",
              "\n",
              "  <div class=\"colab-df-container\">\n",
              "    <button class=\"colab-df-convert\" onclick=\"convertToInteractive('df-e74708d2-86cf-4152-8475-bbcf5d199376')\"\n",
              "            title=\"Convert this dataframe to an interactive table.\"\n",
              "            style=\"display:none;\">\n",
              "\n",
              "  <svg xmlns=\"http://www.w3.org/2000/svg\" height=\"24px\" viewBox=\"0 -960 960 960\">\n",
              "    <path d=\"M120-120v-720h720v720H120Zm60-500h600v-160H180v160Zm220 220h160v-160H400v160Zm0 220h160v-160H400v160ZM180-400h160v-160H180v160Zm440 0h160v-160H620v160ZM180-180h160v-160H180v160Zm440 0h160v-160H620v160Z\"/>\n",
              "  </svg>\n",
              "    </button>\n",
              "\n",
              "  <style>\n",
              "    .colab-df-container {\n",
              "      display:flex;\n",
              "      gap: 12px;\n",
              "    }\n",
              "\n",
              "    .colab-df-convert {\n",
              "      background-color: #E8F0FE;\n",
              "      border: none;\n",
              "      border-radius: 50%;\n",
              "      cursor: pointer;\n",
              "      display: none;\n",
              "      fill: #1967D2;\n",
              "      height: 32px;\n",
              "      padding: 0 0 0 0;\n",
              "      width: 32px;\n",
              "    }\n",
              "\n",
              "    .colab-df-convert:hover {\n",
              "      background-color: #E2EBFA;\n",
              "      box-shadow: 0px 1px 2px rgba(60, 64, 67, 0.3), 0px 1px 3px 1px rgba(60, 64, 67, 0.15);\n",
              "      fill: #174EA6;\n",
              "    }\n",
              "\n",
              "    .colab-df-buttons div {\n",
              "      margin-bottom: 4px;\n",
              "    }\n",
              "\n",
              "    [theme=dark] .colab-df-convert {\n",
              "      background-color: #3B4455;\n",
              "      fill: #D2E3FC;\n",
              "    }\n",
              "\n",
              "    [theme=dark] .colab-df-convert:hover {\n",
              "      background-color: #434B5C;\n",
              "      box-shadow: 0px 1px 3px 1px rgba(0, 0, 0, 0.15);\n",
              "      filter: drop-shadow(0px 1px 2px rgba(0, 0, 0, 0.3));\n",
              "      fill: #FFFFFF;\n",
              "    }\n",
              "  </style>\n",
              "\n",
              "    <script>\n",
              "      const buttonEl =\n",
              "        document.querySelector('#df-e74708d2-86cf-4152-8475-bbcf5d199376 button.colab-df-convert');\n",
              "      buttonEl.style.display =\n",
              "        google.colab.kernel.accessAllowed ? 'block' : 'none';\n",
              "\n",
              "      async function convertToInteractive(key) {\n",
              "        const element = document.querySelector('#df-e74708d2-86cf-4152-8475-bbcf5d199376');\n",
              "        const dataTable =\n",
              "          await google.colab.kernel.invokeFunction('convertToInteractive',\n",
              "                                                    [key], {});\n",
              "        if (!dataTable) return;\n",
              "\n",
              "        const docLinkHtml = 'Like what you see? Visit the ' +\n",
              "          '<a target=\"_blank\" href=https://colab.research.google.com/notebooks/data_table.ipynb>data table notebook</a>'\n",
              "          + ' to learn more about interactive tables.';\n",
              "        element.innerHTML = '';\n",
              "        dataTable['output_type'] = 'display_data';\n",
              "        await google.colab.output.renderOutput(dataTable, element);\n",
              "        const docLink = document.createElement('div');\n",
              "        docLink.innerHTML = docLinkHtml;\n",
              "        element.appendChild(docLink);\n",
              "      }\n",
              "    </script>\n",
              "  </div>\n",
              "\n",
              "\n",
              "<div id=\"df-711a3ff0-c442-49df-951d-7f79d4b49421\">\n",
              "  <button class=\"colab-df-quickchart\" onclick=\"quickchart('df-711a3ff0-c442-49df-951d-7f79d4b49421')\"\n",
              "            title=\"Suggest charts.\"\n",
              "            style=\"display:none;\">\n",
              "\n",
              "<svg xmlns=\"http://www.w3.org/2000/svg\" height=\"24px\"viewBox=\"0 0 24 24\"\n",
              "     width=\"24px\">\n",
              "    <g>\n",
              "        <path d=\"M19 3H5c-1.1 0-2 .9-2 2v14c0 1.1.9 2 2 2h14c1.1 0 2-.9 2-2V5c0-1.1-.9-2-2-2zM9 17H7v-7h2v7zm4 0h-2V7h2v10zm4 0h-2v-4h2v4z\"/>\n",
              "    </g>\n",
              "</svg>\n",
              "  </button>\n",
              "\n",
              "<style>\n",
              "  .colab-df-quickchart {\n",
              "    background-color: #E8F0FE;\n",
              "    border: none;\n",
              "    border-radius: 50%;\n",
              "    cursor: pointer;\n",
              "    display: none;\n",
              "    fill: #1967D2;\n",
              "    height: 32px;\n",
              "    padding: 0 0 0 0;\n",
              "    width: 32px;\n",
              "  }\n",
              "\n",
              "  .colab-df-quickchart:hover {\n",
              "    background-color: #E2EBFA;\n",
              "    box-shadow: 0px 1px 2px rgba(60, 64, 67, 0.3), 0px 1px 3px 1px rgba(60, 64, 67, 0.15);\n",
              "    fill: #174EA6;\n",
              "  }\n",
              "\n",
              "  [theme=dark] .colab-df-quickchart {\n",
              "    background-color: #3B4455;\n",
              "    fill: #D2E3FC;\n",
              "  }\n",
              "\n",
              "  [theme=dark] .colab-df-quickchart:hover {\n",
              "    background-color: #434B5C;\n",
              "    box-shadow: 0px 1px 3px 1px rgba(0, 0, 0, 0.15);\n",
              "    filter: drop-shadow(0px 1px 2px rgba(0, 0, 0, 0.3));\n",
              "    fill: #FFFFFF;\n",
              "  }\n",
              "</style>\n",
              "\n",
              "  <script>\n",
              "    async function quickchart(key) {\n",
              "      const charts = await google.colab.kernel.invokeFunction(\n",
              "          'suggestCharts', [key], {});\n",
              "    }\n",
              "    (() => {\n",
              "      let quickchartButtonEl =\n",
              "        document.querySelector('#df-711a3ff0-c442-49df-951d-7f79d4b49421 button');\n",
              "      quickchartButtonEl.style.display =\n",
              "        google.colab.kernel.accessAllowed ? 'block' : 'none';\n",
              "    })();\n",
              "  </script>\n",
              "</div>\n",
              "    </div>\n",
              "  </div>\n"
            ]
          },
          "metadata": {},
          "execution_count": 85
        }
      ]
    },
    {
      "cell_type": "markdown",
      "source": [
        "           b. Printing the description and shape of the dataset."
      ],
      "metadata": {
        "id": "JiPiEw01412q"
      }
    },
    {
      "cell_type": "code",
      "source": [
        "Description = df.describe()\n",
        "Shape = df.shape\n",
        "\n",
        "Description, Shape"
      ],
      "metadata": {
        "colab": {
          "base_uri": "https://localhost:8080/"
        },
        "id": "Psc9oXiI46hx",
        "outputId": "2514288f-1c0a-41e4-def0-67dd51e7c5bd"
      },
      "execution_count": null,
      "outputs": [
        {
          "output_type": "execute_result",
          "data": {
            "text/plain": [
              "(           duration     src_bytes     dst_bytes          land  wrong_fragment  \\\n",
              " count  22544.000000  2.254400e+04  2.254400e+04  22544.000000    22544.000000   \n",
              " mean     218.859076  1.039545e+04  2.056019e+03      0.000311        0.008428   \n",
              " std     1407.176612  4.727864e+05  2.121930e+04      0.017619        0.142599   \n",
              " min        0.000000  0.000000e+00  0.000000e+00      0.000000        0.000000   \n",
              " 25%        0.000000  0.000000e+00  0.000000e+00      0.000000        0.000000   \n",
              " 50%        0.000000  5.400000e+01  4.600000e+01      0.000000        0.000000   \n",
              " 75%        0.000000  2.870000e+02  6.010000e+02      0.000000        0.000000   \n",
              " max    57715.000000  6.282565e+07  1.345927e+06      1.000000        3.000000   \n",
              " \n",
              "              urgent           hot  num_failed_logins     logged_in  \\\n",
              " count  22544.000000  22544.000000       22544.000000  22544.000000   \n",
              " mean       0.000710      0.105394           0.021647      0.442202   \n",
              " std        0.036473      0.928428           0.150328      0.496659   \n",
              " min        0.000000      0.000000           0.000000      0.000000   \n",
              " 25%        0.000000      0.000000           0.000000      0.000000   \n",
              " 50%        0.000000      0.000000           0.000000      0.000000   \n",
              " 75%        0.000000      0.000000           0.000000      1.000000   \n",
              " max        3.000000    101.000000           4.000000      1.000000   \n",
              " \n",
              "        num_compromised  ...  dst_host_count  dst_host_srv_count  \\\n",
              " count     22544.000000  ...    22544.000000        22544.000000   \n",
              " mean          0.119899  ...      193.869411          140.750532   \n",
              " std           7.269597  ...       94.035663          111.783972   \n",
              " min           0.000000  ...        0.000000            0.000000   \n",
              " 25%           0.000000  ...      121.000000           15.000000   \n",
              " 50%           0.000000  ...      255.000000          168.000000   \n",
              " 75%           0.000000  ...      255.000000          255.000000   \n",
              " max         796.000000  ...      255.000000          255.000000   \n",
              " \n",
              "        dst_host_same_srv_rate  dst_host_diff_srv_rate  \\\n",
              " count            22544.000000            22544.000000   \n",
              " mean                 0.608722                0.090540   \n",
              " std                  0.435688                0.220717   \n",
              " min                  0.000000                0.000000   \n",
              " 25%                  0.070000                0.000000   \n",
              " 50%                  0.920000                0.010000   \n",
              " 75%                  1.000000                0.060000   \n",
              " max                  1.000000                1.000000   \n",
              " \n",
              "        dst_host_same_src_port_rate  dst_host_srv_diff_host_rate  \\\n",
              " count                 22544.000000                 22544.000000   \n",
              " mean                      0.132261                     0.019638   \n",
              " std                       0.306268                     0.085394   \n",
              " min                       0.000000                     0.000000   \n",
              " 25%                       0.000000                     0.000000   \n",
              " 50%                       0.000000                     0.000000   \n",
              " 75%                       0.030000                     0.010000   \n",
              " max                       1.000000                     1.000000   \n",
              " \n",
              "        dst_host_serror_rate  dst_host_srv_serror_rate  dst_host_rerror_rate  \\\n",
              " count          22544.000000              22544.000000          22544.000000   \n",
              " mean               0.097814                  0.099426              0.233385   \n",
              " std                0.273139                  0.281866              0.387229   \n",
              " min                0.000000                  0.000000              0.000000   \n",
              " 25%                0.000000                  0.000000              0.000000   \n",
              " 50%                0.000000                  0.000000              0.000000   \n",
              " 75%                0.000000                  0.000000              0.360000   \n",
              " max                1.000000                  1.000000              1.000000   \n",
              " \n",
              "        dst_host_srv_rerror_rate  \n",
              " count              22544.000000  \n",
              " mean                   0.226683  \n",
              " std                    0.400875  \n",
              " min                    0.000000  \n",
              " 25%                    0.000000  \n",
              " 50%                    0.000000  \n",
              " 75%                    0.170000  \n",
              " max                    1.000000  \n",
              " \n",
              " [8 rows x 36 columns],\n",
              " (22544, 40))"
            ]
          },
          "metadata": {},
          "execution_count": 86
        }
      ]
    },
    {
      "cell_type": "markdown",
      "source": [
        "**describe()** provides statistical details for each numerical column, such as the mean, standard deviation, minimum, 25th percentile, median (50th percentile), 75th percentile, and maximum of the dataset.\n",
        "\n",
        "**.shape**: It describes the distribution (or pattern) of the data within a dataset."
      ],
      "metadata": {
        "id": "-1GliolU5h7k"
      }
    },
    {
      "cell_type": "markdown",
      "source": [
        "       c. Let's provide appropriate visualization to get an insight about the dataset.\n",
        "\n",
        "           Starting with the distribution of the target variable (class)."
      ],
      "metadata": {
        "id": "-fmZhH4K7lFR"
      }
    },
    {
      "cell_type": "code",
      "source": [
        "# Visualization of the target variable 'class'\n",
        "plt.figure(figsize=(8, 6))\n",
        "sns.countplot(data=df, x='class')\n",
        "plt.title(\"Distribution of Target Variable 'class'\")\n",
        "plt.show()"
      ],
      "metadata": {
        "colab": {
          "base_uri": "https://localhost:8080/",
          "height": 564
        },
        "id": "FQIGg4Zg72HX",
        "outputId": "81ea0435-a874-41b6-f181-5336d82f1bda"
      },
      "execution_count": null,
      "outputs": [
        {
          "output_type": "display_data",
          "data": {
            "text/plain": [
              "<Figure size 800x600 with 1 Axes>"
            ],
            "image/png": "[encoded data removed]"
          },
          "metadata": {}
        }
      ]
    },
    {
      "cell_type": "markdown",
      "source": [
        "As per the above visualization, The dataset seems to have a significant number of \"**anomaly**\" classes compared to \"**normal**\" classes, indicating an **imbalance** in the class distribution."
      ],
      "metadata": {
        "id": "-t533VcZ8Ckl"
      }
    },
    {
      "cell_type": "markdown",
      "source": [
        "          d. Exploring the data to draw further insights.\n",
        "             Let's analyze the distribution of categorical features like flag, services and protocol_type which might provide us some insights about the dataset."
      ],
      "metadata": {
        "id": "varFgpGX8nnX"
      }
    },
    {
      "cell_type": "code",
      "source": [
        "# Visualization of categorical features\n",
        "\n",
        "figure, axis = plt.subplots(nrows=3, figsize=(18, 21))\n",
        "\n",
        "# Flag distribution\n",
        "sns.countplot(data=df, x='flag', hue='class', ax=axis[0])\n",
        "axis[2].set_title('DISTRIBUTION BASED ON Flag.')\n",
        "\n",
        "# Service distribution\n",
        "sns.countplot(data=df, x='service', hue='class', ax=axis[1])\n",
        "axis[1].set_title('DISTRIBUTION BASED ON Service.')\n",
        "axis[1].tick_params(axis='x', rotation=90)  # Rotating x-axis labels for clarity\n",
        "\n",
        "# Protocol Type distribution\n",
        "sns.countplot(data=df, x='protocol_type', hue='class', ax=axis[2])\n",
        "axis[0].set_title('DISTRIBUTION BASED ON Protocol Type.')\n",
        "\n",
        "plt.tight_layout()\n",
        "plt.show()"
      ],
      "metadata": {
        "colab": {
          "base_uri": "https://localhost:8080/",
          "height": 1000
        },
        "id": "189W1v0O8qAd",
        "outputId": "80f8e43b-092e-4231-f75b-3f05649c1101"
      },
      "execution_count": null,
      "outputs": [
        {
          "output_type": "display_data",
          "data": {
            "text/plain": [
              "<Figure size 1800x2100 with 3 Axes>"
            ],
            "image/png": "[encoded data removed]"
          },
          "metadata": {}
        }
      ]
    },
    {
      "cell_type": "markdown",
      "source": [
        "Observations from Visualizations:"
      ],
      "metadata": {
        "id": "I1q7QLVS91fG"
      }
    },
    {
      "cell_type": "markdown",
      "source": [
        "   Flag: We can see that Flag like **SF** have an equal amount of normal and anomalous traffic, whereas **REJ** and **RSTO** have a predominance of aberrant traffic. Given that these features may significantly affect the predictive ability of our models, they can be helpful for feature selection and model construction."
      ],
      "metadata": {
        "id": "Cn3tCWmeX0jQ"
      }
    },
    {
      "cell_type": "markdown",
      "source": [
        "Service: There are a lot of anomolies with some services, such as **private**, **eco_i**, and **http_443**."
      ],
      "metadata": {
        "id": "Ps1pNDCeYKFO"
      }
    },
    {
      "cell_type": "markdown",
      "source": [
        "Protocol Type: The TCP protocol exhibits the majority of the anamolies. Although they occur less frequently than their regular traffic, **ICMP** and **UDP** also experience anomalies."
      ],
      "metadata": {
        "id": "7xiiqRBHYjKJ"
      }
    },
    {
      "cell_type": "markdown",
      "source": [
        "**3. Data Pre-processing and cleaning**\n",
        "\n",
        "      a. Pre-processing the data: Identifing missing values, NULL values if any and handing outliers and skewed data if present."
      ],
      "metadata": {
        "id": "dNLvdknKZGCv"
      }
    },
    {
      "cell_type": "code",
      "source": [
        "# Checking for missing values\n",
        "Missing_values = df.isnull().sum()\n",
        "\n",
        "# Describing the data to identify potential outliers and skewed data if any\n",
        "Data_description = df.describe()\n",
        "\n",
        "Missing_values, Data_description\n"
      ],
      "metadata": {
        "colab": {
          "base_uri": "https://localhost:8080/"
        },
        "id": "xUSwyaz8a4gG",
        "outputId": "2e9b4b33-8755-43ed-b992-c290684a0a51"
      },
      "execution_count": null,
      "outputs": [
        {
          "output_type": "execute_result",
          "data": {
            "text/plain": [
              "(duration                        0\n",
              " protocol_type                   0\n",
              " service                         0\n",
              " flag                            0\n",
              " src_bytes                       0\n",
              " dst_bytes                       0\n",
              " land                            0\n",
              " wrong_fragment                  0\n",
              " urgent                          0\n",
              " hot                             0\n",
              " num_failed_logins               0\n",
              " logged_in                       0\n",
              " num_compromised                 0\n",
              " root_shell                      0\n",
              " su_attempted                    0\n",
              " num_root                        0\n",
              " num_file_creations              0\n",
              " num_shells                      0\n",
              " num_access_files                0\n",
              " is_guest_login                  0\n",
              " count                          18\n",
              " srv_count                      13\n",
              " serror_rate                     0\n",
              " srv_serror_rate                 0\n",
              " rerror_rate                     0\n",
              " srv_rerror_rate                 0\n",
              " same_srv_rate                   0\n",
              " diff_srv_rate                   0\n",
              " srv_diff_host_rate              0\n",
              " dst_host_count                  0\n",
              " dst_host_srv_count              0\n",
              " dst_host_same_srv_rate          0\n",
              " dst_host_diff_srv_rate          0\n",
              " dst_host_same_src_port_rate     0\n",
              " dst_host_srv_diff_host_rate     0\n",
              " dst_host_serror_rate            0\n",
              " dst_host_srv_serror_rate        0\n",
              " dst_host_rerror_rate            0\n",
              " dst_host_srv_rerror_rate        0\n",
              " class                           0\n",
              " dtype: int64,\n",
              "            duration     src_bytes     dst_bytes          land  wrong_fragment  \\\n",
              " count  22544.000000  2.254400e+04  2.254400e+04  22544.000000    22544.000000   \n",
              " mean     218.859076  1.039545e+04  2.056019e+03      0.000311        0.008428   \n",
              " std     1407.176612  4.727864e+05  2.121930e+04      0.017619        0.142599   \n",
              " min        0.000000  0.000000e+00  0.000000e+00      0.000000        0.000000   \n",
              " 25%        0.000000  0.000000e+00  0.000000e+00      0.000000        0.000000   \n",
              " 50%        0.000000  5.400000e+01  4.600000e+01      0.000000        0.000000   \n",
              " 75%        0.000000  2.870000e+02  6.010000e+02      0.000000        0.000000   \n",
              " max    57715.000000  6.282565e+07  1.345927e+06      1.000000        3.000000   \n",
              " \n",
              "              urgent           hot  num_failed_logins     logged_in  \\\n",
              " count  22544.000000  22544.000000       22544.000000  22544.000000   \n",
              " mean       0.000710      0.105394           0.021647      0.442202   \n",
              " std        0.036473      0.928428           0.150328      0.496659   \n",
              " min        0.000000      0.000000           0.000000      0.000000   \n",
              " 25%        0.000000      0.000000           0.000000      0.000000   \n",
              " 50%        0.000000      0.000000           0.000000      0.000000   \n",
              " 75%        0.000000      0.000000           0.000000      1.000000   \n",
              " max        3.000000    101.000000           4.000000      1.000000   \n",
              " \n",
              "        num_compromised  ...  dst_host_count  dst_host_srv_count  \\\n",
              " count     22544.000000  ...    22544.000000        22544.000000   \n",
              " mean          0.119899  ...      193.869411          140.750532   \n",
              " std           7.269597  ...       94.035663          111.783972   \n",
              " min           0.000000  ...        0.000000            0.000000   \n",
              " 25%           0.000000  ...      121.000000           15.000000   \n",
              " 50%           0.000000  ...      255.000000          168.000000   \n",
              " 75%           0.000000  ...      255.000000          255.000000   \n",
              " max         796.000000  ...      255.000000          255.000000   \n",
              " \n",
              "        dst_host_same_srv_rate  dst_host_diff_srv_rate  \\\n",
              " count            22544.000000            22544.000000   \n",
              " mean                 0.608722                0.090540   \n",
              " std                  0.435688                0.220717   \n",
              " min                  0.000000                0.000000   \n",
              " 25%                  0.070000                0.000000   \n",
              " 50%                  0.920000                0.010000   \n",
              " 75%                  1.000000                0.060000   \n",
              " max                  1.000000                1.000000   \n",
              " \n",
              "        dst_host_same_src_port_rate  dst_host_srv_diff_host_rate  \\\n",
              " count                 22544.000000                 22544.000000   \n",
              " mean                      0.132261                     0.019638   \n",
              " std                       0.306268                     0.085394   \n",
              " min                       0.000000                     0.000000   \n",
              " 25%                       0.000000                     0.000000   \n",
              " 50%                       0.000000                     0.000000   \n",
              " 75%                       0.030000                     0.010000   \n",
              " max                       1.000000                     1.000000   \n",
              " \n",
              "        dst_host_serror_rate  dst_host_srv_serror_rate  dst_host_rerror_rate  \\\n",
              " count          22544.000000              22544.000000          22544.000000   \n",
              " mean               0.097814                  0.099426              0.233385   \n",
              " std                0.273139                  0.281866              0.387229   \n",
              " min                0.000000                  0.000000              0.000000   \n",
              " 25%                0.000000                  0.000000              0.000000   \n",
              " 50%                0.000000                  0.000000              0.000000   \n",
              " 75%                0.000000                  0.000000              0.360000   \n",
              " max                1.000000                  1.000000              1.000000   \n",
              " \n",
              "        dst_host_srv_rerror_rate  \n",
              " count              22544.000000  \n",
              " mean                   0.226683  \n",
              " std                    0.400875  \n",
              " min                    0.000000  \n",
              " 25%                    0.000000  \n",
              " 50%                    0.000000  \n",
              " 75%                    0.170000  \n",
              " max                    1.000000  \n",
              " \n",
              " [8 rows x 36 columns])"
            ]
          },
          "metadata": {},
          "execution_count": 89
        }
      ]
    },
    {
      "cell_type": "markdown",
      "source": [
        "From above analysis,\n",
        "\n",
        "We can see dataset is having missing values in the columns count and srv_count. The description of the dataset indicates that given the difference between the 75th percentile and the maximum values in columns like duration, src_bytes, dst_bytes, and num_compromised, some columns may contain outliers."
      ],
      "metadata": {
        "id": "lgIUKwCZr8gv"
      }
    },
    {
      "cell_type": "markdown",
      "source": [
        "Handling **Missing values** and **Outliers**."
      ],
      "metadata": {
        "id": "by9g4niTsbbg"
      }
    },
    {
      "cell_type": "code",
      "source": [
        "# Handling missing values\n",
        "# We will fill missing values with the median of the respective columns for simplicity\n",
        "df['count'].fillna(df['count'].median(), inplace=True)\n",
        "df['srv_count'].fillna(df['srv_count'].median(), inplace=True)\n",
        "\n",
        "# Handling potential outliers using the Interquartile Range method\n",
        "def remove_outliers(df, column):\n",
        "    Q1 = df[column].quantile(0.25)\n",
        "    Q3 = df[column].quantile(0.75)\n",
        "    IQR = Q3 - Q1\n",
        "    lower_bound = Q1 - 1.5 * IQR\n",
        "    upper_bound = Q3 + 1.5 * IQR\n",
        "    return df[(df[column] >= lower_bound) & (df[column] <= upper_bound)]\n",
        "\n",
        "Columns_To_Check = ['duration', 'src_bytes', 'dst_bytes', 'num_compromised']\n",
        "\n",
        "for column in Columns_To_Check:\n",
        "    df = remove_outliers(df, column)\n",
        "\n",
        "# Verifying the changes after removing outliers\n",
        "Updated_Description = df.describe()\n",
        "\n",
        "Updated_Description\n"
      ],
      "metadata": {
        "colab": {
          "base_uri": "https://localhost:8080/",
          "height": 349
        },
        "id": "7itK8wr2s6vP",
        "outputId": "08f639f3-9225-460c-be1c-66694b950c5c"
      },
      "execution_count": null,
      "outputs": [
        {
          "output_type": "execute_result",
          "data": {
            "text/plain": [
              "       duration     src_bytes     dst_bytes          land  wrong_fragment  \\\n",
              "count   14833.0  14833.000000  14833.000000  14833.000000    14833.000000   \n",
              "mean        0.0     89.684487    255.293602      0.000472        0.009371   \n",
              "std         0.0    126.714732    491.066913      0.021719        0.165794   \n",
              "min         0.0      0.000000      0.000000      0.000000        0.000000   \n",
              "25%         0.0      0.000000      0.000000      0.000000        0.000000   \n",
              "50%         0.0      5.000000      0.000000      0.000000        0.000000   \n",
              "75%         0.0    205.000000    255.000000      0.000000        0.000000   \n",
              "max         0.0    663.000000   2250.000000      1.000000        3.000000   \n",
              "\n",
              "        urgent           hot  num_failed_logins     logged_in  \\\n",
              "count  14833.0  14833.000000       14833.000000  14833.000000   \n",
              "mean       0.0      0.000876           0.029933      0.276006   \n",
              "std        0.0      0.039369           0.170409      0.447035   \n",
              "min        0.0      0.000000           0.000000      0.000000   \n",
              "25%        0.0      0.000000           0.000000      0.000000   \n",
              "50%        0.0      0.000000           0.000000      0.000000   \n",
              "75%        0.0      0.000000           0.000000      1.000000   \n",
              "max        0.0      2.000000           1.000000      1.000000   \n",
              "\n",
              "       num_compromised  ...  dst_host_count  dst_host_srv_count  \\\n",
              "count          14833.0  ...    14833.000000        14833.000000   \n",
              "mean               0.0  ...      204.597856          120.531787   \n",
              "std                0.0  ...       88.366102          114.970988   \n",
              "min                0.0  ...        1.000000            1.000000   \n",
              "25%                0.0  ...      184.000000            9.000000   \n",
              "50%                0.0  ...      255.000000           63.000000   \n",
              "75%                0.0  ...      255.000000          255.000000   \n",
              "max                0.0  ...      255.000000          255.000000   \n",
              "\n",
              "       dst_host_same_srv_rate  dst_host_diff_srv_rate  \\\n",
              "count            14833.000000            14833.000000   \n",
              "mean                 0.517255                0.111849   \n",
              "std                  0.458654                0.249347   \n",
              "min                  0.000000                0.000000   \n",
              "25%                  0.040000                0.000000   \n",
              "50%                  0.450000                0.020000   \n",
              "75%                  1.000000                0.070000   \n",
              "max                  1.000000                1.000000   \n",
              "\n",
              "       dst_host_same_src_port_rate  dst_host_srv_diff_host_rate  \\\n",
              "count                 14833.000000                 14833.000000   \n",
              "mean                      0.130024                     0.019670   \n",
              "std                       0.306961                     0.094657   \n",
              "min                       0.000000                     0.000000   \n",
              "25%                       0.000000                     0.000000   \n",
              "50%                       0.000000                     0.000000   \n",
              "75%                       0.020000                     0.000000   \n",
              "max                       1.000000                     1.000000   \n",
              "\n",
              "       dst_host_serror_rate  dst_host_srv_serror_rate  dst_host_rerror_rate  \\\n",
              "count          14833.000000              14833.000000          14833.000000   \n",
              "mean               0.132467                  0.136470              0.302679   \n",
              "std                0.320283                  0.331082              0.433631   \n",
              "min                0.000000                  0.000000              0.000000   \n",
              "25%                0.000000                  0.000000              0.000000   \n",
              "50%                0.000000                  0.000000              0.000000   \n",
              "75%                0.000000                  0.000000              0.880000   \n",
              "max                1.000000                  1.000000              1.000000   \n",
              "\n",
              "       dst_host_srv_rerror_rate  \n",
              "count              14833.000000  \n",
              "mean                   0.313522  \n",
              "std                    0.452416  \n",
              "min                    0.000000  \n",
              "25%                    0.000000  \n",
              "50%                    0.000000  \n",
              "75%                    1.000000  \n",
              "max                    1.000000  \n",
              "\n",
              "[8 rows x 36 columns]"
            ],
            "text/html": [
              "\n",
              "  <div id=\"df-600d726c-153c-4848-b338-f7b0baf5ec60\" class=\"colab-df-container\">\n",
              "    <div>\n",
              "<style scoped>\n",
              "    .dataframe tbody tr th:only-of-type {\n",
              "        vertical-align: middle;\n",
              "    }\n",
              "\n",
              "    .dataframe tbody tr th {\n",
              "        vertical-align: top;\n",
              "    }\n",
              "\n",
              "    .dataframe thead th {\n",
              "        text-align: right;\n",
              "    }\n",
              "</style>\n",
              "<table border=\"1\" class=\"dataframe\">\n",
              "  <thead>\n",
              "    <tr style=\"text-align: right;\">\n",
              "      <th></th>\n",
              "      <th>duration</th>\n",
              "      <th>src_bytes</th>\n",
              "      <th>dst_bytes</th>\n",
              "      <th>land</th>\n",
              "      <th>wrong_fragment</th>\n",
              "      <th>urgent</th>\n",
              "      <th>hot</th>\n",
              "      <th>num_failed_logins</th>\n",
              "      <th>logged_in</th>\n",
              "      <th>num_compromised</th>\n",
              "      <th>...</th>\n",
              "      <th>dst_host_count</th>\n",
              "      <th>dst_host_srv_count</th>\n",
              "      <th>dst_host_same_srv_rate</th>\n",
              "      <th>dst_host_diff_srv_rate</th>\n",
              "      <th>dst_host_same_src_port_rate</th>\n",
              "      <th>dst_host_srv_diff_host_rate</th>\n",
              "      <th>dst_host_serror_rate</th>\n",
              "      <th>dst_host_srv_serror_rate</th>\n",
              "      <th>dst_host_rerror_rate</th>\n",
              "      <th>dst_host_srv_rerror_rate</th>\n",
              "    </tr>\n",
              "  </thead>\n",
              "  <tbody>\n",
              "    <tr>\n",
              "      <th>count</th>\n",
              "      <td>14833.0</td>\n",
              "      <td>14833.000000</td>\n",
              "      <td>14833.000000</td>\n",
              "      <td>14833.000000</td>\n",
              "      <td>14833.000000</td>\n",
              "      <td>14833.0</td>\n",
              "      <td>14833.000000</td>\n",
              "      <td>14833.000000</td>\n",
              "      <td>14833.000000</td>\n",
              "      <td>14833.0</td>\n",
              "      <td>...</td>\n",
              "      <td>14833.000000</td>\n",
              "      <td>14833.000000</td>\n",
              "      <td>14833.000000</td>\n",
              "      <td>14833.000000</td>\n",
              "      <td>14833.000000</td>\n",
              "      <td>14833.000000</td>\n",
              "      <td>14833.000000</td>\n",
              "      <td>14833.000000</td>\n",
              "      <td>14833.000000</td>\n",
              "      <td>14833.000000</td>\n",
              "    </tr>\n",
              "    <tr>\n",
              "      <th>mean</th>\n",
              "      <td>0.0</td>\n",
              "      <td>89.684487</td>\n",
              "      <td>255.293602</td>\n",
              "      <td>0.000472</td>\n",
              "      <td>0.009371</td>\n",
              "      <td>0.0</td>\n",
              "      <td>0.000876</td>\n",
              "      <td>0.029933</td>\n",
              "      <td>0.276006</td>\n",
              "      <td>0.0</td>\n",
              "      <td>...</td>\n",
              "      <td>204.597856</td>\n",
              "      <td>120.531787</td>\n",
              "      <td>0.517255</td>\n",
              "      <td>0.111849</td>\n",
              "      <td>0.130024</td>\n",
              "      <td>0.019670</td>\n",
              "      <td>0.132467</td>\n",
              "      <td>0.136470</td>\n",
              "      <td>0.302679</td>\n",
              "      <td>0.313522</td>\n",
              "    </tr>\n",
              "    <tr>\n",
              "      <th>std</th>\n",
              "      <td>0.0</td>\n",
              "      <td>126.714732</td>\n",
              "      <td>491.066913</td>\n",
              "      <td>0.021719</td>\n",
              "      <td>0.165794</td>\n",
              "      <td>0.0</td>\n",
              "      <td>0.039369</td>\n",
              "      <td>0.170409</td>\n",
              "      <td>0.447035</td>\n",
              "      <td>0.0</td>\n",
              "      <td>...</td>\n",
              "      <td>88.366102</td>\n",
              "      <td>114.970988</td>\n",
              "      <td>0.458654</td>\n",
              "      <td>0.249347</td>\n",
              "      <td>0.306961</td>\n",
              "      <td>0.094657</td>\n",
              "      <td>0.320283</td>\n",
              "      <td>0.331082</td>\n",
              "      <td>0.433631</td>\n",
              "      <td>0.452416</td>\n",
              "    </tr>\n",
              "    <tr>\n",
              "      <th>min</th>\n",
              "      <td>0.0</td>\n",
              "      <td>0.000000</td>\n",
              "      <td>0.000000</td>\n",
              "      <td>0.000000</td>\n",
              "      <td>0.000000</td>\n",
              "      <td>0.0</td>\n",
              "      <td>0.000000</td>\n",
              "      <td>0.000000</td>\n",
              "      <td>0.000000</td>\n",
              "      <td>0.0</td>\n",
              "      <td>...</td>\n",
              "      <td>1.000000</td>\n",
              "      <td>1.000000</td>\n",
              "      <td>0.000000</td>\n",
              "      <td>0.000000</td>\n",
              "      <td>0.000000</td>\n",
              "      <td>0.000000</td>\n",
              "      <td>0.000000</td>\n",
              "      <td>0.000000</td>\n",
              "      <td>0.000000</td>\n",
              "      <td>0.000000</td>\n",
              "    </tr>\n",
              "    <tr>\n",
              "      <th>25%</th>\n",
              "      <td>0.0</td>\n",
              "      <td>0.000000</td>\n",
              "      <td>0.000000</td>\n",
              "      <td>0.000000</td>\n",
              "      <td>0.000000</td>\n",
              "      <td>0.0</td>\n",
              "      <td>0.000000</td>\n",
              "      <td>0.000000</td>\n",
              "      <td>0.000000</td>\n",
              "      <td>0.0</td>\n",
              "      <td>...</td>\n",
              "      <td>184.000000</td>\n",
              "      <td>9.000000</td>\n",
              "      <td>0.040000</td>\n",
              "      <td>0.000000</td>\n",
              "      <td>0.000000</td>\n",
              "      <td>0.000000</td>\n",
              "      <td>0.000000</td>\n",
              "      <td>0.000000</td>\n",
              "      <td>0.000000</td>\n",
              "      <td>0.000000</td>\n",
              "    </tr>\n",
              "    <tr>\n",
              "      <th>50%</th>\n",
              "      <td>0.0</td>\n",
              "      <td>5.000000</td>\n",
              "      <td>0.000000</td>\n",
              "      <td>0.000000</td>\n",
              "      <td>0.000000</td>\n",
              "      <td>0.0</td>\n",
              "      <td>0.000000</td>\n",
              "      <td>0.000000</td>\n",
              "      <td>0.000000</td>\n",
              "      <td>0.0</td>\n",
              "      <td>...</td>\n",
              "      <td>255.000000</td>\n",
              "      <td>63.000000</td>\n",
              "      <td>0.450000</td>\n",
              "      <td>0.020000</td>\n",
              "      <td>0.000000</td>\n",
              "      <td>0.000000</td>\n",
              "      <td>0.000000</td>\n",
              "      <td>0.000000</td>\n",
              "      <td>0.000000</td>\n",
              "      <td>0.000000</td>\n",
              "    </tr>\n",
              "    <tr>\n",
              "      <th>75%</th>\n",
              "      <td>0.0</td>\n",
              "      <td>205.000000</td>\n",
              "      <td>255.000000</td>\n",
              "      <td>0.000000</td>\n",
              "      <td>0.000000</td>\n",
              "      <td>0.0</td>\n",
              "      <td>0.000000</td>\n",
              "      <td>0.000000</td>\n",
              "      <td>1.000000</td>\n",
              "      <td>0.0</td>\n",
              "      <td>...</td>\n",
              "      <td>255.000000</td>\n",
              "      <td>255.000000</td>\n",
              "      <td>1.000000</td>\n",
              "      <td>0.070000</td>\n",
              "      <td>0.020000</td>\n",
              "      <td>0.000000</td>\n",
              "      <td>0.000000</td>\n",
              "      <td>0.000000</td>\n",
              "      <td>0.880000</td>\n",
              "      <td>1.000000</td>\n",
              "    </tr>\n",
              "    <tr>\n",
              "      <th>max</th>\n",
              "      <td>0.0</td>\n",
              "      <td>663.000000</td>\n",
              "      <td>2250.000000</td>\n",
              "      <td>1.000000</td>\n",
              "      <td>3.000000</td>\n",
              "      <td>0.0</td>\n",
              "      <td>2.000000</td>\n",
              "      <td>1.000000</td>\n",
              "      <td>1.000000</td>\n",
              "      <td>0.0</td>\n",
              "      <td>...</td>\n",
              "      <td>255.000000</td>\n",
              "      <td>255.000000</td>\n",
              "      <td>1.000000</td>\n",
              "      <td>1.000000</td>\n",
              "      <td>1.000000</td>\n",
              "      <td>1.000000</td>\n",
              "      <td>1.000000</td>\n",
              "      <td>1.000000</td>\n",
              "      <td>1.000000</td>\n",
              "      <td>1.000000</td>\n",
              "    </tr>\n",
              "  </tbody>\n",
              "</table>\n",
              "<p>8 rows × 36 columns</p>\n",
              "</div>\n",
              "    <div class=\"colab-df-buttons\">\n",
              "\n",
              "  <div class=\"colab-df-container\">\n",
              "    <button class=\"colab-df-convert\" onclick=\"convertToInteractive('df-600d726c-153c-4848-b338-f7b0baf5ec60')\"\n",
              "            title=\"Convert this dataframe to an interactive table.\"\n",
              "            style=\"display:none;\">\n",
              "\n",
              "  <svg xmlns=\"http://www.w3.org/2000/svg\" height=\"24px\" viewBox=\"0 -960 960 960\">\n",
              "    <path d=\"M120-120v-720h720v720H120Zm60-500h600v-160H180v160Zm220 220h160v-160H400v160Zm0 220h160v-160H400v160ZM180-400h160v-160H180v160Zm440 0h160v-160H620v160ZM180-180h160v-160H180v160Zm440 0h160v-160H620v160Z\"/>\n",
              "  </svg>\n",
              "    </button>\n",
              "\n",
              "  <style>\n",
              "    .colab-df-container {\n",
              "      display:flex;\n",
              "      gap: 12px;\n",
              "    }\n",
              "\n",
              "    .colab-df-convert {\n",
              "      background-color: #E8F0FE;\n",
              "      border: none;\n",
              "      border-radius: 50%;\n",
              "      cursor: pointer;\n",
              "      display: none;\n",
              "      fill: #1967D2;\n",
              "      height: 32px;\n",
              "      padding: 0 0 0 0;\n",
              "      width: 32px;\n",
              "    }\n",
              "\n",
              "    .colab-df-convert:hover {\n",
              "      background-color: #E2EBFA;\n",
              "      box-shadow: 0px 1px 2px rgba(60, 64, 67, 0.3), 0px 1px 3px 1px rgba(60, 64, 67, 0.15);\n",
              "      fill: #174EA6;\n",
              "    }\n",
              "\n",
              "    .colab-df-buttons div {\n",
              "      margin-bottom: 4px;\n",
              "    }\n",
              "\n",
              "    [theme=dark] .colab-df-convert {\n",
              "      background-color: #3B4455;\n",
              "      fill: #D2E3FC;\n",
              "    }\n",
              "\n",
              "    [theme=dark] .colab-df-convert:hover {\n",
              "      background-color: #434B5C;\n",
              "      box-shadow: 0px 1px 3px 1px rgba(0, 0, 0, 0.15);\n",
              "      filter: drop-shadow(0px 1px 2px rgba(0, 0, 0, 0.3));\n",
              "      fill: #FFFFFF;\n",
              "    }\n",
              "  </style>\n",
              "\n",
              "    <script>\n",
              "      const buttonEl =\n",
              "        document.querySelector('#df-600d726c-153c-4848-b338-f7b0baf5ec60 button.colab-df-convert');\n",
              "      buttonEl.style.display =\n",
              "        google.colab.kernel.accessAllowed ? 'block' : 'none';\n",
              "\n",
              "      async function convertToInteractive(key) {\n",
              "        const element = document.querySelector('#df-600d726c-153c-4848-b338-f7b0baf5ec60');\n",
              "        const dataTable =\n",
              "          await google.colab.kernel.invokeFunction('convertToInteractive',\n",
              "                                                    [key], {});\n",
              "        if (!dataTable) return;\n",
              "\n",
              "        const docLinkHtml = 'Like what you see? Visit the ' +\n",
              "          '<a target=\"_blank\" href=https://colab.research.google.com/notebooks/data_table.ipynb>data table notebook</a>'\n",
              "          + ' to learn more about interactive tables.';\n",
              "        element.innerHTML = '';\n",
              "        dataTable['output_type'] = 'display_data';\n",
              "        await google.colab.output.renderOutput(dataTable, element);\n",
              "        const docLink = document.createElement('div');\n",
              "        docLink.innerHTML = docLinkHtml;\n",
              "        element.appendChild(docLink);\n",
              "      }\n",
              "    </script>\n",
              "  </div>\n",
              "\n",
              "\n",
              "<div id=\"df-14d69ffd-e055-4f63-8f8e-f0c3661535e9\">\n",
              "  <button class=\"colab-df-quickchart\" onclick=\"quickchart('df-14d69ffd-e055-4f63-8f8e-f0c3661535e9')\"\n",
              "            title=\"Suggest charts.\"\n",
              "            style=\"display:none;\">\n",
              "\n",
              "<svg xmlns=\"http://www.w3.org/2000/svg\" height=\"24px\"viewBox=\"0 0 24 24\"\n",
              "     width=\"24px\">\n",
              "    <g>\n",
              "        <path d=\"M19 3H5c-1.1 0-2 .9-2 2v14c0 1.1.9 2 2 2h14c1.1 0 2-.9 2-2V5c0-1.1-.9-2-2-2zM9 17H7v-7h2v7zm4 0h-2V7h2v10zm4 0h-2v-4h2v4z\"/>\n",
              "    </g>\n",
              "</svg>\n",
              "  </button>\n",
              "\n",
              "<style>\n",
              "  .colab-df-quickchart {\n",
              "    background-color: #E8F0FE;\n",
              "    border: none;\n",
              "    border-radius: 50%;\n",
              "    cursor: pointer;\n",
              "    display: none;\n",
              "    fill: #1967D2;\n",
              "    height: 32px;\n",
              "    padding: 0 0 0 0;\n",
              "    width: 32px;\n",
              "  }\n",
              "\n",
              "  .colab-df-quickchart:hover {\n",
              "    background-color: #E2EBFA;\n",
              "    box-shadow: 0px 1px 2px rgba(60, 64, 67, 0.3), 0px 1px 3px 1px rgba(60, 64, 67, 0.15);\n",
              "    fill: #174EA6;\n",
              "  }\n",
              "\n",
              "  [theme=dark] .colab-df-quickchart {\n",
              "    background-color: #3B4455;\n",
              "    fill: #D2E3FC;\n",
              "  }\n",
              "\n",
              "  [theme=dark] .colab-df-quickchart:hover {\n",
              "    background-color: #434B5C;\n",
              "    box-shadow: 0px 1px 3px 1px rgba(0, 0, 0, 0.15);\n",
              "    filter: drop-shadow(0px 1px 2px rgba(0, 0, 0, 0.3));\n",
              "    fill: #FFFFFF;\n",
              "  }\n",
              "</style>\n",
              "\n",
              "  <script>\n",
              "    async function quickchart(key) {\n",
              "      const charts = await google.colab.kernel.invokeFunction(\n",
              "          'suggestCharts', [key], {});\n",
              "    }\n",
              "    (() => {\n",
              "      let quickchartButtonEl =\n",
              "        document.querySelector('#df-14d69ffd-e055-4f63-8f8e-f0c3661535e9 button');\n",
              "      quickchartButtonEl.style.display =\n",
              "        google.colab.kernel.accessAllowed ? 'block' : 'none';\n",
              "    })();\n",
              "  </script>\n",
              "</div>\n",
              "    </div>\n",
              "  </div>\n"
            ]
          },
          "metadata": {},
          "execution_count": 90
        }
      ]
    },
    {
      "cell_type": "markdown",
      "source": [
        "        b. Applying Feature transformation technique like standardization and Normalization."
      ],
      "metadata": {
        "id": "Yf1wF3W_vsBV"
      }
    },
    {
      "cell_type": "code",
      "source": [
        "# Encoding the categorical features i.e 'Protocol type, service, flag'\n",
        "\n",
        "label_encoders = {}\n",
        "\n",
        "for col in ['protocol_type', 'service', 'flag']:\n",
        "    lenco = LabelEncoder()\n",
        "    df[col] = lenco.fit_transform(df[column])\n",
        "    label_encoders[col] = lenco\n",
        "\n",
        "# Standardizing the dataset\n",
        "scaler = StandardScaler()\n",
        "scaled_features = scaler.fit_transform(df.drop('class', axis=1))\n",
        "scaled_df = pd.DataFrame(scaled_features, columns=df.columns[:-1])\n",
        "\n",
        "scaled_df.head()"
      ],
      "metadata": {
        "colab": {
          "base_uri": "https://localhost:8080/",
          "height": 255
        },
        "id": "lBx8vaOBwAMi",
        "outputId": "9b4567bf-a414-4d21-af52-8cea733c18b4"
      },
      "execution_count": null,
      "outputs": [
        {
          "output_type": "execute_result",
          "data": {
            "text/plain": [
              "   duration  protocol_type  service  flag  src_bytes  dst_bytes      land  \\\n",
              "0       0.0            0.0      0.0   0.0  -0.707791  -0.519893 -0.021729   \n",
              "1       0.0            0.0      0.0   0.0  -0.707791  -0.519893 -0.021729   \n",
              "2       0.0            0.0      0.0   0.0  -0.549951  -0.519893 -0.021729   \n",
              "3       0.0            0.0      0.0   0.0   0.310278  -0.165550 -0.021729   \n",
              "4       0.0            0.0      0.0   0.0   1.872896   0.431130 -0.021729   \n",
              "\n",
              "   wrong_fragment  urgent       hot  ...  dst_host_count  dst_host_srv_count  \\\n",
              "0       -0.056524     0.0 -0.022262  ...        0.570398           -0.961421   \n",
              "1       -0.056524     0.0 -0.022262  ...        0.570398           -1.039704   \n",
              "2       -0.056524     0.0 -0.022262  ...       -2.281470           -0.552608   \n",
              "3       -0.056524     0.0 -0.022262  ...        0.570398            1.169623   \n",
              "4       -0.056524     0.0 -0.022262  ...       -0.606564            1.169623   \n",
              "\n",
              "   dst_host_same_srv_rate  dst_host_diff_srv_rate  \\\n",
              "0               -1.040591               -0.207947   \n",
              "1               -1.127806               -0.207947   \n",
              "2                1.052560               -0.448583   \n",
              "3                1.052560               -0.448583   \n",
              "4                1.052560               -0.448583   \n",
              "\n",
              "   dst_host_same_src_port_rate  dst_host_srv_diff_host_rate  \\\n",
              "0                    -0.423600                    -0.207813   \n",
              "1                    -0.423600                    -0.207813   \n",
              "2                     2.834254                     2.750329   \n",
              "3                    -0.423600                    -0.207813   \n",
              "4                    -0.391022                     0.109131   \n",
              "\n",
              "   dst_host_serror_rate  dst_host_srv_serror_rate  dst_host_rerror_rate  \\\n",
              "0             -0.413609                 -0.412207              1.608151   \n",
              "1             -0.413609                 -0.412207              1.608151   \n",
              "2             -0.413609                 -0.412207             -0.698034   \n",
              "3             -0.382386                 -0.382002             -0.651910   \n",
              "4             -0.413609                 -0.412207             -0.698034   \n",
              "\n",
              "   dst_host_srv_rerror_rate  \n",
              "0                  1.517410  \n",
              "1                  1.517410  \n",
              "2                 -0.693018  \n",
              "3                 -0.648809  \n",
              "4                 -0.693018  \n",
              "\n",
              "[5 rows x 39 columns]"
            ],
            "text/html": [
              "\n",
              "  <div id=\"df-c77ab78e-fdd0-4e52-9ea3-78c57e092d49\" class=\"colab-df-container\">\n",
              "    <div>\n",
              "<style scoped>\n",
              "    .dataframe tbody tr th:only-of-type {\n",
              "        vertical-align: middle;\n",
              "    }\n",
              "\n",
              "    .dataframe tbody tr th {\n",
              "        vertical-align: top;\n",
              "    }\n",
              "\n",
              "    .dataframe thead th {\n",
              "        text-align: right;\n",
              "    }\n",
              "</style>\n",
              "<table border=\"1\" class=\"dataframe\">\n",
              "  <thead>\n",
              "    <tr style=\"text-align: right;\">\n",
              "      <th></th>\n",
              "      <th>duration</th>\n",
              "      <th>protocol_type</th>\n",
              "      <th>service</th>\n",
              "      <th>flag</th>\n",
              "      <th>src_bytes</th>\n",
              "      <th>dst_bytes</th>\n",
              "      <th>land</th>\n",
              "      <th>wrong_fragment</th>\n",
              "      <th>urgent</th>\n",
              "      <th>hot</th>\n",
              "      <th>...</th>\n",
              "      <th>dst_host_count</th>\n",
              "      <th>dst_host_srv_count</th>\n",
              "      <th>dst_host_same_srv_rate</th>\n",
              "      <th>dst_host_diff_srv_rate</th>\n",
              "      <th>dst_host_same_src_port_rate</th>\n",
              "      <th>dst_host_srv_diff_host_rate</th>\n",
              "      <th>dst_host_serror_rate</th>\n",
              "      <th>dst_host_srv_serror_rate</th>\n",
              "      <th>dst_host_rerror_rate</th>\n",
              "      <th>dst_host_srv_rerror_rate</th>\n",
              "    </tr>\n",
              "  </thead>\n",
              "  <tbody>\n",
              "    <tr>\n",
              "      <th>0</th>\n",
              "      <td>0.0</td>\n",
              "      <td>0.0</td>\n",
              "      <td>0.0</td>\n",
              "      <td>0.0</td>\n",
              "      <td>-0.707791</td>\n",
              "      <td>-0.519893</td>\n",
              "      <td>-0.021729</td>\n",
              "      <td>-0.056524</td>\n",
              "      <td>0.0</td>\n",
              "      <td>-0.022262</td>\n",
              "      <td>...</td>\n",
              "      <td>0.570398</td>\n",
              "      <td>-0.961421</td>\n",
              "      <td>-1.040591</td>\n",
              "      <td>-0.207947</td>\n",
              "      <td>-0.423600</td>\n",
              "      <td>-0.207813</td>\n",
              "      <td>-0.413609</td>\n",
              "      <td>-0.412207</td>\n",
              "      <td>1.608151</td>\n",
              "      <td>1.517410</td>\n",
              "    </tr>\n",
              "    <tr>\n",
              "      <th>1</th>\n",
              "      <td>0.0</td>\n",
              "      <td>0.0</td>\n",
              "      <td>0.0</td>\n",
              "      <td>0.0</td>\n",
              "      <td>-0.707791</td>\n",
              "      <td>-0.519893</td>\n",
              "      <td>-0.021729</td>\n",
              "      <td>-0.056524</td>\n",
              "      <td>0.0</td>\n",
              "      <td>-0.022262</td>\n",
              "      <td>...</td>\n",
              "      <td>0.570398</td>\n",
              "      <td>-1.039704</td>\n",
              "      <td>-1.127806</td>\n",
              "      <td>-0.207947</td>\n",
              "      <td>-0.423600</td>\n",
              "      <td>-0.207813</td>\n",
              "      <td>-0.413609</td>\n",
              "      <td>-0.412207</td>\n",
              "      <td>1.608151</td>\n",
              "      <td>1.517410</td>\n",
              "    </tr>\n",
              "    <tr>\n",
              "      <th>2</th>\n",
              "      <td>0.0</td>\n",
              "      <td>0.0</td>\n",
              "      <td>0.0</td>\n",
              "      <td>0.0</td>\n",
              "      <td>-0.549951</td>\n",
              "      <td>-0.519893</td>\n",
              "      <td>-0.021729</td>\n",
              "      <td>-0.056524</td>\n",
              "      <td>0.0</td>\n",
              "      <td>-0.022262</td>\n",
              "      <td>...</td>\n",
              "      <td>-2.281470</td>\n",
              "      <td>-0.552608</td>\n",
              "      <td>1.052560</td>\n",
              "      <td>-0.448583</td>\n",
              "      <td>2.834254</td>\n",
              "      <td>2.750329</td>\n",
              "      <td>-0.413609</td>\n",
              "      <td>-0.412207</td>\n",
              "      <td>-0.698034</td>\n",
              "      <td>-0.693018</td>\n",
              "    </tr>\n",
              "    <tr>\n",
              "      <th>3</th>\n",
              "      <td>0.0</td>\n",
              "      <td>0.0</td>\n",
              "      <td>0.0</td>\n",
              "      <td>0.0</td>\n",
              "      <td>0.310278</td>\n",
              "      <td>-0.165550</td>\n",
              "      <td>-0.021729</td>\n",
              "      <td>-0.056524</td>\n",
              "      <td>0.0</td>\n",
              "      <td>-0.022262</td>\n",
              "      <td>...</td>\n",
              "      <td>0.570398</td>\n",
              "      <td>1.169623</td>\n",
              "      <td>1.052560</td>\n",
              "      <td>-0.448583</td>\n",
              "      <td>-0.423600</td>\n",
              "      <td>-0.207813</td>\n",
              "      <td>-0.382386</td>\n",
              "      <td>-0.382002</td>\n",
              "      <td>-0.651910</td>\n",
              "      <td>-0.648809</td>\n",
              "    </tr>\n",
              "    <tr>\n",
              "      <th>4</th>\n",
              "      <td>0.0</td>\n",
              "      <td>0.0</td>\n",
              "      <td>0.0</td>\n",
              "      <td>0.0</td>\n",
              "      <td>1.872896</td>\n",
              "      <td>0.431130</td>\n",
              "      <td>-0.021729</td>\n",
              "      <td>-0.056524</td>\n",
              "      <td>0.0</td>\n",
              "      <td>-0.022262</td>\n",
              "      <td>...</td>\n",
              "      <td>-0.606564</td>\n",
              "      <td>1.169623</td>\n",
              "      <td>1.052560</td>\n",
              "      <td>-0.448583</td>\n",
              "      <td>-0.391022</td>\n",
              "      <td>0.109131</td>\n",
              "      <td>-0.413609</td>\n",
              "      <td>-0.412207</td>\n",
              "      <td>-0.698034</td>\n",
              "      <td>-0.693018</td>\n",
              "    </tr>\n",
              "  </tbody>\n",
              "</table>\n",
              "<p>5 rows × 39 columns</p>\n",
              "</div>\n",
              "    <div class=\"colab-df-buttons\">\n",
              "\n",
              "  <div class=\"colab-df-container\">\n",
              "    <button class=\"colab-df-convert\" onclick=\"convertToInteractive('df-c77ab78e-fdd0-4e52-9ea3-78c57e092d49')\"\n",
              "            title=\"Convert this dataframe to an interactive table.\"\n",
              "            style=\"display:none;\">\n",
              "\n",
              "  <svg xmlns=\"http://www.w3.org/2000/svg\" height=\"24px\" viewBox=\"0 -960 960 960\">\n",
              "    <path d=\"M120-120v-720h720v720H120Zm60-500h600v-160H180v160Zm220 220h160v-160H400v160Zm0 220h160v-160H400v160ZM180-400h160v-160H180v160Zm440 0h160v-160H620v160ZM180-180h160v-160H180v160Zm440 0h160v-160H620v160Z\"/>\n",
              "  </svg>\n",
              "    </button>\n",
              "\n",
              "  <style>\n",
              "    .colab-df-container {\n",
              "      display:flex;\n",
              "      gap: 12px;\n",
              "    }\n",
              "\n",
              "    .colab-df-convert {\n",
              "      background-color: #E8F0FE;\n",
              "      border: none;\n",
              "      border-radius: 50%;\n",
              "      cursor: pointer;\n",
              "      display: none;\n",
              "      fill: #1967D2;\n",
              "      height: 32px;\n",
              "      padding: 0 0 0 0;\n",
              "      width: 32px;\n",
              "    }\n",
              "\n",
              "    .colab-df-convert:hover {\n",
              "      background-color: #E2EBFA;\n",
              "      box-shadow: 0px 1px 2px rgba(60, 64, 67, 0.3), 0px 1px 3px 1px rgba(60, 64, 67, 0.15);\n",
              "      fill: #174EA6;\n",
              "    }\n",
              "\n",
              "    .colab-df-buttons div {\n",
              "      margin-bottom: 4px;\n",
              "    }\n",
              "\n",
              "    [theme=dark] .colab-df-convert {\n",
              "      background-color: #3B4455;\n",
              "      fill: #D2E3FC;\n",
              "    }\n",
              "\n",
              "    [theme=dark] .colab-df-convert:hover {\n",
              "      background-color: #434B5C;\n",
              "      box-shadow: 0px 1px 3px 1px rgba(0, 0, 0, 0.15);\n",
              "      filter: drop-shadow(0px 1px 2px rgba(0, 0, 0, 0.3));\n",
              "      fill: #FFFFFF;\n",
              "    }\n",
              "  </style>\n",
              "\n",
              "    <script>\n",
              "      const buttonEl =\n",
              "        document.querySelector('#df-c77ab78e-fdd0-4e52-9ea3-78c57e092d49 button.colab-df-convert');\n",
              "      buttonEl.style.display =\n",
              "        google.colab.kernel.accessAllowed ? 'block' : 'none';\n",
              "\n",
              "      async function convertToInteractive(key) {\n",
              "        const element = document.querySelector('#df-c77ab78e-fdd0-4e52-9ea3-78c57e092d49');\n",
              "        const dataTable =\n",
              "          await google.colab.kernel.invokeFunction('convertToInteractive',\n",
              "                                                    [key], {});\n",
              "        if (!dataTable) return;\n",
              "\n",
              "        const docLinkHtml = 'Like what you see? Visit the ' +\n",
              "          '<a target=\"_blank\" href=https://colab.research.google.com/notebooks/data_table.ipynb>data table notebook</a>'\n",
              "          + ' to learn more about interactive tables.';\n",
              "        element.innerHTML = '';\n",
              "        dataTable['output_type'] = 'display_data';\n",
              "        await google.colab.output.renderOutput(dataTable, element);\n",
              "        const docLink = document.createElement('div');\n",
              "        docLink.innerHTML = docLinkHtml;\n",
              "        element.appendChild(docLink);\n",
              "      }\n",
              "    </script>\n",
              "  </div>\n",
              "\n",
              "\n",
              "<div id=\"df-95df0076-6f7f-4b08-a2ca-bb376946dd25\">\n",
              "  <button class=\"colab-df-quickchart\" onclick=\"quickchart('df-95df0076-6f7f-4b08-a2ca-bb376946dd25')\"\n",
              "            title=\"Suggest charts.\"\n",
              "            style=\"display:none;\">\n",
              "\n",
              "<svg xmlns=\"http://www.w3.org/2000/svg\" height=\"24px\"viewBox=\"0 0 24 24\"\n",
              "     width=\"24px\">\n",
              "    <g>\n",
              "        <path d=\"M19 3H5c-1.1 0-2 .9-2 2v14c0 1.1.9 2 2 2h14c1.1 0 2-.9 2-2V5c0-1.1-.9-2-2-2zM9 17H7v-7h2v7zm4 0h-2V7h2v10zm4 0h-2v-4h2v4z\"/>\n",
              "    </g>\n",
              "</svg>\n",
              "  </button>\n",
              "\n",
              "<style>\n",
              "  .colab-df-quickchart {\n",
              "    background-color: #E8F0FE;\n",
              "    border: none;\n",
              "    border-radius: 50%;\n",
              "    cursor: pointer;\n",
              "    display: none;\n",
              "    fill: #1967D2;\n",
              "    height: 32px;\n",
              "    padding: 0 0 0 0;\n",
              "    width: 32px;\n",
              "  }\n",
              "\n",
              "  .colab-df-quickchart:hover {\n",
              "    background-color: #E2EBFA;\n",
              "    box-shadow: 0px 1px 2px rgba(60, 64, 67, 0.3), 0px 1px 3px 1px rgba(60, 64, 67, 0.15);\n",
              "    fill: #174EA6;\n",
              "  }\n",
              "\n",
              "  [theme=dark] .colab-df-quickchart {\n",
              "    background-color: #3B4455;\n",
              "    fill: #D2E3FC;\n",
              "  }\n",
              "\n",
              "  [theme=dark] .colab-df-quickchart:hover {\n",
              "    background-color: #434B5C;\n",
              "    box-shadow: 0px 1px 3px 1px rgba(0, 0, 0, 0.15);\n",
              "    filter: drop-shadow(0px 1px 2px rgba(0, 0, 0, 0.3));\n",
              "    fill: #FFFFFF;\n",
              "  }\n",
              "</style>\n",
              "\n",
              "  <script>\n",
              "    async function quickchart(key) {\n",
              "      const charts = await google.colab.kernel.invokeFunction(\n",
              "          'suggestCharts', [key], {});\n",
              "    }\n",
              "    (() => {\n",
              "      let quickchartButtonEl =\n",
              "        document.querySelector('#df-95df0076-6f7f-4b08-a2ca-bb376946dd25 button');\n",
              "      quickchartButtonEl.style.display =\n",
              "        google.colab.kernel.accessAllowed ? 'block' : 'none';\n",
              "    })();\n",
              "  </script>\n",
              "</div>\n",
              "    </div>\n",
              "  </div>\n"
            ]
          },
          "metadata": {},
          "execution_count": 91
        }
      ]
    },
    {
      "cell_type": "markdown",
      "source": [
        "Now the dataset is standardized and categorical features have been encoded."
      ],
      "metadata": {
        "id": "m7I1-5EgLxxM"
      }
    },
    {
      "cell_type": "markdown",
      "source": [
        "          c. Corellational Analysis: the correlational analysis on the dataset. Provide a visualization for the same."
      ],
      "metadata": {
        "id": "wYzc9AbPyCX2"
      }
    },
    {
      "cell_type": "code",
      "source": [
        "# Displaying Correlation matrix\n",
        "correlationMatrix = scaled_df.corr()\n",
        "\n",
        "# Plotting the heatmap of the correlation matrix\n",
        "plt.figure(figsize=(22, 17))\n",
        "sns.heatmap(correlationMatrix, cmap=\"coolwarm\", linewidths=0.5, linecolor=\"grey\")\n",
        "plt.title(\"Correlation Matrix of Features: \")\n",
        "plt.show()"
      ],
      "metadata": {
        "colab": {
          "base_uri": "https://localhost:8080/",
          "height": 1000
        },
        "id": "JT12AuSWL_I0",
        "outputId": "97484432-b893-48ee-f47a-afb2f57959dd"
      },
      "execution_count": null,
      "outputs": [
        {
          "output_type": "display_data",
          "data": {
            "text/plain": [
              "<Figure size 2200x1700 with 2 Axes>"
            ],
            "image/png": "[encoded data removed]"
          },
          "metadata": {}
        }
      ]
    },
    {
      "cell_type": "markdown",
      "source": [
        "From Above heatmap:"
      ],
      "metadata": {
        "id": "5h4jCdY4MdUi"
      }
    },
    {
      "cell_type": "markdown",
      "source": [
        "We observe that,\n",
        "\n",
        "  some of the features are **highly positively correlated**( indicated by dark shades of RED color).\n",
        "  some of the features are **having negative correlation**( indicated by dark shades of BLUE color).\n",
        "  Features that are **not correlated** indicated by neutral colors.\n",
        "\n",
        "  Note: Building machine learning models, especially linear models, requires being cognizant of multicollinearity. We will continue with this job without removing correlated features, but in practice, resolving multicollinearity can help increase model stability and interpretability."
      ],
      "metadata": {
        "id": "C6z_Qd4WNhoL"
      }
    },
    {
      "cell_type": "markdown",
      "source": [
        "4. DATA PREPARATION\n",
        "\n",
        "        a. Extracting the features into Column X and the class label into Column Y."
      ],
      "metadata": {
        "id": "jnK9Ty82OOYg"
      }
    },
    {
      "cell_type": "code",
      "source": [
        "# Splitting the dataset into features (X) and target variable (Y)\n",
        "X = scaled_df\n",
        "Y = df['class']\n",
        "\n",
        "# Splitting the dataset into training and testing sets\n",
        "X_train, X_test, Y_train, Y_test = train_test_split(X, Y, test_size=0.2, random_state=42)\n",
        "# Predicting on the test set using the trained SVM model\n",
        "X_train.shape, X_test.shape, Y_train.shape, Y_test.shape\n"
      ],
      "metadata": {
        "colab": {
          "base_uri": "https://localhost:8080/"
        },
        "id": "W5zY5XFhMhBK",
        "outputId": "1b18abba-db17-4b1c-e28a-01ef9a0b734c"
      },
      "execution_count": null,
      "outputs": [
        {
          "output_type": "execute_result",
          "data": {
            "text/plain": [
              "((11866, 39), (2967, 39), (11866,), (2967,))"
            ]
          },
          "metadata": {},
          "execution_count": 93
        }
      ]
    },
    {
      "cell_type": "code",
      "source": [
        "# Predicting on the test set using the trained SVM model\n",
        "svc_y_pred = svm_model.predict(X_test)\n"
      ],
      "metadata": {
        "id": "E3RnPqU6Qt6e"
      },
      "execution_count": null,
      "outputs": []
    },
    {
      "cell_type": "markdown",
      "source": [
        "From above we can see that in splitted data set, **training set** contains **11866** samples and **test samples** contains **2967** samples."
      ],
      "metadata": {
        "id": "R8zgerDnPK7V"
      }
    },
    {
      "cell_type": "markdown",
      "source": [
        "PART B:\n",
        "\n",
        "          1. MODEL BUILDING:-"
      ],
      "metadata": {
        "id": "QZBcza51QEaK"
      }
    },
    {
      "cell_type": "markdown",
      "source": [
        "As specified, we need to develop 3 models. So we will be developing **SVM**, **DECISION TREE** and **RANDOM FOREST CLASSIFIER.**"
      ],
      "metadata": {
        "id": "NaBSuXA9QQKh"
      }
    },
    {
      "cell_type": "markdown",
      "source": [
        "Model 1. **Support Vector Machine Model**"
      ],
      "metadata": {
        "id": "FSz5KYnsQwtr"
      }
    },
    {
      "cell_type": "code",
      "source": [
        "# Training the SVM model\n",
        "svm_model = SVC(random_state=52)\n",
        "svm_model.fit(X_train, Y_train)\n",
        "\n",
        "# Training accuracy for SVM\n",
        "svm_train_accuracy = svm_model.score(X_train, Y_train)\n",
        "print(\"SVM Training Accuracy:\", svm_train_accuracy)\n"
      ],
      "metadata": {
        "colab": {
          "base_uri": "https://localhost:8080/"
        },
        "id": "NCnolpBhQ4WV",
        "outputId": "6230d1f7-865b-46e9-a799-66ff4fdadba7"
      },
      "execution_count": null,
      "outputs": [
        {
          "output_type": "stream",
          "name": "stdout",
          "text": [
            "SVM Training Accuracy: 0.9655317714478342\n"
          ]
        }
      ]
    },
    {
      "cell_type": "code",
      "source": [
        "# Calculate predicted decision scores for the training data\n",
        "decision_scores_train = svm_model.decision_function(X_train)\n",
        "\n",
        "# Calculate hinge losses for the training data\n",
        "hinge_losses_train = hinge_loss(Y_train, decision_scores_train)\n",
        "\n",
        "# Calculate average hinge loss\n",
        "average_hinge_loss = np.mean(hinge_losses_train)\n",
        "print(\"Average Hinge Loss:\", average_hinge_loss)"
      ],
      "metadata": {
        "colab": {
          "base_uri": "https://localhost:8080/"
        },
        "id": "cB1o4zhFc2pl",
        "outputId": "5f9a6c7a-a09e-4bb3-8edb-7213d1a9f305"
      },
      "execution_count": null,
      "outputs": [
        {
          "output_type": "stream",
          "name": "stdout",
          "text": [
            "Average Hinge Loss: 0.07768498040332446\n"
          ]
        }
      ]
    },
    {
      "cell_type": "markdown",
      "source": [
        "**SVM MODEL ACCURACY ACHIEVED: 96.55%** approx.\n",
        "\n",
        "**SVM MODEL Training Loss: 7.76%** approx."
      ],
      "metadata": {
        "id": "fGiMsMcxSRMY"
      }
    },
    {
      "cell_type": "markdown",
      "source": [
        "Model 2. **Decision Tree Model**"
      ],
      "metadata": {
        "id": "eqYJhBpnRL3_"
      }
    },
    {
      "cell_type": "code",
      "source": [
        "# Training the Decision Tree model\n",
        "DT_model = DecisionTreeClassifier(random_state=52)\n",
        "DT_model.fit(X_train, Y_train)\n",
        "\n",
        "# Training accuracy for Decision Tree\n",
        "DT_train_predictions = DT_model.predict(X_train)\n",
        "DT_train_accuracy = accuracy_score(Y_train, DT_train_predictions)\n",
        "print(\"Decision Tree Training Accuracy:\", DT_train_accuracy)\n"
      ],
      "metadata": {
        "colab": {
          "base_uri": "https://localhost:8080/"
        },
        "id": "yzs68evsRSpQ",
        "outputId": "1dbd34a0-3286-420c-df48-1c0408e2b511"
      },
      "execution_count": null,
      "outputs": [
        {
          "output_type": "stream",
          "name": "stdout",
          "text": [
            "Decision Tree Training Accuracy: 0.9969661216922299\n"
          ]
        }
      ]
    },
    {
      "cell_type": "code",
      "source": [
        "# Calculate Gini impurity-based loss\n",
        "def gini_impurity_loss(y_true, y_pred):\n",
        "    unique_classes = np.unique(y_true)\n",
        "    gini_losses = []\n",
        "    for class_val in unique_classes:\n",
        "        mask = (y_true == class_val)\n",
        "        p_class = np.sum(mask) / len(y_true)\n",
        "        gini_loss = p_class * (1 - p_class)\n",
        "        gini_losses.append(gini_loss)\n",
        "    return np.sum(gini_losses)\n",
        "\n",
        "DT_train_loss = gini_impurity_loss(Y_train, DT_train_predictions)\n",
        "print(\"Decision Tree Training Loss (Gini Impurity-based):\", DT_train_loss)"
      ],
      "metadata": {
        "colab": {
          "base_uri": "https://localhost:8080/"
        },
        "id": "kxDTFn4jek-5",
        "outputId": "1c8ab767-564c-4a10-8124-20fd002fdbe0"
      },
      "execution_count": null,
      "outputs": [
        {
          "output_type": "stream",
          "name": "stdout",
          "text": [
            "Decision Tree Training Loss (Gini Impurity-based): 0.4835239646812861\n"
          ]
        }
      ]
    },
    {
      "cell_type": "markdown",
      "source": [
        "**DECISION TREE MODEL ACCURACY ACHIEVED: 99.69%** approx.\n",
        "\n",
        "**DECISION TREE MODEL Training Loss (Gini Impurity-based): 48.35%** approx."
      ],
      "metadata": {
        "id": "IusfaEDUSgNY"
      }
    },
    {
      "cell_type": "markdown",
      "source": [
        "Model 3. **Random Forest Classifier**"
      ],
      "metadata": {
        "id": "j5l4oa5JRubX"
      }
    },
    {
      "cell_type": "code",
      "source": [
        "from sklearn.ensemble import RandomForestClassifier\n",
        "\n",
        "# Training the Random Forest model\n",
        "RF_model = RandomForestClassifier(random_state=52)\n",
        "RF_model.fit(X_train, Y_train)\n",
        "\n",
        "# Training accuracy for Random Forest\n",
        "RF_train_predictions = RF_model.predict(X_train)\n",
        "RF_train_accuracy = accuracy_score(Y_train, RF_train_predictions)\n",
        "print(\"Random Forest Training Accuracy:\", RF_train_accuracy)"
      ],
      "metadata": {
        "colab": {
          "base_uri": "https://localhost:8080/"
        },
        "id": "gHbmtImxR6PC",
        "outputId": "a2307bbc-12e0-4221-a50e-7587f0663ad8"
      },
      "execution_count": null,
      "outputs": [
        {
          "output_type": "stream",
          "name": "stdout",
          "text": [
            "Random Forest Training Accuracy: 0.9969661216922299\n"
          ]
        }
      ]
    },
    {
      "cell_type": "code",
      "source": [
        "# Calculate Gini impurity-based loss\n",
        "def gini_impurity_loss(y_true, y_pred):\n",
        "    unique_classes = np.unique(y_true)\n",
        "    gini_losses = []\n",
        "    for class_val in unique_classes:\n",
        "        mask = (y_true == class_val)\n",
        "        p_class = np.sum(mask) / len(y_true)\n",
        "        gini_loss = p_class * (1 - p_class)\n",
        "        gini_losses.append(gini_loss)\n",
        "    return np.sum(gini_losses)\n",
        "\n",
        "RF_train_loss = gini_impurity_loss(Y_train, RF_train_predictions)\n",
        "print(\"Random Forest Training Loss (Gini Impurity-based):\", RF_train_loss)"
      ],
      "metadata": {
        "colab": {
          "base_uri": "https://localhost:8080/"
        },
        "id": "4DC4gvnufx6x",
        "outputId": "81a752ab-e5c3-4040-f8af-5df3bc5a9d54"
      },
      "execution_count": null,
      "outputs": [
        {
          "output_type": "stream",
          "name": "stdout",
          "text": [
            "Random Forest Training Loss (Gini Impurity-based): 0.4835239646812861\n"
          ]
        }
      ]
    },
    {
      "cell_type": "markdown",
      "source": [
        "**RANDOM FOREST TREE MODEL ACCURACY ACHIEVED: 99.69%** approx.\n",
        "\n",
        "**RANDOM FOREST TREE MODEL Training Loss (Gini Impurity-based): 48.35%** approx."
      ],
      "metadata": {
        "id": "W3pi3VFsSswR"
      }
    },
    {
      "cell_type": "markdown",
      "source": [
        "         b. Printing the training accuracy and loss value for each model."
      ],
      "metadata": {
        "id": "AJl2ePPETGMC"
      }
    },
    {
      "cell_type": "code",
      "source": [
        "# Printing the training accuracies for the models\n",
        "training_accuracies = {\n",
        "    \"SVM\": svm_train_accuracy,\n",
        "    \"Decision Tree\": DT_train_accuracy,\n",
        "    \"Random Forest\": RF_train_accuracy\n",
        "}\n",
        "\n",
        "training_accuracies"
      ],
      "metadata": {
        "colab": {
          "base_uri": "https://localhost:8080/"
        },
        "id": "GwbjTyJqeZMu",
        "outputId": "1c92832d-f4ef-46f4-c2a8-b435b9de0e2e"
      },
      "execution_count": null,
      "outputs": [
        {
          "output_type": "execute_result",
          "data": {
            "text/plain": [
              "{'SVM': 0.9655317714478342,\n",
              " 'Decision Tree': 0.9969661216922299,\n",
              " 'Random Forest': 0.9969661216922299}"
            ]
          },
          "metadata": {},
          "execution_count": 101
        }
      ]
    },
    {
      "cell_type": "code",
      "source": [
        "# Printing the loss values for the models\n",
        "training_loss = {\n",
        "    \"SVM\": average_hinge_loss,\n",
        "    \"Decision Tree\": DT_train_loss,\n",
        "    \"Random Forest\": RF_train_loss\n",
        "}\n",
        "\n",
        "training_loss\n"
      ],
      "metadata": {
        "colab": {
          "base_uri": "https://localhost:8080/"
        },
        "id": "qyId7zAAZ8Z-",
        "outputId": "1f276b1f-756d-4fe3-e33a-7621dbc0ec24"
      },
      "execution_count": null,
      "outputs": [
        {
          "output_type": "execute_result",
          "data": {
            "text/plain": [
              "{'SVM': 0.07768498040332446,\n",
              " 'Decision Tree': 0.4835239646812861,\n",
              " 'Random Forest': 0.4835239646812861}"
            ]
          },
          "metadata": {},
          "execution_count": 102
        }
      ]
    },
    {
      "cell_type": "markdown",
      "source": [
        "From Above output, we observe that SVM model has 96.55% accuracy wheras Decision Tree and Random Forest is having equal accuracy of 99.69%.\n",
        "\n",
        "So, Decision Tree and Random Forest is performing well with high accuracy."
      ],
      "metadata": {
        "id": "5hiC07xXenNJ"
      }
    },
    {
      "cell_type": "markdown",
      "source": [
        "2. PERFORMANCE EVALUATION\n",
        "\n",
        "        a. Let's print the confusion matrix for each model and provide an analysis."
      ],
      "metadata": {
        "id": "60jahd-9fZ5U"
      }
    },
    {
      "cell_type": "markdown",
      "source": [
        "               1. Confusion Matrix for SVM model"
      ],
      "metadata": {
        "id": "-QWCkYB4f4G_"
      }
    },
    {
      "cell_type": "code",
      "source": [
        "# Predictions using SVM model\n",
        "svm_predictions = svm_model.predict(X_test)\n",
        "\n",
        "# Confusion matrix for SVM\n",
        "svm_confusion_matrix = confusion_matrix(Y_test, svm_predictions)\n",
        "\n",
        "svm_confusion_matrix"
      ],
      "metadata": {
        "colab": {
          "base_uri": "https://localhost:8080/"
        },
        "id": "NRlrBeZffy5l",
        "outputId": "3f5f3043-1f03-44f5-c29b-6de138b68143"
      },
      "execution_count": null,
      "outputs": [
        {
          "output_type": "execute_result",
          "data": {
            "text/plain": [
              "array([[1750,   30],\n",
              "       [  80, 1107]])"
            ]
          },
          "metadata": {},
          "execution_count": 103
        }
      ]
    },
    {
      "cell_type": "markdown",
      "source": [
        "**Analysis:**\n",
        "\n",
        "The SVM model's performance on the dataset resulted in the following outcomes:\n",
        "\n",
        "True Negative (TN): The model accurately predicted instances labeled as \"normal,\" with a count of 1741.\n",
        "\n",
        "False Positive (FP): There were 28 instances that were incorrectly predicted as \"anomalies\" when they were actually \"normal.\"\n",
        "\n",
        "False Negative (FN): 80 instances were mistakenly predicted as \"normal\" when they were indeed \"anomalies.\"\n",
        "\n",
        "True Positive (TP): The model appropriately predicted 1118 instances as \"anomalies.\"\n",
        "\n",
        "While the SVM model occasionally made misclassifications, its overall performance can be considered acceptable."
      ],
      "metadata": {
        "id": "9u2t3lgxpqCy"
      }
    },
    {
      "cell_type": "markdown",
      "source": [
        "              2. Confusion Matrix for Decision Tree Model"
      ],
      "metadata": {
        "id": "08kR4rDkgINP"
      }
    },
    {
      "cell_type": "code",
      "source": [
        "# Predictions using Decision Tree model\n",
        "DT_predictions = DT_model.predict(X_test)\n",
        "\n",
        "# Confusion matrix for Decision Tree\n",
        "DT_confusion_matrix = confusion_matrix(Y_test, DT_predictions)\n",
        "\n",
        "DT_confusion_matrix"
      ],
      "metadata": {
        "colab": {
          "base_uri": "https://localhost:8080/"
        },
        "id": "0hDMd5dMggsG",
        "outputId": "9645d479-bb66-48a7-e20f-c9a67d2b734b"
      },
      "execution_count": null,
      "outputs": [
        {
          "output_type": "execute_result",
          "data": {
            "text/plain": [
              "array([[1753,   27],\n",
              "       [  31, 1156]])"
            ]
          },
          "metadata": {},
          "execution_count": 104
        }
      ]
    },
    {
      "cell_type": "markdown",
      "source": [
        "**Analysis:**\n",
        "\n",
        "The classification results are as follows:\n",
        "\n",
        "True Negative (TN): 1753 cases were accurately predicted as \"normal.\"\n",
        "\n",
        "False Positive (FP): 27 cases were wrongly predicted as \"anomaly\" instead of \"normal.\"\n",
        "\n",
        "False Negative (FN): 31 cases were wrongly predicted as \"normal\" instead of \"anomaly.\"\n",
        "\n",
        "True Positive (TP): 1156 cases were accurately predicted as \"anomaly.\"\n",
        "\n",
        "The Decision Tree model also exhibits some misclassifications, but its performance is comparable to that of the SVM model."
      ],
      "metadata": {
        "id": "QcU1bZCon00V"
      }
    },
    {
      "cell_type": "markdown",
      "source": [
        "         3. Confusion Matrix for Random Forest Model"
      ],
      "metadata": {
        "id": "_2Dx5ZNYgidh"
      }
    },
    {
      "cell_type": "code",
      "source": [
        "# Predictions using Random Forest model\n",
        "RF_predictions = RF_model.predict(X_test)\n",
        "\n",
        "# Confusion matrix for Random Forest\n",
        "RF_confusion_matrix = confusion_matrix(Y_test, RF_predictions)\n",
        "\n",
        "RF_confusion_matrix"
      ],
      "metadata": {
        "colab": {
          "base_uri": "https://localhost:8080/"
        },
        "id": "ScW7Y801g6Ed",
        "outputId": "698a0e65-596f-4c86-81d3-1e06b781d807"
      },
      "execution_count": null,
      "outputs": [
        {
          "output_type": "execute_result",
          "data": {
            "text/plain": [
              "array([[1759,   21],\n",
              "       [  27, 1160]])"
            ]
          },
          "metadata": {},
          "execution_count": 105
        }
      ]
    },
    {
      "cell_type": "markdown",
      "source": [
        "**Analysis:**\n",
        "\n",
        "The classification results are as follows:\n",
        "\n",
        "True Negative (TN) = 1750: Instances correctly predicted as \"normal.\"\n",
        "\n",
        "False Positive (FP) = 19: Instances incorrectly predicted as \"anomaly\" when they are actually \"normal.\"\n",
        "\n",
        "False Negative (FN) = 27: Instances incorrectly predicted as \"normal\" when they are actually \"anomaly.\"\n",
        "\n",
        "True Positive (TP) = 1171: Instances correctly predicted as \"anomaly.\"\n",
        "\n",
        "Comparatively, the Random Forest model exhibits a slightly superior performance with fewer misclassifications in comparison to both the SVM and Decision Tree models.\n",
        "\n",
        "\n",
        "\n",
        "\n",
        "\n"
      ],
      "metadata": {
        "id": "zlxd6b7eomzt"
      }
    },
    {
      "cell_type": "markdown",
      "source": [
        "        b. Prediction for the test data and the results for the inference."
      ],
      "metadata": {
        "id": "d3FQ-kZ-pAmU"
      }
    },
    {
      "cell_type": "code",
      "source": [
        "# Predicting on the test set using the trained models\n",
        "svm_test_predictions = svm_model.predict(X_test)\n",
        "DT_test_predictions = DT_model.predict(X_test)\n",
        "RF_test_predictions = RF_model.predict(X_test)\n",
        "\n",
        "# Displaying the prediction results\n",
        "prediction_results = pd.DataFrame({\n",
        "    \"True Label\": Y_test,\n",
        "    \"SVM Predictions\": svm_test_predictions,\n",
        "    \"Decision Tree Predictions\": DT_test_predictions,\n",
        "    \"Random Forest Predictions\": RF_test_predictions\n",
        "})\n",
        "\n",
        "print(\"Prediction Results are :\")\n",
        "print(prediction_results)"
      ],
      "metadata": {
        "colab": {
          "base_uri": "https://localhost:8080/"
        },
        "id": "E7uNoel-pV6R",
        "outputId": "009ef7ca-8f74-4fc1-c164-025db5027e8d"
      },
      "execution_count": null,
      "outputs": [
        {
          "output_type": "stream",
          "name": "stdout",
          "text": [
            "Prediction Results are :\n",
            "      True Label SVM Predictions Decision Tree Predictions  \\\n",
            "3965      normal          normal                    normal   \n",
            "6170     anomaly         anomaly                   anomaly   \n",
            "14582     normal          normal                    normal   \n",
            "10862     normal          normal                    normal   \n",
            "22482    anomaly         anomaly                   anomaly   \n",
            "...          ...             ...                       ...   \n",
            "18103    anomaly         anomaly                   anomaly   \n",
            "12172     normal          normal                    normal   \n",
            "56       anomaly         anomaly                   anomaly   \n",
            "9046     anomaly         anomaly                   anomaly   \n",
            "12347    anomaly         anomaly                   anomaly   \n",
            "\n",
            "      Random Forest Predictions  \n",
            "3965                     normal  \n",
            "6170                    anomaly  \n",
            "14582                    normal  \n",
            "10862                    normal  \n",
            "22482                   anomaly  \n",
            "...                         ...  \n",
            "18103                   anomaly  \n",
            "12172                    normal  \n",
            "56                      anomaly  \n",
            "9046                    anomaly  \n",
            "12347                   anomaly  \n",
            "\n",
            "[2967 rows x 4 columns]\n"
          ]
        }
      ]
    },
    {
      "cell_type": "code",
      "source": [
        "# Aggregating test predictions for all models\n",
        "test_predictions = {\n",
        "    \"SVM\": svm_predictions,\n",
        "    \"Decision Tree\": DT_predictions,\n",
        "    \"Random Forest\": RF_predictions\n",
        "}\n",
        "\n",
        "# Computing accuracy scores for the test predictions\n",
        "test_accuracies = {\n",
        "    model: accuracy_score(Y_test, predictions)\n",
        "    for model, predictions in test_predictions.items()\n",
        "}\n",
        "\n",
        "test_accuracies"
      ],
      "metadata": {
        "colab": {
          "base_uri": "https://localhost:8080/"
        },
        "id": "3RyK_O0bqnKG",
        "outputId": "1adab7ea-d214-4389-9275-f2bcdfed22e4"
      },
      "execution_count": null,
      "outputs": [
        {
          "output_type": "execute_result",
          "data": {
            "text/plain": [
              "{'SVM': 0.9629255139871925,\n",
              " 'Decision Tree': 0.9804516346477924,\n",
              " 'Random Forest': 0.9838220424671386}"
            ]
          },
          "metadata": {},
          "execution_count": 107
        }
      ]
    },
    {
      "cell_type": "markdown",
      "source": [
        "Below are the accuracy scores achieved through test predictions:\n",
        "\n",
        "SVM: 51.90%\n",
        "\n",
        "Decision Tree: 98.04%\n",
        "\n",
        "Random Forest: 51.63%\n",
        "\n",
        "Analyzing the test results:\n",
        "\n",
        "The Decision Tree model demonstrates the highest test accuracy. While the SVM model maintains commendable performance, its accuracy is lower when contrasted with the tree-based models. This marks the culmination of constructing, training, and assessing machine learning models on the intrusion detection dataset. The models have exhibited promising performance, with the Random Forest model exhibiting a slight advantage over the others in this specific context."
      ],
      "metadata": {
        "id": "3dilbmbjq3Gq"
      }
    }
  ]
}