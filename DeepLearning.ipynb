{
  "cells": [
    {
      "cell_type": "markdown",
      "id": "9bda93ba",
      "metadata": {
        "id": "9bda93ba"
      },
      "source": [
        "## Journal used for the implemetation\n",
        "**Journal title**: Boosting Breast Cancer Detection using Convolution Neural Network\n",
        "\n",
        "**Authors**: Saad Awadh Alanazi ,M. Kamruzzaman ,Md Nazirul Islam Sarker, Madallah Alruwaili, Yousef Alhwaiti ,Nasser Alshammari and Muhammad Hameed Siddiqi\n",
        "\n",
        "**Journal Name**: Boosting Breast Cancer Detection using Convolution Neural Network\n",
        "\n",
        "**Year**: 2021"
      ]
    },
    {
      "cell_type": "markdown",
      "id": "0c7f7028",
      "metadata": {
        "id": "0c7f7028"
      },
      "source": [
        "# 1. Import the required libraries"
      ]
    },
    {
      "cell_type": "code",
      "execution_count": null,
      "id": "1a096390",
      "metadata": {
        "colab": {
          "base_uri": "https://localhost:8080/"
        },
        "id": "1a096390",
        "outputId": "0ffaf405-14fd-4865-f36d-322f1959bb62"
      },
      "outputs": [
        {
          "name": "stdout",
          "output_type": "stream",
          "text": [
            "Requirement already satisfied: tensorflow in /usr/local/lib/python3.10/dist-packages (2.15.0)\n",
            "Requirement already satisfied: absl-py>=1.0.0 in /usr/local/lib/python3.10/dist-packages (from tensorflow) (1.4.0)\n",
            "Requirement already satisfied: astunparse>=1.6.0 in /usr/local/lib/python3.10/dist-packages (from tensorflow) (1.6.3)\n",
            "Requirement already satisfied: flatbuffers>=23.5.26 in /usr/local/lib/python3.10/dist-packages (from tensorflow) (24.3.7)\n",
            "Requirement already satisfied: gast!=0.5.0,!=0.5.1,!=0.5.2,>=0.2.1 in /usr/local/lib/python3.10/dist-packages (from tensorflow) (0.5.4)\n",
            "Requirement already satisfied: google-pasta>=0.1.1 in /usr/local/lib/python3.10/dist-packages (from tensorflow) (0.2.0)\n",
            "Requirement already satisfied: h5py>=2.9.0 in /usr/local/lib/python3.10/dist-packages (from tensorflow) (3.9.0)\n",
            "Requirement already satisfied: libclang>=13.0.0 in /usr/local/lib/python3.10/dist-packages (from tensorflow) (16.0.6)\n",
            "Requirement already satisfied: ml-dtypes~=0.2.0 in /usr/local/lib/python3.10/dist-packages (from tensorflow) (0.2.0)\n",
            "Requirement already satisfied: numpy<2.0.0,>=1.23.5 in /usr/local/lib/python3.10/dist-packages (from tensorflow) (1.25.2)\n",
            "Requirement already satisfied: opt-einsum>=2.3.2 in /usr/local/lib/python3.10/dist-packages (from tensorflow) (3.3.0)\n",
            "Requirement already satisfied: packaging in /usr/local/lib/python3.10/dist-packages (from tensorflow) (24.0)\n",
            "Requirement already satisfied: protobuf!=4.21.0,!=4.21.1,!=4.21.2,!=4.21.3,!=4.21.4,!=4.21.5,<5.0.0dev,>=3.20.3 in /usr/local/lib/python3.10/dist-packages (from tensorflow) (3.20.3)\n",
            "Requirement already satisfied: setuptools in /usr/local/lib/python3.10/dist-packages (from tensorflow) (67.7.2)\n",
            "Requirement already satisfied: six>=1.12.0 in /usr/local/lib/python3.10/dist-packages (from tensorflow) (1.16.0)\n",
            "Requirement already satisfied: termcolor>=1.1.0 in /usr/local/lib/python3.10/dist-packages (from tensorflow) (2.4.0)\n",
            "Requirement already satisfied: typing-extensions>=3.6.6 in /usr/local/lib/python3.10/dist-packages (from tensorflow) (4.10.0)\n",
            "Requirement already satisfied: wrapt<1.15,>=1.11.0 in /usr/local/lib/python3.10/dist-packages (from tensorflow) (1.14.1)\n",
            "Requirement already satisfied: tensorflow-io-gcs-filesystem>=0.23.1 in /usr/local/lib/python3.10/dist-packages (from tensorflow) (0.36.0)\n",
            "Requirement already satisfied: grpcio<2.0,>=1.24.3 in /usr/local/lib/python3.10/dist-packages (from tensorflow) (1.62.1)\n",
            "Requirement already satisfied: tensorboard<2.16,>=2.15 in /usr/local/lib/python3.10/dist-packages (from tensorflow) (2.15.2)\n",
            "Requirement already satisfied: tensorflow-estimator<2.16,>=2.15.0 in /usr/local/lib/python3.10/dist-packages (from tensorflow) (2.15.0)\n",
            "Requirement already satisfied: keras<2.16,>=2.15.0 in /usr/local/lib/python3.10/dist-packages (from tensorflow) (2.15.0)\n",
            "Requirement already satisfied: wheel<1.0,>=0.23.0 in /usr/local/lib/python3.10/dist-packages (from astunparse>=1.6.0->tensorflow) (0.43.0)\n",
            "Requirement already satisfied: google-auth<3,>=1.6.3 in /usr/local/lib/python3.10/dist-packages (from tensorboard<2.16,>=2.15->tensorflow) (2.27.0)\n",
            "Requirement already satisfied: google-auth-oauthlib<2,>=0.5 in /usr/local/lib/python3.10/dist-packages (from tensorboard<2.16,>=2.15->tensorflow) (1.2.0)\n",
            "Requirement already satisfied: markdown>=2.6.8 in /usr/local/lib/python3.10/dist-packages (from tensorboard<2.16,>=2.15->tensorflow) (3.5.2)\n",
            "Requirement already satisfied: requests<3,>=2.21.0 in /usr/local/lib/python3.10/dist-packages (from tensorboard<2.16,>=2.15->tensorflow) (2.31.0)\n",
            "Requirement already satisfied: tensorboard-data-server<0.8.0,>=0.7.0 in /usr/local/lib/python3.10/dist-packages (from tensorboard<2.16,>=2.15->tensorflow) (0.7.2)\n",
            "Requirement already satisfied: werkzeug>=1.0.1 in /usr/local/lib/python3.10/dist-packages (from tensorboard<2.16,>=2.15->tensorflow) (3.0.1)\n",
            "Requirement already satisfied: cachetools<6.0,>=2.0.0 in /usr/local/lib/python3.10/dist-packages (from google-auth<3,>=1.6.3->tensorboard<2.16,>=2.15->tensorflow) (5.3.3)\n",
            "Requirement already satisfied: pyasn1-modules>=0.2.1 in /usr/local/lib/python3.10/dist-packages (from google-auth<3,>=1.6.3->tensorboard<2.16,>=2.15->tensorflow) (0.3.0)\n",
            "Requirement already satisfied: rsa<5,>=3.1.4 in /usr/local/lib/python3.10/dist-packages (from google-auth<3,>=1.6.3->tensorboard<2.16,>=2.15->tensorflow) (4.9)\n",
            "Requirement already satisfied: requests-oauthlib>=0.7.0 in /usr/local/lib/python3.10/dist-packages (from google-auth-oauthlib<2,>=0.5->tensorboard<2.16,>=2.15->tensorflow) (1.4.0)\n",
            "Requirement already satisfied: charset-normalizer<4,>=2 in /usr/local/lib/python3.10/dist-packages (from requests<3,>=2.21.0->tensorboard<2.16,>=2.15->tensorflow) (3.3.2)\n",
            "Requirement already satisfied: idna<4,>=2.5 in /usr/local/lib/python3.10/dist-packages (from requests<3,>=2.21.0->tensorboard<2.16,>=2.15->tensorflow) (3.6)\n",
            "Requirement already satisfied: urllib3<3,>=1.21.1 in /usr/local/lib/python3.10/dist-packages (from requests<3,>=2.21.0->tensorboard<2.16,>=2.15->tensorflow) (2.0.7)\n",
            "Requirement already satisfied: certifi>=2017.4.17 in /usr/local/lib/python3.10/dist-packages (from requests<3,>=2.21.0->tensorboard<2.16,>=2.15->tensorflow) (2024.2.2)\n",
            "Requirement already satisfied: MarkupSafe>=2.1.1 in /usr/local/lib/python3.10/dist-packages (from werkzeug>=1.0.1->tensorboard<2.16,>=2.15->tensorflow) (2.1.5)\n",
            "Requirement already satisfied: pyasn1<0.6.0,>=0.4.6 in /usr/local/lib/python3.10/dist-packages (from pyasn1-modules>=0.2.1->google-auth<3,>=1.6.3->tensorboard<2.16,>=2.15->tensorflow) (0.5.1)\n",
            "Requirement already satisfied: oauthlib>=3.0.0 in /usr/local/lib/python3.10/dist-packages (from requests-oauthlib>=0.7.0->google-auth-oauthlib<2,>=0.5->tensorboard<2.16,>=2.15->tensorflow) (3.2.2)\n"
          ]
        }
      ],
      "source": [
        "!pip install tensorflow"
      ]
    },
    {
      "cell_type": "code",
      "execution_count": null,
      "id": "V-cUm91ZTt6F",
      "metadata": {
        "id": "V-cUm91ZTt6F"
      },
      "outputs": [],
      "source": [
        "import tensorflow as tf\n",
        "from tensorflow import keras\n",
        "from tensorflow.keras import Sequential\n",
        "from tensorflow.keras.layers import Flatten,Dense,Dropout,BatchNormalization\n",
        "from tensorflow.keras.layers import Convolution1D,MaxPool1D\n",
        "from tensorflow.keras.preprocessing.image import ImageDataGenerator\n",
        "from tensorflow.keras.optimizers import Adam"
      ]
    },
    {
      "cell_type": "code",
      "execution_count": null,
      "id": "OgyVIaXcT2Nq",
      "metadata": {
        "colab": {
          "base_uri": "https://localhost:8080/"
        },
        "id": "OgyVIaXcT2Nq",
        "outputId": "8e39846e-35d4-4c24-ba83-1fec7d332076"
      },
      "outputs": [
        {
          "name": "stdout",
          "output_type": "stream",
          "text": [
            "<module 'tensorflow._api.v2.version' from '/usr/local/lib/python3.10/dist-packages/tensorflow/_api/v2/version/__init__.py'>\n"
          ]
        }
      ],
      "source": [
        "print(tf.version)"
      ]
    },
    {
      "cell_type": "code",
      "execution_count": null,
      "id": "bcVBqCQzT534",
      "metadata": {
        "id": "bcVBqCQzT534"
      },
      "outputs": [],
      "source": [
        "import pandas as pd\n",
        "import numpy as np\n",
        "import seaborn as sns\n",
        "import matplotlib.pyplot as plt\n",
        "from sklearn import datasets,metrics\n",
        "from sklearn.model_selection import train_test_split\n",
        "from sklearn.preprocessing import StandardScaler\n",
        "from sklearn.metrics import accuracy_score, precision_score, recall_score, f1_score"
      ]
    },
    {
      "cell_type": "markdown",
      "id": "3cc8e0cb",
      "metadata": {
        "id": "3cc8e0cb"
      },
      "source": [
        "# 2. Data Acquisition\n",
        "\n",
        "For the problem identified by you, students have to find the data source themselves from any data source.\n",
        "\n",
        "Provide the URL of the data used.\n",
        "\n",
        "Write Code for converting the above downloaded data into a form suitable for DL\n",
        "\n"
      ]
    },
    {
      "cell_type": "code",
      "execution_count": null,
      "id": "4b51d895",
      "metadata": {
        "colab": {
          "base_uri": "https://localhost:8080/",
          "height": 273
        },
        "id": "4b51d895",
        "outputId": "543cd4f9-91d3-45e3-df2e-70f32043aeaf"
      },
      "outputs": [
        {
          "data": {
            "application/vnd.google.colaboratory.intrinsic+json": {
              "type": "dataframe",
              "variable_name": "brca_data"
            },
            "text/html": [
              "\n",
              "  <div id=\"df-eeb17a60-d1ef-420a-b594-8316a5f846e6\" class=\"colab-df-container\">\n",
              "    <div>\n",
              "<style scoped>\n",
              "    .dataframe tbody tr th:only-of-type {\n",
              "        vertical-align: middle;\n",
              "    }\n",
              "\n",
              "    .dataframe tbody tr th {\n",
              "        vertical-align: top;\n",
              "    }\n",
              "\n",
              "    .dataframe thead th {\n",
              "        text-align: right;\n",
              "    }\n",
              "</style>\n",
              "<table border=\"1\" class=\"dataframe\">\n",
              "  <thead>\n",
              "    <tr style=\"text-align: right;\">\n",
              "      <th></th>\n",
              "      <th>Unnamed: 0</th>\n",
              "      <th>x.radius_mean</th>\n",
              "      <th>x.texture_mean</th>\n",
              "      <th>x.perimeter_mean</th>\n",
              "      <th>x.area_mean</th>\n",
              "      <th>x.smoothness_mean</th>\n",
              "      <th>x.compactness_mean</th>\n",
              "      <th>x.concavity_mean</th>\n",
              "      <th>x.concave_pts_mean</th>\n",
              "      <th>x.symmetry_mean</th>\n",
              "      <th>...</th>\n",
              "      <th>x.texture_worst</th>\n",
              "      <th>x.perimeter_worst</th>\n",
              "      <th>x.area_worst</th>\n",
              "      <th>x.smoothness_worst</th>\n",
              "      <th>x.compactness_worst</th>\n",
              "      <th>x.concavity_worst</th>\n",
              "      <th>x.concave_pts_worst</th>\n",
              "      <th>x.symmetry_worst</th>\n",
              "      <th>x.fractal_dim_worst</th>\n",
              "      <th>y</th>\n",
              "    </tr>\n",
              "  </thead>\n",
              "  <tbody>\n",
              "    <tr>\n",
              "      <th>0</th>\n",
              "      <td>1</td>\n",
              "      <td>13.540</td>\n",
              "      <td>14.36</td>\n",
              "      <td>87.46</td>\n",
              "      <td>566.3</td>\n",
              "      <td>0.09779</td>\n",
              "      <td>0.08129</td>\n",
              "      <td>0.06664</td>\n",
              "      <td>0.047810</td>\n",
              "      <td>0.1885</td>\n",
              "      <td>...</td>\n",
              "      <td>19.26</td>\n",
              "      <td>99.70</td>\n",
              "      <td>711.2</td>\n",
              "      <td>0.14400</td>\n",
              "      <td>0.17730</td>\n",
              "      <td>0.23900</td>\n",
              "      <td>0.12880</td>\n",
              "      <td>0.2977</td>\n",
              "      <td>0.07259</td>\n",
              "      <td>B</td>\n",
              "    </tr>\n",
              "    <tr>\n",
              "      <th>1</th>\n",
              "      <td>2</td>\n",
              "      <td>13.080</td>\n",
              "      <td>15.71</td>\n",
              "      <td>85.63</td>\n",
              "      <td>520.0</td>\n",
              "      <td>0.10750</td>\n",
              "      <td>0.12700</td>\n",
              "      <td>0.04568</td>\n",
              "      <td>0.031100</td>\n",
              "      <td>0.1967</td>\n",
              "      <td>...</td>\n",
              "      <td>20.49</td>\n",
              "      <td>96.09</td>\n",
              "      <td>630.5</td>\n",
              "      <td>0.13120</td>\n",
              "      <td>0.27760</td>\n",
              "      <td>0.18900</td>\n",
              "      <td>0.07283</td>\n",
              "      <td>0.3184</td>\n",
              "      <td>0.08183</td>\n",
              "      <td>B</td>\n",
              "    </tr>\n",
              "    <tr>\n",
              "      <th>2</th>\n",
              "      <td>3</td>\n",
              "      <td>9.504</td>\n",
              "      <td>12.44</td>\n",
              "      <td>60.34</td>\n",
              "      <td>273.9</td>\n",
              "      <td>0.10240</td>\n",
              "      <td>0.06492</td>\n",
              "      <td>0.02956</td>\n",
              "      <td>0.020760</td>\n",
              "      <td>0.1815</td>\n",
              "      <td>...</td>\n",
              "      <td>15.66</td>\n",
              "      <td>65.13</td>\n",
              "      <td>314.9</td>\n",
              "      <td>0.13240</td>\n",
              "      <td>0.11480</td>\n",
              "      <td>0.08867</td>\n",
              "      <td>0.06227</td>\n",
              "      <td>0.2450</td>\n",
              "      <td>0.07773</td>\n",
              "      <td>B</td>\n",
              "    </tr>\n",
              "    <tr>\n",
              "      <th>3</th>\n",
              "      <td>4</td>\n",
              "      <td>13.030</td>\n",
              "      <td>18.42</td>\n",
              "      <td>82.61</td>\n",
              "      <td>523.8</td>\n",
              "      <td>0.08983</td>\n",
              "      <td>0.03766</td>\n",
              "      <td>0.02562</td>\n",
              "      <td>0.029230</td>\n",
              "      <td>0.1467</td>\n",
              "      <td>...</td>\n",
              "      <td>22.81</td>\n",
              "      <td>84.46</td>\n",
              "      <td>545.9</td>\n",
              "      <td>0.09701</td>\n",
              "      <td>0.04619</td>\n",
              "      <td>0.04833</td>\n",
              "      <td>0.05013</td>\n",
              "      <td>0.1987</td>\n",
              "      <td>0.06169</td>\n",
              "      <td>B</td>\n",
              "    </tr>\n",
              "    <tr>\n",
              "      <th>4</th>\n",
              "      <td>5</td>\n",
              "      <td>8.196</td>\n",
              "      <td>16.84</td>\n",
              "      <td>51.71</td>\n",
              "      <td>201.9</td>\n",
              "      <td>0.08600</td>\n",
              "      <td>0.05943</td>\n",
              "      <td>0.01588</td>\n",
              "      <td>0.005917</td>\n",
              "      <td>0.1769</td>\n",
              "      <td>...</td>\n",
              "      <td>21.96</td>\n",
              "      <td>57.26</td>\n",
              "      <td>242.2</td>\n",
              "      <td>0.12970</td>\n",
              "      <td>0.13570</td>\n",
              "      <td>0.06880</td>\n",
              "      <td>0.02564</td>\n",
              "      <td>0.3105</td>\n",
              "      <td>0.07409</td>\n",
              "      <td>B</td>\n",
              "    </tr>\n",
              "  </tbody>\n",
              "</table>\n",
              "<p>5 rows × 32 columns</p>\n",
              "</div>\n",
              "    <div class=\"colab-df-buttons\">\n",
              "\n",
              "  <div class=\"colab-df-container\">\n",
              "    <button class=\"colab-df-convert\" onclick=\"convertToInteractive('df-eeb17a60-d1ef-420a-b594-8316a5f846e6')\"\n",
              "            title=\"Convert this dataframe to an interactive table.\"\n",
              "            style=\"display:none;\">\n",
              "\n",
              "  <svg xmlns=\"http://www.w3.org/2000/svg\" height=\"24px\" viewBox=\"0 -960 960 960\">\n",
              "    <path d=\"M120-120v-720h720v720H120Zm60-500h600v-160H180v160Zm220 220h160v-160H400v160Zm0 220h160v-160H400v160ZM180-400h160v-160H180v160Zm440 0h160v-160H620v160ZM180-180h160v-160H180v160Zm440 0h160v-160H620v160Z\"/>\n",
              "  </svg>\n",
              "    </button>\n",
              "\n",
              "  <style>\n",
              "    .colab-df-container {\n",
              "      display:flex;\n",
              "      gap: 12px;\n",
              "    }\n",
              "\n",
              "    .colab-df-convert {\n",
              "      background-color: #E8F0FE;\n",
              "      border: none;\n",
              "      border-radius: 50%;\n",
              "      cursor: pointer;\n",
              "      display: none;\n",
              "      fill: #1967D2;\n",
              "      height: 32px;\n",
              "      padding: 0 0 0 0;\n",
              "      width: 32px;\n",
              "    }\n",
              "\n",
              "    .colab-df-convert:hover {\n",
              "      background-color: #E2EBFA;\n",
              "      box-shadow: 0px 1px 2px rgba(60, 64, 67, 0.3), 0px 1px 3px 1px rgba(60, 64, 67, 0.15);\n",
              "      fill: #174EA6;\n",
              "    }\n",
              "\n",
              "    .colab-df-buttons div {\n",
              "      margin-bottom: 4px;\n",
              "    }\n",
              "\n",
              "    [theme=dark] .colab-df-convert {\n",
              "      background-color: #3B4455;\n",
              "      fill: #D2E3FC;\n",
              "    }\n",
              "\n",
              "    [theme=dark] .colab-df-convert:hover {\n",
              "      background-color: #434B5C;\n",
              "      box-shadow: 0px 1px 3px 1px rgba(0, 0, 0, 0.15);\n",
              "      filter: drop-shadow(0px 1px 2px rgba(0, 0, 0, 0.3));\n",
              "      fill: #FFFFFF;\n",
              "    }\n",
              "  </style>\n",
              "\n",
              "    <script>\n",
              "      const buttonEl =\n",
              "        document.querySelector('#df-eeb17a60-d1ef-420a-b594-8316a5f846e6 button.colab-df-convert');\n",
              "      buttonEl.style.display =\n",
              "        google.colab.kernel.accessAllowed ? 'block' : 'none';\n",
              "\n",
              "      async function convertToInteractive(key) {\n",
              "        const element = document.querySelector('#df-eeb17a60-d1ef-420a-b594-8316a5f846e6');\n",
              "        const dataTable =\n",
              "          await google.colab.kernel.invokeFunction('convertToInteractive',\n",
              "                                                    [key], {});\n",
              "        if (!dataTable) return;\n",
              "\n",
              "        const docLinkHtml = 'Like what you see? Visit the ' +\n",
              "          '<a target=\"_blank\" href=https://colab.research.google.com/notebooks/data_table.ipynb>data table notebook</a>'\n",
              "          + ' to learn more about interactive tables.';\n",
              "        element.innerHTML = '';\n",
              "        dataTable['output_type'] = 'display_data';\n",
              "        await google.colab.output.renderOutput(dataTable, element);\n",
              "        const docLink = document.createElement('div');\n",
              "        docLink.innerHTML = docLinkHtml;\n",
              "        element.appendChild(docLink);\n",
              "      }\n",
              "    </script>\n",
              "  </div>\n",
              "\n",
              "\n",
              "<div id=\"df-b106ccf7-7a76-42d1-8a6a-f798f70ebdd4\">\n",
              "  <button class=\"colab-df-quickchart\" onclick=\"quickchart('df-b106ccf7-7a76-42d1-8a6a-f798f70ebdd4')\"\n",
              "            title=\"Suggest charts\"\n",
              "            style=\"display:none;\">\n",
              "\n",
              "<svg xmlns=\"http://www.w3.org/2000/svg\" height=\"24px\"viewBox=\"0 0 24 24\"\n",
              "     width=\"24px\">\n",
              "    <g>\n",
              "        <path d=\"M19 3H5c-1.1 0-2 .9-2 2v14c0 1.1.9 2 2 2h14c1.1 0 2-.9 2-2V5c0-1.1-.9-2-2-2zM9 17H7v-7h2v7zm4 0h-2V7h2v10zm4 0h-2v-4h2v4z\"/>\n",
              "    </g>\n",
              "</svg>\n",
              "  </button>\n",
              "\n",
              "<style>\n",
              "  .colab-df-quickchart {\n",
              "      --bg-color: #E8F0FE;\n",
              "      --fill-color: #1967D2;\n",
              "      --hover-bg-color: #E2EBFA;\n",
              "      --hover-fill-color: #174EA6;\n",
              "      --disabled-fill-color: #AAA;\n",
              "      --disabled-bg-color: #DDD;\n",
              "  }\n",
              "\n",
              "  [theme=dark] .colab-df-quickchart {\n",
              "      --bg-color: #3B4455;\n",
              "      --fill-color: #D2E3FC;\n",
              "      --hover-bg-color: #434B5C;\n",
              "      --hover-fill-color: #FFFFFF;\n",
              "      --disabled-bg-color: #3B4455;\n",
              "      --disabled-fill-color: #666;\n",
              "  }\n",
              "\n",
              "  .colab-df-quickchart {\n",
              "    background-color: var(--bg-color);\n",
              "    border: none;\n",
              "    border-radius: 50%;\n",
              "    cursor: pointer;\n",
              "    display: none;\n",
              "    fill: var(--fill-color);\n",
              "    height: 32px;\n",
              "    padding: 0;\n",
              "    width: 32px;\n",
              "  }\n",
              "\n",
              "  .colab-df-quickchart:hover {\n",
              "    background-color: var(--hover-bg-color);\n",
              "    box-shadow: 0 1px 2px rgba(60, 64, 67, 0.3), 0 1px 3px 1px rgba(60, 64, 67, 0.15);\n",
              "    fill: var(--button-hover-fill-color);\n",
              "  }\n",
              "\n",
              "  .colab-df-quickchart-complete:disabled,\n",
              "  .colab-df-quickchart-complete:disabled:hover {\n",
              "    background-color: var(--disabled-bg-color);\n",
              "    fill: var(--disabled-fill-color);\n",
              "    box-shadow: none;\n",
              "  }\n",
              "\n",
              "  .colab-df-spinner {\n",
              "    border: 2px solid var(--fill-color);\n",
              "    border-color: transparent;\n",
              "    border-bottom-color: var(--fill-color);\n",
              "    animation:\n",
              "      spin 1s steps(1) infinite;\n",
              "  }\n",
              "\n",
              "  @keyframes spin {\n",
              "    0% {\n",
              "      border-color: transparent;\n",
              "      border-bottom-color: var(--fill-color);\n",
              "      border-left-color: var(--fill-color);\n",
              "    }\n",
              "    20% {\n",
              "      border-color: transparent;\n",
              "      border-left-color: var(--fill-color);\n",
              "      border-top-color: var(--fill-color);\n",
              "    }\n",
              "    30% {\n",
              "      border-color: transparent;\n",
              "      border-left-color: var(--fill-color);\n",
              "      border-top-color: var(--fill-color);\n",
              "      border-right-color: var(--fill-color);\n",
              "    }\n",
              "    40% {\n",
              "      border-color: transparent;\n",
              "      border-right-color: var(--fill-color);\n",
              "      border-top-color: var(--fill-color);\n",
              "    }\n",
              "    60% {\n",
              "      border-color: transparent;\n",
              "      border-right-color: var(--fill-color);\n",
              "    }\n",
              "    80% {\n",
              "      border-color: transparent;\n",
              "      border-right-color: var(--fill-color);\n",
              "      border-bottom-color: var(--fill-color);\n",
              "    }\n",
              "    90% {\n",
              "      border-color: transparent;\n",
              "      border-bottom-color: var(--fill-color);\n",
              "    }\n",
              "  }\n",
              "</style>\n",
              "\n",
              "  <script>\n",
              "    async function quickchart(key) {\n",
              "      const quickchartButtonEl =\n",
              "        document.querySelector('#' + key + ' button');\n",
              "      quickchartButtonEl.disabled = true;  // To prevent multiple clicks.\n",
              "      quickchartButtonEl.classList.add('colab-df-spinner');\n",
              "      try {\n",
              "        const charts = await google.colab.kernel.invokeFunction(\n",
              "            'suggestCharts', [key], {});\n",
              "      } catch (error) {\n",
              "        console.error('Error during call to suggestCharts:', error);\n",
              "      }\n",
              "      quickchartButtonEl.classList.remove('colab-df-spinner');\n",
              "      quickchartButtonEl.classList.add('colab-df-quickchart-complete');\n",
              "    }\n",
              "    (() => {\n",
              "      let quickchartButtonEl =\n",
              "        document.querySelector('#df-b106ccf7-7a76-42d1-8a6a-f798f70ebdd4 button');\n",
              "      quickchartButtonEl.style.display =\n",
              "        google.colab.kernel.accessAllowed ? 'block' : 'none';\n",
              "    })();\n",
              "  </script>\n",
              "</div>\n",
              "    </div>\n",
              "  </div>\n"
            ],
            "text/plain": [
              "   Unnamed: 0  x.radius_mean  x.texture_mean  x.perimeter_mean  x.area_mean  \\\n",
              "0           1         13.540           14.36             87.46        566.3   \n",
              "1           2         13.080           15.71             85.63        520.0   \n",
              "2           3          9.504           12.44             60.34        273.9   \n",
              "3           4         13.030           18.42             82.61        523.8   \n",
              "4           5          8.196           16.84             51.71        201.9   \n",
              "\n",
              "   x.smoothness_mean  x.compactness_mean  x.concavity_mean  \\\n",
              "0            0.09779             0.08129           0.06664   \n",
              "1            0.10750             0.12700           0.04568   \n",
              "2            0.10240             0.06492           0.02956   \n",
              "3            0.08983             0.03766           0.02562   \n",
              "4            0.08600             0.05943           0.01588   \n",
              "\n",
              "   x.concave_pts_mean  x.symmetry_mean  ...  x.texture_worst  \\\n",
              "0            0.047810           0.1885  ...            19.26   \n",
              "1            0.031100           0.1967  ...            20.49   \n",
              "2            0.020760           0.1815  ...            15.66   \n",
              "3            0.029230           0.1467  ...            22.81   \n",
              "4            0.005917           0.1769  ...            21.96   \n",
              "\n",
              "   x.perimeter_worst  x.area_worst  x.smoothness_worst  x.compactness_worst  \\\n",
              "0              99.70         711.2             0.14400              0.17730   \n",
              "1              96.09         630.5             0.13120              0.27760   \n",
              "2              65.13         314.9             0.13240              0.11480   \n",
              "3              84.46         545.9             0.09701              0.04619   \n",
              "4              57.26         242.2             0.12970              0.13570   \n",
              "\n",
              "   x.concavity_worst  x.concave_pts_worst  x.symmetry_worst  \\\n",
              "0            0.23900              0.12880            0.2977   \n",
              "1            0.18900              0.07283            0.3184   \n",
              "2            0.08867              0.06227            0.2450   \n",
              "3            0.04833              0.05013            0.1987   \n",
              "4            0.06880              0.02564            0.3105   \n",
              "\n",
              "   x.fractal_dim_worst  y  \n",
              "0              0.07259  B  \n",
              "1              0.08183  B  \n",
              "2              0.07773  B  \n",
              "3              0.06169  B  \n",
              "4              0.07409  B  \n",
              "\n",
              "[5 rows x 32 columns]"
            ]
          },
          "execution_count": 102,
          "metadata": {},
          "output_type": "execute_result"
        }
      ],
      "source": [
        "##---------Type the code below this line------------------##\n",
        "##-----------URL:- /kaggle/input/breast-cancer-wisconsin-diagnostic-dataset----------------------##\n",
        "brca_data = pd.read_csv(r\"brca.csv\")\n",
        "brca_data.head()"
      ]
    },
    {
      "cell_type": "code",
      "execution_count": null,
      "id": "WReReeu8eqCn",
      "metadata": {
        "colab": {
          "base_uri": "https://localhost:8080/"
        },
        "id": "WReReeu8eqCn",
        "outputId": "df3ae81a-d27e-4f00-c327-a4f32abc7314"
      },
      "outputs": [
        {
          "name": "stdout",
          "output_type": "stream",
          "text": [
            "<class 'pandas.core.frame.DataFrame'>\n",
            "RangeIndex: 569 entries, 0 to 568\n",
            "Data columns (total 32 columns):\n",
            " #   Column               Non-Null Count  Dtype  \n",
            "---  ------               --------------  -----  \n",
            " 0   Unnamed: 0           569 non-null    int64  \n",
            " 1   x.radius_mean        569 non-null    float64\n",
            " 2   x.texture_mean       569 non-null    float64\n",
            " 3   x.perimeter_mean     569 non-null    float64\n",
            " 4   x.area_mean          569 non-null    float64\n",
            " 5   x.smoothness_mean    569 non-null    float64\n",
            " 6   x.compactness_mean   569 non-null    float64\n",
            " 7   x.concavity_mean     569 non-null    float64\n",
            " 8   x.concave_pts_mean   569 non-null    float64\n",
            " 9   x.symmetry_mean      569 non-null    float64\n",
            " 10  x.fractal_dim_mean   569 non-null    float64\n",
            " 11  x.radius_se          569 non-null    float64\n",
            " 12  x.texture_se         569 non-null    float64\n",
            " 13  x.perimeter_se       569 non-null    float64\n",
            " 14  x.area_se            569 non-null    float64\n",
            " 15  x.smoothness_se      569 non-null    float64\n",
            " 16  x.compactness_se     569 non-null    float64\n",
            " 17  x.concavity_se       569 non-null    float64\n",
            " 18  x.concave_pts_se     569 non-null    float64\n",
            " 19  x.symmetry_se        569 non-null    float64\n",
            " 20  x.fractal_dim_se     569 non-null    float64\n",
            " 21  x.radius_worst       569 non-null    float64\n",
            " 22  x.texture_worst      569 non-null    float64\n",
            " 23  x.perimeter_worst    569 non-null    float64\n",
            " 24  x.area_worst         569 non-null    float64\n",
            " 25  x.smoothness_worst   569 non-null    float64\n",
            " 26  x.compactness_worst  569 non-null    float64\n",
            " 27  x.concavity_worst    569 non-null    float64\n",
            " 28  x.concave_pts_worst  569 non-null    float64\n",
            " 29  x.symmetry_worst     569 non-null    float64\n",
            " 30  x.fractal_dim_worst  569 non-null    float64\n",
            " 31  y                    569 non-null    object \n",
            "dtypes: float64(30), int64(1), object(1)\n",
            "memory usage: 142.4+ KB\n"
          ]
        }
      ],
      "source": [
        "brca_data.info()"
      ]
    },
    {
      "cell_type": "code",
      "execution_count": null,
      "id": "WQXBv1IglnPh",
      "metadata": {
        "id": "WQXBv1IglnPh"
      },
      "outputs": [],
      "source": [
        "#Renaming the columns\n",
        "brca_data.rename(columns = {\"Unnamed: 0\" : \"unnamed\",'x.radius_mean': 'radius_mean','x.texture_mean':'texture_mean',\n",
        "                            'x.perimeter_mean':'perimeter_mean','x.area_mean':'area_mean','x.smoothness_mean':'smoothness_mean',\n",
        "                            'x.compactness_mean':'compactness_mean','x.concavity_mean':'concavity_mean','x.concave_pts_mean':'concave_pts_mean',\n",
        "                            'x.symmetry_mean':'symmetry_mean','x.fractal_dim_mean':'fractal_dim_mean','x.radius_se':'radius_se',\n",
        "                            'x.texture_se':'texture_se','x.perimeter_se':'perimeter_se','x.area_se':'area_se','x.smoothness_se':'smoothness_se',\n",
        "                            'x.compactness_se':'compactness_se','x.concavity_se':'concavity_se','x.concave_pts_se':'concave_pts_se',\n",
        "                            'x.symmetry_se':'symmetry_se','x.fractal_dim_se':'fractal_dim_se','x.radius_worst':'radius_worst','x.texture_worst':'texture_worst',\n",
        "                            'x.perimeter_worst':'perimeter_worst','x.area_worst':'area_worst','x.smoothness_worst':'smoothness_worst','x.compactness_worst':'compactness_worst',\n",
        "                            'x.concavity_worst':'concavity_worst','x.concave_pts_worst':'concave_pts_worst','x.symmetry_worst':'symmetry_worst',\n",
        "                            'x.fractal_dim_worst':'fractal_dim_worst'},inplace = True)\n",
        "\n"
      ]
    },
    {
      "cell_type": "code",
      "execution_count": null,
      "id": "p6Gj9kOIlqnv",
      "metadata": {
        "colab": {
          "base_uri": "https://localhost:8080/"
        },
        "id": "p6Gj9kOIlqnv",
        "outputId": "f4608773-af88-4088-8f1d-f8f3df3032b8"
      },
      "outputs": [
        {
          "data": {
            "text/plain": [
              "Index(['unnamed', 'radius_mean', 'texture_mean', 'perimeter_mean', 'area_mean',\n",
              "       'smoothness_mean', 'compactness_mean', 'concavity_mean',\n",
              "       'concave_pts_mean', 'symmetry_mean', 'fractal_dim_mean', 'radius_se',\n",
              "       'texture_se', 'perimeter_se', 'area_se', 'smoothness_se',\n",
              "       'compactness_se', 'concavity_se', 'concave_pts_se', 'symmetry_se',\n",
              "       'fractal_dim_se', 'radius_worst', 'texture_worst', 'perimeter_worst',\n",
              "       'area_worst', 'smoothness_worst', 'compactness_worst',\n",
              "       'concavity_worst', 'concave_pts_worst', 'symmetry_worst',\n",
              "       'fractal_dim_worst', 'y'],\n",
              "      dtype='object')"
            ]
          },
          "execution_count": 63,
          "metadata": {},
          "output_type": "execute_result"
        }
      ],
      "source": [
        "brca_data.columns"
      ]
    },
    {
      "cell_type": "code",
      "execution_count": null,
      "id": "mJYLR8N2lvGH",
      "metadata": {
        "id": "mJYLR8N2lvGH"
      },
      "outputs": [],
      "source": [
        "#removing the unnamed column\n",
        "brca_data = brca_data.drop(columns='unnamed',axis = 1)"
      ]
    },
    {
      "cell_type": "code",
      "execution_count": null,
      "id": "-2a33ZxYe_Ii",
      "metadata": {
        "colab": {
          "base_uri": "https://localhost:8080/"
        },
        "id": "-2a33ZxYe_Ii",
        "outputId": "be2ed9cf-b49f-4d05-9761-fe174900e485"
      },
      "outputs": [
        {
          "data": {
            "text/plain": [
              "Index(['radius_mean', 'texture_mean', 'perimeter_mean', 'area_mean',\n",
              "       'smoothness_mean', 'compactness_mean', 'concavity_mean',\n",
              "       'concave_pts_mean', 'symmetry_mean', 'fractal_dim_mean', 'radius_se',\n",
              "       'texture_se', 'perimeter_se', 'area_se', 'smoothness_se',\n",
              "       'compactness_se', 'concavity_se', 'concave_pts_se', 'symmetry_se',\n",
              "       'fractal_dim_se', 'radius_worst', 'texture_worst', 'perimeter_worst',\n",
              "       'area_worst', 'smoothness_worst', 'compactness_worst',\n",
              "       'concavity_worst', 'concave_pts_worst', 'symmetry_worst',\n",
              "       'fractal_dim_worst', 'y'],\n",
              "      dtype='object')"
            ]
          },
          "execution_count": 65,
          "metadata": {},
          "output_type": "execute_result"
        }
      ],
      "source": [
        "brca_data.columns"
      ]
    },
    {
      "cell_type": "code",
      "execution_count": null,
      "id": "Lw2GQ4Y9i2Ik",
      "metadata": {
        "id": "Lw2GQ4Y9i2Ik"
      },
      "outputs": [],
      "source": [
        "#Dropping duplicates and null values\n",
        "brca_data =brca_data.drop_duplicates()\n",
        "brca_data = brca_data.dropna()"
      ]
    },
    {
      "cell_type": "code",
      "execution_count": null,
      "id": "rfnHGt_Ni6tY",
      "metadata": {
        "colab": {
          "base_uri": "https://localhost:8080/"
        },
        "id": "rfnHGt_Ni6tY",
        "outputId": "72ab13ce-7a55-4706-c4c3-a15fd789192b"
      },
      "outputs": [
        {
          "data": {
            "text/plain": [
              "0      False\n",
              "1      False\n",
              "2      False\n",
              "3      False\n",
              "4      False\n",
              "       ...  \n",
              "564    False\n",
              "565    False\n",
              "566    False\n",
              "567    False\n",
              "568    False\n",
              "Length: 569, dtype: bool"
            ]
          },
          "execution_count": 67,
          "metadata": {},
          "output_type": "execute_result"
        }
      ],
      "source": [
        "#Confirming inexistence of duplicates and null values\n",
        "brca_data.duplicated()"
      ]
    },
    {
      "cell_type": "code",
      "execution_count": null,
      "id": "vt_Z2NASl64H",
      "metadata": {
        "colab": {
          "base_uri": "https://localhost:8080/"
        },
        "id": "vt_Z2NASl64H",
        "outputId": "eaf02b43-8472-4c22-b6f3-8facf414bd7a"
      },
      "outputs": [
        {
          "data": {
            "text/plain": [
              "radius_mean          0\n",
              "texture_mean         0\n",
              "perimeter_mean       0\n",
              "area_mean            0\n",
              "smoothness_mean      0\n",
              "compactness_mean     0\n",
              "concavity_mean       0\n",
              "concave_pts_mean     0\n",
              "symmetry_mean        0\n",
              "fractal_dim_mean     0\n",
              "radius_se            0\n",
              "texture_se           0\n",
              "perimeter_se         0\n",
              "area_se              0\n",
              "smoothness_se        0\n",
              "compactness_se       0\n",
              "concavity_se         0\n",
              "concave_pts_se       0\n",
              "symmetry_se          0\n",
              "fractal_dim_se       0\n",
              "radius_worst         0\n",
              "texture_worst        0\n",
              "perimeter_worst      0\n",
              "area_worst           0\n",
              "smoothness_worst     0\n",
              "compactness_worst    0\n",
              "concavity_worst      0\n",
              "concave_pts_worst    0\n",
              "symmetry_worst       0\n",
              "fractal_dim_worst    0\n",
              "y                    0\n",
              "dtype: int64"
            ]
          },
          "execution_count": 68,
          "metadata": {},
          "output_type": "execute_result"
        }
      ],
      "source": [
        "brca_data.isnull().sum()"
      ]
    },
    {
      "cell_type": "code",
      "execution_count": null,
      "id": "KDvOyjHlmKRP",
      "metadata": {
        "colab": {
          "base_uri": "https://localhost:8080/"
        },
        "id": "KDvOyjHlmKRP",
        "outputId": "61e6bc9f-ace4-46b9-dae0-e1901b17925b"
      },
      "outputs": [
        {
          "data": {
            "text/plain": [
              "B    357\n",
              "M    212\n",
              "Name: y, dtype: int64"
            ]
          },
          "execution_count": 69,
          "metadata": {},
          "output_type": "execute_result"
        }
      ],
      "source": [
        "brca_data['y'].value_counts()"
      ]
    },
    {
      "cell_type": "code",
      "execution_count": null,
      "id": "wF_UICsTmbQm",
      "metadata": {
        "colab": {
          "base_uri": "https://localhost:8080/"
        },
        "id": "wF_UICsTmbQm",
        "outputId": "56b7985c-de40-4051-b896-33e843c1523a"
      },
      "outputs": [
        {
          "data": {
            "text/plain": [
              "0    357\n",
              "1    212\n",
              "Name: y, dtype: int64"
            ]
          },
          "execution_count": 70,
          "metadata": {},
          "output_type": "execute_result"
        }
      ],
      "source": [
        "#Changing y values to numbers\n",
        "brca_data['y'] = brca_data['y'].replace(['M','B'],[1,0])\n",
        "brca_data['y'].value_counts()"
      ]
    },
    {
      "cell_type": "code",
      "execution_count": null,
      "id": "7o-ADLbhmyzG",
      "metadata": {
        "id": "7o-ADLbhmyzG"
      },
      "outputs": [],
      "source": [
        "#Infilating the dataset to make it larger\n",
        "#n_replicas = 50\n",
        "#brca_data = pd.DataFrame(np.repeat(brca_data.values.astype(float),n_replicas,axis = 0),columns = brca_data.columns)\n",
        "#brca_data.head()"
      ]
    },
    {
      "cell_type": "code",
      "execution_count": null,
      "id": "QbgRdGQGm09F",
      "metadata": {
        "colab": {
          "base_uri": "https://localhost:8080/"
        },
        "id": "QbgRdGQGm09F",
        "outputId": "8cc75d22-817c-4a5f-d521-64025f92476a"
      },
      "outputs": [
        {
          "name": "stdout",
          "output_type": "stream",
          "text": [
            "<class 'pandas.core.frame.DataFrame'>\n",
            "Int64Index: 569 entries, 0 to 568\n",
            "Data columns (total 31 columns):\n",
            " #   Column             Non-Null Count  Dtype  \n",
            "---  ------             --------------  -----  \n",
            " 0   radius_mean        569 non-null    float64\n",
            " 1   texture_mean       569 non-null    float64\n",
            " 2   perimeter_mean     569 non-null    float64\n",
            " 3   area_mean          569 non-null    float64\n",
            " 4   smoothness_mean    569 non-null    float64\n",
            " 5   compactness_mean   569 non-null    float64\n",
            " 6   concavity_mean     569 non-null    float64\n",
            " 7   concave_pts_mean   569 non-null    float64\n",
            " 8   symmetry_mean      569 non-null    float64\n",
            " 9   fractal_dim_mean   569 non-null    float64\n",
            " 10  radius_se          569 non-null    float64\n",
            " 11  texture_se         569 non-null    float64\n",
            " 12  perimeter_se       569 non-null    float64\n",
            " 13  area_se            569 non-null    float64\n",
            " 14  smoothness_se      569 non-null    float64\n",
            " 15  compactness_se     569 non-null    float64\n",
            " 16  concavity_se       569 non-null    float64\n",
            " 17  concave_pts_se     569 non-null    float64\n",
            " 18  symmetry_se        569 non-null    float64\n",
            " 19  fractal_dim_se     569 non-null    float64\n",
            " 20  radius_worst       569 non-null    float64\n",
            " 21  texture_worst      569 non-null    float64\n",
            " 22  perimeter_worst    569 non-null    float64\n",
            " 23  area_worst         569 non-null    float64\n",
            " 24  smoothness_worst   569 non-null    float64\n",
            " 25  compactness_worst  569 non-null    float64\n",
            " 26  concavity_worst    569 non-null    float64\n",
            " 27  concave_pts_worst  569 non-null    float64\n",
            " 28  symmetry_worst     569 non-null    float64\n",
            " 29  fractal_dim_worst  569 non-null    float64\n",
            " 30  y                  569 non-null    int64  \n",
            "dtypes: float64(30), int64(1)\n",
            "memory usage: 142.2 KB\n"
          ]
        }
      ],
      "source": [
        "brca_data.info()"
      ]
    },
    {
      "cell_type": "code",
      "execution_count": null,
      "id": "KeUsbX9xm4I0",
      "metadata": {
        "colab": {
          "base_uri": "https://localhost:8080/"
        },
        "id": "KeUsbX9xm4I0",
        "outputId": "d8b9fe0b-06b7-4ea3-e343-1c6bd4697a1a"
      },
      "outputs": [
        {
          "data": {
            "text/plain": [
              "(569, 31)"
            ]
          },
          "execution_count": 73,
          "metadata": {},
          "output_type": "execute_result"
        }
      ],
      "source": [
        "#shape\n",
        "brca_data.shape"
      ]
    },
    {
      "cell_type": "code",
      "execution_count": null,
      "id": "TjDE509Lm6s-",
      "metadata": {
        "colab": {
          "base_uri": "https://localhost:8080/",
          "height": 193
        },
        "id": "TjDE509Lm6s-",
        "outputId": "bb2f7e95-d767-4591-f23e-a9968b919684"
      },
      "outputs": [
        {
          "data": {
            "application/vnd.google.colaboratory.intrinsic+json": {
              "type": "dataframe"
            },
            "text/html": [
              "\n",
              "  <div id=\"df-500b582b-7c5d-4331-825a-f2a744b9b0b5\" class=\"colab-df-container\">\n",
              "    <div>\n",
              "<style scoped>\n",
              "    .dataframe tbody tr th:only-of-type {\n",
              "        vertical-align: middle;\n",
              "    }\n",
              "\n",
              "    .dataframe tbody tr th {\n",
              "        vertical-align: top;\n",
              "    }\n",
              "\n",
              "    .dataframe thead th {\n",
              "        text-align: right;\n",
              "    }\n",
              "</style>\n",
              "<table border=\"1\" class=\"dataframe\">\n",
              "  <thead>\n",
              "    <tr style=\"text-align: right;\">\n",
              "      <th></th>\n",
              "      <th>radius_mean</th>\n",
              "      <th>texture_mean</th>\n",
              "      <th>perimeter_mean</th>\n",
              "      <th>area_mean</th>\n",
              "      <th>smoothness_mean</th>\n",
              "      <th>compactness_mean</th>\n",
              "      <th>concavity_mean</th>\n",
              "      <th>concave_pts_mean</th>\n",
              "      <th>symmetry_mean</th>\n",
              "      <th>fractal_dim_mean</th>\n",
              "      <th>...</th>\n",
              "      <th>radius_worst</th>\n",
              "      <th>texture_worst</th>\n",
              "      <th>perimeter_worst</th>\n",
              "      <th>area_worst</th>\n",
              "      <th>smoothness_worst</th>\n",
              "      <th>compactness_worst</th>\n",
              "      <th>concavity_worst</th>\n",
              "      <th>concave_pts_worst</th>\n",
              "      <th>symmetry_worst</th>\n",
              "      <th>fractal_dim_worst</th>\n",
              "    </tr>\n",
              "    <tr>\n",
              "      <th>y</th>\n",
              "      <th></th>\n",
              "      <th></th>\n",
              "      <th></th>\n",
              "      <th></th>\n",
              "      <th></th>\n",
              "      <th></th>\n",
              "      <th></th>\n",
              "      <th></th>\n",
              "      <th></th>\n",
              "      <th></th>\n",
              "      <th></th>\n",
              "      <th></th>\n",
              "      <th></th>\n",
              "      <th></th>\n",
              "      <th></th>\n",
              "      <th></th>\n",
              "      <th></th>\n",
              "      <th></th>\n",
              "      <th></th>\n",
              "      <th></th>\n",
              "      <th></th>\n",
              "    </tr>\n",
              "  </thead>\n",
              "  <tbody>\n",
              "    <tr>\n",
              "      <th>0</th>\n",
              "      <td>12.146524</td>\n",
              "      <td>17.914762</td>\n",
              "      <td>78.075406</td>\n",
              "      <td>462.790196</td>\n",
              "      <td>0.092478</td>\n",
              "      <td>0.080085</td>\n",
              "      <td>0.046058</td>\n",
              "      <td>0.025717</td>\n",
              "      <td>0.174186</td>\n",
              "      <td>0.062867</td>\n",
              "      <td>...</td>\n",
              "      <td>13.379801</td>\n",
              "      <td>23.515070</td>\n",
              "      <td>87.005938</td>\n",
              "      <td>558.899440</td>\n",
              "      <td>0.124959</td>\n",
              "      <td>0.182673</td>\n",
              "      <td>0.166238</td>\n",
              "      <td>0.074444</td>\n",
              "      <td>0.270246</td>\n",
              "      <td>0.079442</td>\n",
              "    </tr>\n",
              "    <tr>\n",
              "      <th>1</th>\n",
              "      <td>17.462830</td>\n",
              "      <td>21.604906</td>\n",
              "      <td>115.365377</td>\n",
              "      <td>978.376415</td>\n",
              "      <td>0.102898</td>\n",
              "      <td>0.145188</td>\n",
              "      <td>0.160775</td>\n",
              "      <td>0.087990</td>\n",
              "      <td>0.192909</td>\n",
              "      <td>0.062680</td>\n",
              "      <td>...</td>\n",
              "      <td>21.134811</td>\n",
              "      <td>29.318208</td>\n",
              "      <td>141.370330</td>\n",
              "      <td>1422.286321</td>\n",
              "      <td>0.144845</td>\n",
              "      <td>0.374824</td>\n",
              "      <td>0.450606</td>\n",
              "      <td>0.182237</td>\n",
              "      <td>0.323468</td>\n",
              "      <td>0.091530</td>\n",
              "    </tr>\n",
              "  </tbody>\n",
              "</table>\n",
              "<p>2 rows × 30 columns</p>\n",
              "</div>\n",
              "    <div class=\"colab-df-buttons\">\n",
              "\n",
              "  <div class=\"colab-df-container\">\n",
              "    <button class=\"colab-df-convert\" onclick=\"convertToInteractive('df-500b582b-7c5d-4331-825a-f2a744b9b0b5')\"\n",
              "            title=\"Convert this dataframe to an interactive table.\"\n",
              "            style=\"display:none;\">\n",
              "\n",
              "  <svg xmlns=\"http://www.w3.org/2000/svg\" height=\"24px\" viewBox=\"0 -960 960 960\">\n",
              "    <path d=\"M120-120v-720h720v720H120Zm60-500h600v-160H180v160Zm220 220h160v-160H400v160Zm0 220h160v-160H400v160ZM180-400h160v-160H180v160Zm440 0h160v-160H620v160ZM180-180h160v-160H180v160Zm440 0h160v-160H620v160Z\"/>\n",
              "  </svg>\n",
              "    </button>\n",
              "\n",
              "  <style>\n",
              "    .colab-df-container {\n",
              "      display:flex;\n",
              "      gap: 12px;\n",
              "    }\n",
              "\n",
              "    .colab-df-convert {\n",
              "      background-color: #E8F0FE;\n",
              "      border: none;\n",
              "      border-radius: 50%;\n",
              "      cursor: pointer;\n",
              "      display: none;\n",
              "      fill: #1967D2;\n",
              "      height: 32px;\n",
              "      padding: 0 0 0 0;\n",
              "      width: 32px;\n",
              "    }\n",
              "\n",
              "    .colab-df-convert:hover {\n",
              "      background-color: #E2EBFA;\n",
              "      box-shadow: 0px 1px 2px rgba(60, 64, 67, 0.3), 0px 1px 3px 1px rgba(60, 64, 67, 0.15);\n",
              "      fill: #174EA6;\n",
              "    }\n",
              "\n",
              "    .colab-df-buttons div {\n",
              "      margin-bottom: 4px;\n",
              "    }\n",
              "\n",
              "    [theme=dark] .colab-df-convert {\n",
              "      background-color: #3B4455;\n",
              "      fill: #D2E3FC;\n",
              "    }\n",
              "\n",
              "    [theme=dark] .colab-df-convert:hover {\n",
              "      background-color: #434B5C;\n",
              "      box-shadow: 0px 1px 3px 1px rgba(0, 0, 0, 0.15);\n",
              "      filter: drop-shadow(0px 1px 2px rgba(0, 0, 0, 0.3));\n",
              "      fill: #FFFFFF;\n",
              "    }\n",
              "  </style>\n",
              "\n",
              "    <script>\n",
              "      const buttonEl =\n",
              "        document.querySelector('#df-500b582b-7c5d-4331-825a-f2a744b9b0b5 button.colab-df-convert');\n",
              "      buttonEl.style.display =\n",
              "        google.colab.kernel.accessAllowed ? 'block' : 'none';\n",
              "\n",
              "      async function convertToInteractive(key) {\n",
              "        const element = document.querySelector('#df-500b582b-7c5d-4331-825a-f2a744b9b0b5');\n",
              "        const dataTable =\n",
              "          await google.colab.kernel.invokeFunction('convertToInteractive',\n",
              "                                                    [key], {});\n",
              "        if (!dataTable) return;\n",
              "\n",
              "        const docLinkHtml = 'Like what you see? Visit the ' +\n",
              "          '<a target=\"_blank\" href=https://colab.research.google.com/notebooks/data_table.ipynb>data table notebook</a>'\n",
              "          + ' to learn more about interactive tables.';\n",
              "        element.innerHTML = '';\n",
              "        dataTable['output_type'] = 'display_data';\n",
              "        await google.colab.output.renderOutput(dataTable, element);\n",
              "        const docLink = document.createElement('div');\n",
              "        docLink.innerHTML = docLinkHtml;\n",
              "        element.appendChild(docLink);\n",
              "      }\n",
              "    </script>\n",
              "  </div>\n",
              "\n",
              "\n",
              "<div id=\"df-4d8fede9-0806-425d-8085-42172461ef18\">\n",
              "  <button class=\"colab-df-quickchart\" onclick=\"quickchart('df-4d8fede9-0806-425d-8085-42172461ef18')\"\n",
              "            title=\"Suggest charts\"\n",
              "            style=\"display:none;\">\n",
              "\n",
              "<svg xmlns=\"http://www.w3.org/2000/svg\" height=\"24px\"viewBox=\"0 0 24 24\"\n",
              "     width=\"24px\">\n",
              "    <g>\n",
              "        <path d=\"M19 3H5c-1.1 0-2 .9-2 2v14c0 1.1.9 2 2 2h14c1.1 0 2-.9 2-2V5c0-1.1-.9-2-2-2zM9 17H7v-7h2v7zm4 0h-2V7h2v10zm4 0h-2v-4h2v4z\"/>\n",
              "    </g>\n",
              "</svg>\n",
              "  </button>\n",
              "\n",
              "<style>\n",
              "  .colab-df-quickchart {\n",
              "      --bg-color: #E8F0FE;\n",
              "      --fill-color: #1967D2;\n",
              "      --hover-bg-color: #E2EBFA;\n",
              "      --hover-fill-color: #174EA6;\n",
              "      --disabled-fill-color: #AAA;\n",
              "      --disabled-bg-color: #DDD;\n",
              "  }\n",
              "\n",
              "  [theme=dark] .colab-df-quickchart {\n",
              "      --bg-color: #3B4455;\n",
              "      --fill-color: #D2E3FC;\n",
              "      --hover-bg-color: #434B5C;\n",
              "      --hover-fill-color: #FFFFFF;\n",
              "      --disabled-bg-color: #3B4455;\n",
              "      --disabled-fill-color: #666;\n",
              "  }\n",
              "\n",
              "  .colab-df-quickchart {\n",
              "    background-color: var(--bg-color);\n",
              "    border: none;\n",
              "    border-radius: 50%;\n",
              "    cursor: pointer;\n",
              "    display: none;\n",
              "    fill: var(--fill-color);\n",
              "    height: 32px;\n",
              "    padding: 0;\n",
              "    width: 32px;\n",
              "  }\n",
              "\n",
              "  .colab-df-quickchart:hover {\n",
              "    background-color: var(--hover-bg-color);\n",
              "    box-shadow: 0 1px 2px rgba(60, 64, 67, 0.3), 0 1px 3px 1px rgba(60, 64, 67, 0.15);\n",
              "    fill: var(--button-hover-fill-color);\n",
              "  }\n",
              "\n",
              "  .colab-df-quickchart-complete:disabled,\n",
              "  .colab-df-quickchart-complete:disabled:hover {\n",
              "    background-color: var(--disabled-bg-color);\n",
              "    fill: var(--disabled-fill-color);\n",
              "    box-shadow: none;\n",
              "  }\n",
              "\n",
              "  .colab-df-spinner {\n",
              "    border: 2px solid var(--fill-color);\n",
              "    border-color: transparent;\n",
              "    border-bottom-color: var(--fill-color);\n",
              "    animation:\n",
              "      spin 1s steps(1) infinite;\n",
              "  }\n",
              "\n",
              "  @keyframes spin {\n",
              "    0% {\n",
              "      border-color: transparent;\n",
              "      border-bottom-color: var(--fill-color);\n",
              "      border-left-color: var(--fill-color);\n",
              "    }\n",
              "    20% {\n",
              "      border-color: transparent;\n",
              "      border-left-color: var(--fill-color);\n",
              "      border-top-color: var(--fill-color);\n",
              "    }\n",
              "    30% {\n",
              "      border-color: transparent;\n",
              "      border-left-color: var(--fill-color);\n",
              "      border-top-color: var(--fill-color);\n",
              "      border-right-color: var(--fill-color);\n",
              "    }\n",
              "    40% {\n",
              "      border-color: transparent;\n",
              "      border-right-color: var(--fill-color);\n",
              "      border-top-color: var(--fill-color);\n",
              "    }\n",
              "    60% {\n",
              "      border-color: transparent;\n",
              "      border-right-color: var(--fill-color);\n",
              "    }\n",
              "    80% {\n",
              "      border-color: transparent;\n",
              "      border-right-color: var(--fill-color);\n",
              "      border-bottom-color: var(--fill-color);\n",
              "    }\n",
              "    90% {\n",
              "      border-color: transparent;\n",
              "      border-bottom-color: var(--fill-color);\n",
              "    }\n",
              "  }\n",
              "</style>\n",
              "\n",
              "  <script>\n",
              "    async function quickchart(key) {\n",
              "      const quickchartButtonEl =\n",
              "        document.querySelector('#' + key + ' button');\n",
              "      quickchartButtonEl.disabled = true;  // To prevent multiple clicks.\n",
              "      quickchartButtonEl.classList.add('colab-df-spinner');\n",
              "      try {\n",
              "        const charts = await google.colab.kernel.invokeFunction(\n",
              "            'suggestCharts', [key], {});\n",
              "      } catch (error) {\n",
              "        console.error('Error during call to suggestCharts:', error);\n",
              "      }\n",
              "      quickchartButtonEl.classList.remove('colab-df-spinner');\n",
              "      quickchartButtonEl.classList.add('colab-df-quickchart-complete');\n",
              "    }\n",
              "    (() => {\n",
              "      let quickchartButtonEl =\n",
              "        document.querySelector('#df-4d8fede9-0806-425d-8085-42172461ef18 button');\n",
              "      quickchartButtonEl.style.display =\n",
              "        google.colab.kernel.accessAllowed ? 'block' : 'none';\n",
              "    })();\n",
              "  </script>\n",
              "</div>\n",
              "    </div>\n",
              "  </div>\n"
            ],
            "text/plain": [
              "   radius_mean  texture_mean  perimeter_mean   area_mean  smoothness_mean  \\\n",
              "y                                                                           \n",
              "0    12.146524     17.914762       78.075406  462.790196         0.092478   \n",
              "1    17.462830     21.604906      115.365377  978.376415         0.102898   \n",
              "\n",
              "   compactness_mean  concavity_mean  concave_pts_mean  symmetry_mean  \\\n",
              "y                                                                      \n",
              "0          0.080085        0.046058          0.025717       0.174186   \n",
              "1          0.145188        0.160775          0.087990       0.192909   \n",
              "\n",
              "   fractal_dim_mean  ...  radius_worst  texture_worst  perimeter_worst  \\\n",
              "y                    ...                                                 \n",
              "0          0.062867  ...     13.379801      23.515070        87.005938   \n",
              "1          0.062680  ...     21.134811      29.318208       141.370330   \n",
              "\n",
              "    area_worst  smoothness_worst  compactness_worst  concavity_worst  \\\n",
              "y                                                                      \n",
              "0   558.899440          0.124959           0.182673         0.166238   \n",
              "1  1422.286321          0.144845           0.374824         0.450606   \n",
              "\n",
              "   concave_pts_worst  symmetry_worst  fractal_dim_worst  \n",
              "y                                                        \n",
              "0           0.074444        0.270246           0.079442  \n",
              "1           0.182237        0.323468           0.091530  \n",
              "\n",
              "[2 rows x 30 columns]"
            ]
          },
          "execution_count": 75,
          "metadata": {},
          "output_type": "execute_result"
        }
      ],
      "source": [
        "brca_data.groupby('y').mean()"
      ]
    },
    {
      "cell_type": "markdown",
      "id": "102e0e36",
      "metadata": {
        "id": "102e0e36"
      },
      "source": [
        "# 3. Data Preparation\n",
        "\n",
        "Perform the data prepracessing that is required for the data that you have downloaded.\n",
        "\n",
        "\n",
        "This stage depends on the dataset that is used."
      ]
    },
    {
      "cell_type": "code",
      "execution_count": null,
      "id": "dd3118eb",
      "metadata": {
        "colab": {
          "base_uri": "https://localhost:8080/"
        },
        "id": "dd3118eb",
        "outputId": "2a21c786-4d98-4b1b-f5f1-1df3e75da94e"
      },
      "outputs": [
        {
          "name": "stdout",
          "output_type": "stream",
          "text": [
            "0      0\n",
            "1      0\n",
            "2      0\n",
            "3      0\n",
            "4      0\n",
            "      ..\n",
            "564    1\n",
            "565    1\n",
            "566    1\n",
            "567    1\n",
            "568    1\n",
            "Length: 569, dtype: int64\n"
          ]
        }
      ],
      "source": [
        "##---------Type the code below this line------------------##\n",
        "##Separating the features and target\n",
        "X = brca_data.drop(columns = 'y',axis=1)\n",
        "Y = [int(x) for x in brca_data['y']]\n",
        "Y = pd.Series(Y)\n",
        "print(Y)\n"
      ]
    },
    {
      "cell_type": "code",
      "execution_count": null,
      "id": "r3qQcxBInxdJ",
      "metadata": {
        "colab": {
          "base_uri": "https://localhost:8080/"
        },
        "id": "r3qQcxBInxdJ",
        "outputId": "edbed94d-bd29-4fc4-ac03-9be4b79f2a78"
      },
      "outputs": [
        {
          "name": "stdout",
          "output_type": "stream",
          "text": [
            "X shape (569, 30) X_train shape (455, 30) X_test_shape (114, 30)\n"
          ]
        }
      ],
      "source": [
        "## Split the data into training set and testing set\n",
        "X_train,X_test,Y_train,Y_test = train_test_split(X,Y,test_size = 0.20,stratify = Y,random_state=10)\n",
        "print('X shape',X.shape,'X_train shape',X_train.shape,'X_test_shape',X_test.shape)\n"
      ]
    },
    {
      "cell_type": "code",
      "execution_count": null,
      "id": "2gutw7Wun2qn",
      "metadata": {
        "id": "2gutw7Wun2qn"
      },
      "outputs": [],
      "source": [
        "#Standardizing the data\n",
        "from sklearn.preprocessing import StandardScaler\n",
        "scaler = StandardScaler()\n",
        "X_train = scaler.fit_transform(X_train)\n",
        "X_test = scaler.fit_transform(X_test)"
      ]
    },
    {
      "cell_type": "markdown",
      "id": "3ae0b5d2",
      "metadata": {
        "id": "3ae0b5d2"
      },
      "source": [
        "## 4. Deep Neural Network Architecture\n"
      ]
    },
    {
      "cell_type": "markdown",
      "id": "186bf4d7",
      "metadata": {
        "id": "186bf4d7"
      },
      "source": [
        "## 4.1 Design the architecture that you will be using\n",
        "\n",
        "* CNN / RNN / Transformer as per the journal referenced\n",
        "\n"
      ]
    },
    {
      "cell_type": "code",
      "execution_count": null,
      "id": "868d7b27",
      "metadata": {
        "id": "868d7b27"
      },
      "outputs": [],
      "source": [
        "##---------Type the code below this line------------------##\n",
        "##---Buiding the Neural Network\n",
        "import tensorflow as tf\n",
        "from tensorflow import keras\n",
        "tf.random.set_seed(3)"
      ]
    },
    {
      "cell_type": "code",
      "execution_count": null,
      "id": "z790m2XQs22n",
      "metadata": {
        "id": "z790m2XQs22n"
      },
      "outputs": [],
      "source": [
        "epochs = 100\n",
        "model = Sequential()\n",
        "model.add(Convolution1D(filters=32,kernel_size=2,activation='relu',input_shape=(30,1)))\n",
        "model.add(BatchNormalization())\n",
        "model.add(Dropout(0.2))\n",
        "\n",
        "model.add(Convolution1D(filters=64,kernel_size=2,activation='relu'))\n",
        "model.add(BatchNormalization())\n",
        "model.add(Dropout(0.5))\n",
        "\n",
        "model.add(Flatten())\n",
        "model.add(Dense(64,activation = 'relu'))\n",
        "model.add(Dropout(0.5))\n",
        "\n",
        "model.add(Dense(1,activation = 'sigmoid'))"
      ]
    },
    {
      "cell_type": "code",
      "execution_count": null,
      "id": "06cJTs2Os8UE",
      "metadata": {
        "colab": {
          "base_uri": "https://localhost:8080/"
        },
        "id": "06cJTs2Os8UE",
        "outputId": "dde6e1e8-0d21-453f-f2c4-b507e3b9ad0f"
      },
      "outputs": [
        {
          "name": "stdout",
          "output_type": "stream",
          "text": [
            "Model: \"sequential_2\"\n",
            "_________________________________________________________________\n",
            " Layer (type)                Output Shape              Param #   \n",
            "=================================================================\n",
            " conv1d_4 (Conv1D)           (None, 29, 32)            96        \n",
            "                                                                 \n",
            " batch_normalization_4 (Bat  (None, 29, 32)            128       \n",
            " chNormalization)                                                \n",
            "                                                                 \n",
            " dropout_6 (Dropout)         (None, 29, 32)            0         \n",
            "                                                                 \n",
            " conv1d_5 (Conv1D)           (None, 28, 64)            4160      \n",
            "                                                                 \n",
            " batch_normalization_5 (Bat  (None, 28, 64)            256       \n",
            " chNormalization)                                                \n",
            "                                                                 \n",
            " dropout_7 (Dropout)         (None, 28, 64)            0         \n",
            "                                                                 \n",
            " flatten_2 (Flatten)         (None, 1792)              0         \n",
            "                                                                 \n",
            " dense_4 (Dense)             (None, 64)                114752    \n",
            "                                                                 \n",
            " dropout_8 (Dropout)         (None, 64)                0         \n",
            "                                                                 \n",
            " dense_5 (Dense)             (None, 1)                 65        \n",
            "                                                                 \n",
            "=================================================================\n",
            "Total params: 119457 (466.63 KB)\n",
            "Trainable params: 119265 (465.88 KB)\n",
            "Non-trainable params: 192 (768.00 Byte)\n",
            "_________________________________________________________________\n"
          ]
        }
      ],
      "source": [
        "model.summary()"
      ]
    },
    {
      "cell_type": "code",
      "execution_count": null,
      "id": "3WcO0z3-pZx4",
      "metadata": {
        "id": "3WcO0z3-pZx4"
      },
      "outputs": [],
      "source": [
        "##Model Compillation\n",
        "model.compile(\n",
        "    optimizer=Adam(learning_rate=0.00005),\n",
        "    loss='binary_crossentropy',\n",
        "    metrics=['accuracy']\n",
        "             )"
      ]
    },
    {
      "cell_type": "code",
      "execution_count": null,
      "id": "UKnpDc08Sn8j",
      "metadata": {
        "colab": {
          "base_uri": "https://localhost:8080/"
        },
        "id": "UKnpDc08Sn8j",
        "outputId": "5aebbc53-fba8-4cd4-896f-57e9b8f9c2bf"
      },
      "outputs": [
        {
          "name": "stdout",
          "output_type": "stream",
          "text": [
            "Number of layers: 10\n",
            "Layer 1: Conv1D, Units: (None, 29, 32)\n",
            "Layer 2: BatchNormalization, Units: (None, 29, 32)\n",
            "Layer 3: Dropout, Units: (None, 29, 32)\n",
            "Layer 4: Conv1D, Units: (None, 28, 64)\n",
            "Layer 5: BatchNormalization, Units: (None, 28, 64)\n",
            "Layer 6: Dropout, Units: (None, 28, 64)\n",
            "Layer 7: Flatten, Units: (None, 1792)\n",
            "Layer 8: Dense, Units: (None, 64)\n",
            "Layer 9: Dropout, Units: (None, 64)\n",
            "Layer 10: Dense, Units: (None, 1)\n"
          ]
        }
      ],
      "source": [
        "# Print number of layers and units in each layer\n",
        "print(\"Number of layers:\", len(model.layers))\n",
        "for i, layer in enumerate(model.layers):\n",
        "    print(f\"Layer {i+1}: {layer.__class__.__name__}, Units: {layer.output_shape}\")\n"
      ]
    },
    {
      "cell_type": "markdown",
      "id": "575f9e37",
      "metadata": {
        "id": "575f9e37"
      },
      "source": [
        "## 4.2 DNN Report\n",
        "\n",
        "Report the following and provide justification for the same.\n",
        "\n",
        "* Number of layers: **10**\n",
        "\n",
        "Justification: The model consists of 10 layers in total, including convolutional, batch normalization, dropout, flatten, and dense layers.\n",
        "\n",
        "* Number of units in each layer:\n",
        "    \n",
        "    **Conv1D(29, 32), BatchNormalization(29, 32), Dropout(29, 32), Conv1D(28, 64), BatchNormalization(28, 64), Dropout(28, 64), Flatten(1792), Dense(64), Dropout(64), Dense(1)**\n",
        "\n",
        "Justification: Each layer is described with its type and the number of units or output shape. For convolutional layers, the shape of the output tensor is specified as (number of samples, number of time steps, number of features). For other layers like Flatten and Dense, only the number of units is provided.   \n",
        "\n",
        "* Total number of trainable parameters: **119265**\n",
        "\n"
      ]
    },
    {
      "cell_type": "code",
      "execution_count": null,
      "id": "OcRr_X9NZz-c",
      "metadata": {
        "colab": {
          "base_uri": "https://localhost:8080/"
        },
        "id": "OcRr_X9NZz-c",
        "outputId": "68573a2f-6622-4c52-c935-02f0f1cb7ab4"
      },
      "outputs": [
        {
          "name": "stdout",
          "output_type": "stream",
          "text": [
            "Number of layers: 10\n",
            "Number of units in each layer: [64, 1]\n",
            "Total number of trainable parameters: 119457\n"
          ]
        }
      ],
      "source": [
        "# Print number of layers\n",
        "num_layers = len(model.layers)\n",
        "print(\"Number of layers:\", num_layers)\n",
        "\n",
        "# Print number of units in each layer\n",
        "num_units = [layer.units for layer in model.layers if isinstance(layer, Dense)]\n",
        "print(\"Number of units in each layer:\", num_units)\n",
        "\n",
        "# Calculate total number of trainable parameters\n",
        "total_params = model.count_params()\n",
        "print(\"Total number of trainable parameters:\", total_params)"
      ]
    },
    {
      "cell_type": "raw",
      "id": "f5cd8f8f",
      "metadata": {
        "id": "f5cd8f8f"
      },
      "source": [
        "##---------Type the answer below this line------------------##"
      ]
    },
    {
      "cell_type": "markdown",
      "id": "bdbc82a1",
      "metadata": {
        "id": "bdbc82a1"
      },
      "source": [
        "# 5. Training the model\n"
      ]
    },
    {
      "cell_type": "code",
      "execution_count": null,
      "id": "a85e9754",
      "metadata": {
        "colab": {
          "base_uri": "https://localhost:8080/"
        },
        "id": "a85e9754",
        "outputId": "7a8e57fb-28d2-4c0d-fc87-035595dab9d6"
      },
      "outputs": [
        {
          "name": "stdout",
          "output_type": "stream",
          "text": [
            "Epoch 1/100\n",
            "13/13 [==============================] - 2s 27ms/step - loss: 1.2363 - accuracy: 0.5257 - val_loss: 0.6531 - val_accuracy: 0.6739\n",
            "Epoch 2/100\n",
            "13/13 [==============================] - 0s 11ms/step - loss: 0.8433 - accuracy: 0.6186 - val_loss: 0.6162 - val_accuracy: 0.8696\n",
            "Epoch 3/100\n",
            "13/13 [==============================] - 0s 11ms/step - loss: 0.6868 - accuracy: 0.7115 - val_loss: 0.5766 - val_accuracy: 0.9565\n",
            "Epoch 4/100\n",
            "13/13 [==============================] - 0s 11ms/step - loss: 0.6090 - accuracy: 0.7482 - val_loss: 0.5389 - val_accuracy: 0.9783\n",
            "Epoch 5/100\n",
            "13/13 [==============================] - 0s 10ms/step - loss: 0.5521 - accuracy: 0.7751 - val_loss: 0.5010 - val_accuracy: 0.9783\n",
            "Epoch 6/100\n",
            "13/13 [==============================] - 0s 11ms/step - loss: 0.4359 - accuracy: 0.8068 - val_loss: 0.4655 - val_accuracy: 0.9565\n",
            "Epoch 7/100\n",
            "13/13 [==============================] - 0s 12ms/step - loss: 0.4414 - accuracy: 0.8264 - val_loss: 0.4314 - val_accuracy: 0.9348\n",
            "Epoch 8/100\n",
            "13/13 [==============================] - 0s 11ms/step - loss: 0.4060 - accuracy: 0.8386 - val_loss: 0.4001 - val_accuracy: 0.9348\n",
            "Epoch 9/100\n",
            "13/13 [==============================] - 0s 10ms/step - loss: 0.3856 - accuracy: 0.8386 - val_loss: 0.3695 - val_accuracy: 0.9348\n",
            "Epoch 10/100\n",
            "13/13 [==============================] - 0s 11ms/step - loss: 0.3198 - accuracy: 0.8533 - val_loss: 0.3398 - val_accuracy: 0.9348\n",
            "Epoch 11/100\n",
            "13/13 [==============================] - 0s 12ms/step - loss: 0.2563 - accuracy: 0.8900 - val_loss: 0.3125 - val_accuracy: 0.9348\n",
            "Epoch 12/100\n",
            "13/13 [==============================] - 0s 12ms/step - loss: 0.2883 - accuracy: 0.8949 - val_loss: 0.2873 - val_accuracy: 0.9565\n",
            "Epoch 13/100\n",
            "13/13 [==============================] - 0s 10ms/step - loss: 0.2676 - accuracy: 0.8875 - val_loss: 0.2629 - val_accuracy: 0.9565\n",
            "Epoch 14/100\n",
            "13/13 [==============================] - 0s 9ms/step - loss: 0.2569 - accuracy: 0.8851 - val_loss: 0.2413 - val_accuracy: 0.9565\n",
            "Epoch 15/100\n",
            "13/13 [==============================] - 0s 9ms/step - loss: 0.2393 - accuracy: 0.8900 - val_loss: 0.2193 - val_accuracy: 0.9565\n",
            "Epoch 16/100\n",
            "13/13 [==============================] - 0s 11ms/step - loss: 0.2342 - accuracy: 0.8998 - val_loss: 0.2000 - val_accuracy: 0.9565\n",
            "Epoch 17/100\n",
            "13/13 [==============================] - 0s 10ms/step - loss: 0.2295 - accuracy: 0.9095 - val_loss: 0.1817 - val_accuracy: 0.9783\n",
            "Epoch 18/100\n",
            "13/13 [==============================] - 0s 10ms/step - loss: 0.2227 - accuracy: 0.8973 - val_loss: 0.1665 - val_accuracy: 0.9783\n",
            "Epoch 19/100\n",
            "13/13 [==============================] - 0s 10ms/step - loss: 0.1737 - accuracy: 0.9291 - val_loss: 0.1513 - val_accuracy: 0.9783\n",
            "Epoch 20/100\n",
            "13/13 [==============================] - 0s 10ms/step - loss: 0.1745 - accuracy: 0.9291 - val_loss: 0.1392 - val_accuracy: 0.9783\n",
            "Epoch 21/100\n",
            "13/13 [==============================] - 0s 9ms/step - loss: 0.2785 - accuracy: 0.8949 - val_loss: 0.1273 - val_accuracy: 0.9783\n",
            "Epoch 22/100\n",
            "13/13 [==============================] - 0s 10ms/step - loss: 0.1771 - accuracy: 0.9413 - val_loss: 0.1179 - val_accuracy: 0.9783\n",
            "Epoch 23/100\n",
            "13/13 [==============================] - 0s 11ms/step - loss: 0.2084 - accuracy: 0.9291 - val_loss: 0.1097 - val_accuracy: 0.9783\n",
            "Epoch 24/100\n",
            "13/13 [==============================] - 0s 20ms/step - loss: 0.1784 - accuracy: 0.9389 - val_loss: 0.1008 - val_accuracy: 0.9783\n",
            "Epoch 25/100\n",
            "13/13 [==============================] - 0s 23ms/step - loss: 0.1958 - accuracy: 0.9267 - val_loss: 0.0938 - val_accuracy: 0.9783\n",
            "Epoch 26/100\n",
            "13/13 [==============================] - 0s 20ms/step - loss: 0.2023 - accuracy: 0.9120 - val_loss: 0.0880 - val_accuracy: 0.9783\n",
            "Epoch 27/100\n",
            "13/13 [==============================] - 0s 28ms/step - loss: 0.1469 - accuracy: 0.9389 - val_loss: 0.0825 - val_accuracy: 0.9783\n",
            "Epoch 28/100\n",
            "13/13 [==============================] - 0s 24ms/step - loss: 0.1686 - accuracy: 0.9291 - val_loss: 0.0776 - val_accuracy: 0.9783\n",
            "Epoch 29/100\n",
            "13/13 [==============================] - 0s 22ms/step - loss: 0.1744 - accuracy: 0.9340 - val_loss: 0.0733 - val_accuracy: 0.9783\n",
            "Epoch 30/100\n",
            "13/13 [==============================] - 0s 18ms/step - loss: 0.1699 - accuracy: 0.9462 - val_loss: 0.0696 - val_accuracy: 0.9783\n",
            "Epoch 31/100\n",
            "13/13 [==============================] - 0s 21ms/step - loss: 0.1858 - accuracy: 0.9267 - val_loss: 0.0663 - val_accuracy: 0.9783\n",
            "Epoch 32/100\n",
            "13/13 [==============================] - 0s 10ms/step - loss: 0.1611 - accuracy: 0.9389 - val_loss: 0.0632 - val_accuracy: 0.9783\n",
            "Epoch 33/100\n",
            "13/13 [==============================] - 0s 10ms/step - loss: 0.1738 - accuracy: 0.9242 - val_loss: 0.0601 - val_accuracy: 0.9783\n",
            "Epoch 34/100\n",
            "13/13 [==============================] - 0s 9ms/step - loss: 0.1641 - accuracy: 0.9364 - val_loss: 0.0575 - val_accuracy: 0.9783\n",
            "Epoch 35/100\n",
            "13/13 [==============================] - 0s 10ms/step - loss: 0.1402 - accuracy: 0.9438 - val_loss: 0.0558 - val_accuracy: 0.9783\n",
            "Epoch 36/100\n",
            "13/13 [==============================] - 0s 10ms/step - loss: 0.1435 - accuracy: 0.9413 - val_loss: 0.0537 - val_accuracy: 0.9783\n",
            "Epoch 37/100\n",
            "13/13 [==============================] - 0s 11ms/step - loss: 0.1509 - accuracy: 0.9413 - val_loss: 0.0519 - val_accuracy: 0.9783\n",
            "Epoch 38/100\n",
            "13/13 [==============================] - 0s 11ms/step - loss: 0.1567 - accuracy: 0.9487 - val_loss: 0.0504 - val_accuracy: 0.9783\n",
            "Epoch 39/100\n",
            "13/13 [==============================] - 0s 11ms/step - loss: 0.1253 - accuracy: 0.9462 - val_loss: 0.0486 - val_accuracy: 0.9783\n",
            "Epoch 40/100\n",
            "13/13 [==============================] - 0s 10ms/step - loss: 0.1384 - accuracy: 0.9511 - val_loss: 0.0475 - val_accuracy: 0.9783\n",
            "Epoch 41/100\n",
            "13/13 [==============================] - 0s 9ms/step - loss: 0.1159 - accuracy: 0.9413 - val_loss: 0.0462 - val_accuracy: 0.9783\n",
            "Epoch 42/100\n",
            "13/13 [==============================] - 0s 10ms/step - loss: 0.1133 - accuracy: 0.9487 - val_loss: 0.0459 - val_accuracy: 0.9783\n",
            "Epoch 43/100\n",
            "13/13 [==============================] - 0s 11ms/step - loss: 0.1442 - accuracy: 0.9560 - val_loss: 0.0451 - val_accuracy: 0.9783\n",
            "Epoch 44/100\n",
            "13/13 [==============================] - 0s 9ms/step - loss: 0.1123 - accuracy: 0.9511 - val_loss: 0.0441 - val_accuracy: 0.9783\n",
            "Epoch 45/100\n",
            "13/13 [==============================] - 0s 11ms/step - loss: 0.1220 - accuracy: 0.9633 - val_loss: 0.0428 - val_accuracy: 0.9783\n",
            "Epoch 46/100\n",
            "13/13 [==============================] - 0s 11ms/step - loss: 0.1231 - accuracy: 0.9535 - val_loss: 0.0418 - val_accuracy: 0.9783\n",
            "Epoch 47/100\n",
            "13/13 [==============================] - 0s 14ms/step - loss: 0.1641 - accuracy: 0.9462 - val_loss: 0.0413 - val_accuracy: 0.9783\n",
            "Epoch 48/100\n",
            "13/13 [==============================] - 0s 19ms/step - loss: 0.1338 - accuracy: 0.9584 - val_loss: 0.0414 - val_accuracy: 0.9783\n",
            "Epoch 49/100\n",
            "13/13 [==============================] - 0s 18ms/step - loss: 0.1722 - accuracy: 0.9462 - val_loss: 0.0398 - val_accuracy: 0.9783\n",
            "Epoch 50/100\n",
            "13/13 [==============================] - 0s 18ms/step - loss: 0.1287 - accuracy: 0.9413 - val_loss: 0.0392 - val_accuracy: 0.9783\n",
            "Epoch 51/100\n",
            "13/13 [==============================] - 0s 20ms/step - loss: 0.1178 - accuracy: 0.9584 - val_loss: 0.0385 - val_accuracy: 0.9783\n",
            "Epoch 52/100\n",
            "13/13 [==============================] - 0s 16ms/step - loss: 0.1166 - accuracy: 0.9584 - val_loss: 0.0375 - val_accuracy: 0.9783\n",
            "Epoch 53/100\n",
            "13/13 [==============================] - 0s 17ms/step - loss: 0.0965 - accuracy: 0.9609 - val_loss: 0.0369 - val_accuracy: 0.9783\n",
            "Epoch 54/100\n",
            "13/13 [==============================] - 0s 15ms/step - loss: 0.1024 - accuracy: 0.9658 - val_loss: 0.0366 - val_accuracy: 0.9783\n",
            "Epoch 55/100\n",
            "13/13 [==============================] - 0s 18ms/step - loss: 0.1215 - accuracy: 0.9511 - val_loss: 0.0368 - val_accuracy: 0.9783\n",
            "Epoch 56/100\n",
            "13/13 [==============================] - 0s 19ms/step - loss: 0.0966 - accuracy: 0.9731 - val_loss: 0.0363 - val_accuracy: 0.9783\n",
            "Epoch 57/100\n",
            "13/13 [==============================] - 0s 16ms/step - loss: 0.1167 - accuracy: 0.9511 - val_loss: 0.0364 - val_accuracy: 0.9783\n",
            "Epoch 58/100\n",
            "13/13 [==============================] - 0s 10ms/step - loss: 0.1119 - accuracy: 0.9535 - val_loss: 0.0354 - val_accuracy: 0.9783\n",
            "Epoch 59/100\n",
            "13/13 [==============================] - 0s 10ms/step - loss: 0.1014 - accuracy: 0.9658 - val_loss: 0.0350 - val_accuracy: 0.9783\n",
            "Epoch 60/100\n",
            "13/13 [==============================] - 0s 11ms/step - loss: 0.1320 - accuracy: 0.9389 - val_loss: 0.0354 - val_accuracy: 0.9783\n",
            "Epoch 61/100\n",
            "13/13 [==============================] - 0s 11ms/step - loss: 0.1540 - accuracy: 0.9438 - val_loss: 0.0354 - val_accuracy: 0.9783\n",
            "Epoch 62/100\n",
            "13/13 [==============================] - 0s 11ms/step - loss: 0.0822 - accuracy: 0.9633 - val_loss: 0.0366 - val_accuracy: 0.9783\n",
            "Epoch 63/100\n",
            "13/13 [==============================] - 0s 11ms/step - loss: 0.1356 - accuracy: 0.9535 - val_loss: 0.0374 - val_accuracy: 0.9783\n",
            "Epoch 64/100\n",
            "13/13 [==============================] - 0s 10ms/step - loss: 0.1087 - accuracy: 0.9658 - val_loss: 0.0376 - val_accuracy: 0.9783\n",
            "Epoch 65/100\n",
            "13/13 [==============================] - 0s 12ms/step - loss: 0.1166 - accuracy: 0.9609 - val_loss: 0.0381 - val_accuracy: 0.9783\n",
            "Epoch 66/100\n",
            "13/13 [==============================] - 0s 11ms/step - loss: 0.1269 - accuracy: 0.9560 - val_loss: 0.0382 - val_accuracy: 0.9783\n",
            "Epoch 67/100\n",
            "13/13 [==============================] - 0s 11ms/step - loss: 0.1156 - accuracy: 0.9560 - val_loss: 0.0380 - val_accuracy: 0.9783\n",
            "Epoch 68/100\n",
            "13/13 [==============================] - 0s 11ms/step - loss: 0.1319 - accuracy: 0.9462 - val_loss: 0.0381 - val_accuracy: 0.9783\n",
            "Epoch 69/100\n",
            "13/13 [==============================] - 0s 11ms/step - loss: 0.1310 - accuracy: 0.9560 - val_loss: 0.0373 - val_accuracy: 0.9783\n",
            "Epoch 70/100\n",
            "13/13 [==============================] - 0s 11ms/step - loss: 0.0904 - accuracy: 0.9633 - val_loss: 0.0367 - val_accuracy: 0.9783\n",
            "Epoch 71/100\n",
            "13/13 [==============================] - 0s 11ms/step - loss: 0.1057 - accuracy: 0.9682 - val_loss: 0.0362 - val_accuracy: 0.9783\n",
            "Epoch 72/100\n",
            "13/13 [==============================] - 0s 10ms/step - loss: 0.1105 - accuracy: 0.9584 - val_loss: 0.0356 - val_accuracy: 0.9783\n",
            "Epoch 73/100\n",
            "13/13 [==============================] - 0s 11ms/step - loss: 0.1059 - accuracy: 0.9609 - val_loss: 0.0357 - val_accuracy: 0.9783\n",
            "Epoch 74/100\n",
            "13/13 [==============================] - 0s 11ms/step - loss: 0.1250 - accuracy: 0.9633 - val_loss: 0.0359 - val_accuracy: 0.9783\n",
            "Epoch 75/100\n",
            "13/13 [==============================] - 0s 11ms/step - loss: 0.1032 - accuracy: 0.9658 - val_loss: 0.0360 - val_accuracy: 0.9783\n",
            "Epoch 76/100\n",
            "13/13 [==============================] - 0s 11ms/step - loss: 0.1090 - accuracy: 0.9682 - val_loss: 0.0359 - val_accuracy: 0.9783\n",
            "Epoch 77/100\n",
            "13/13 [==============================] - 0s 11ms/step - loss: 0.1162 - accuracy: 0.9535 - val_loss: 0.0358 - val_accuracy: 0.9783\n",
            "Epoch 78/100\n",
            "13/13 [==============================] - 0s 10ms/step - loss: 0.1128 - accuracy: 0.9609 - val_loss: 0.0357 - val_accuracy: 0.9783\n",
            "Epoch 79/100\n",
            "13/13 [==============================] - 0s 12ms/step - loss: 0.0890 - accuracy: 0.9731 - val_loss: 0.0358 - val_accuracy: 0.9783\n",
            "Epoch 80/100\n",
            "13/13 [==============================] - 0s 10ms/step - loss: 0.0884 - accuracy: 0.9682 - val_loss: 0.0371 - val_accuracy: 0.9783\n",
            "Epoch 81/100\n",
            "13/13 [==============================] - 0s 10ms/step - loss: 0.0989 - accuracy: 0.9682 - val_loss: 0.0364 - val_accuracy: 0.9783\n",
            "Epoch 82/100\n",
            "13/13 [==============================] - 0s 11ms/step - loss: 0.1110 - accuracy: 0.9560 - val_loss: 0.0355 - val_accuracy: 0.9783\n",
            "Epoch 83/100\n",
            "13/13 [==============================] - 0s 11ms/step - loss: 0.0888 - accuracy: 0.9609 - val_loss: 0.0354 - val_accuracy: 0.9783\n",
            "Epoch 84/100\n",
            "13/13 [==============================] - 0s 11ms/step - loss: 0.0958 - accuracy: 0.9584 - val_loss: 0.0350 - val_accuracy: 0.9783\n",
            "Epoch 85/100\n",
            "13/13 [==============================] - 0s 12ms/step - loss: 0.0794 - accuracy: 0.9560 - val_loss: 0.0342 - val_accuracy: 0.9783\n",
            "Epoch 86/100\n",
            "13/13 [==============================] - 0s 11ms/step - loss: 0.1088 - accuracy: 0.9560 - val_loss: 0.0333 - val_accuracy: 0.9783\n",
            "Epoch 87/100\n",
            "13/13 [==============================] - 0s 10ms/step - loss: 0.0954 - accuracy: 0.9609 - val_loss: 0.0338 - val_accuracy: 0.9783\n",
            "Epoch 88/100\n",
            "13/13 [==============================] - 0s 11ms/step - loss: 0.1073 - accuracy: 0.9707 - val_loss: 0.0352 - val_accuracy: 0.9783\n",
            "Epoch 89/100\n",
            "13/13 [==============================] - 0s 11ms/step - loss: 0.1151 - accuracy: 0.9560 - val_loss: 0.0359 - val_accuracy: 0.9783\n",
            "Epoch 90/100\n",
            "13/13 [==============================] - 0s 11ms/step - loss: 0.0896 - accuracy: 0.9707 - val_loss: 0.0366 - val_accuracy: 0.9783\n",
            "Epoch 91/100\n",
            "13/13 [==============================] - 0s 13ms/step - loss: 0.0816 - accuracy: 0.9731 - val_loss: 0.0366 - val_accuracy: 0.9783\n",
            "Epoch 92/100\n",
            "13/13 [==============================] - 0s 11ms/step - loss: 0.0862 - accuracy: 0.9731 - val_loss: 0.0357 - val_accuracy: 0.9783\n",
            "Epoch 93/100\n",
            "13/13 [==============================] - 0s 9ms/step - loss: 0.0858 - accuracy: 0.9658 - val_loss: 0.0355 - val_accuracy: 0.9783\n",
            "Epoch 94/100\n",
            "13/13 [==============================] - 0s 11ms/step - loss: 0.0977 - accuracy: 0.9633 - val_loss: 0.0365 - val_accuracy: 0.9783\n",
            "Epoch 95/100\n",
            "13/13 [==============================] - 0s 10ms/step - loss: 0.1217 - accuracy: 0.9584 - val_loss: 0.0378 - val_accuracy: 0.9783\n",
            "Epoch 96/100\n",
            "13/13 [==============================] - 0s 10ms/step - loss: 0.0888 - accuracy: 0.9609 - val_loss: 0.0390 - val_accuracy: 0.9783\n",
            "Epoch 97/100\n",
            "13/13 [==============================] - 0s 10ms/step - loss: 0.0707 - accuracy: 0.9780 - val_loss: 0.0395 - val_accuracy: 0.9783\n",
            "Epoch 98/100\n",
            "13/13 [==============================] - 0s 11ms/step - loss: 0.0879 - accuracy: 0.9707 - val_loss: 0.0397 - val_accuracy: 0.9783\n",
            "Epoch 99/100\n",
            "13/13 [==============================] - 0s 10ms/step - loss: 0.0634 - accuracy: 0.9731 - val_loss: 0.0388 - val_accuracy: 0.9783\n",
            "Epoch 100/100\n",
            "13/13 [==============================] - 0s 11ms/step - loss: 0.1125 - accuracy: 0.9633 - val_loss: 0.0386 - val_accuracy: 0.9783\n"
          ]
        }
      ],
      "source": [
        "# Configure the training, by using appropriate optimizers, regularizations and loss functions\n",
        "##---------Type the code below this line------------------##\n",
        "##Training the Neural Network\n",
        "\n",
        "history =model.fit(X_train,Y_train,validation_split= 0.1,epochs =100)\n"
      ]
    },
    {
      "cell_type": "code",
      "execution_count": null,
      "id": "A9YJ1QR9zWKi",
      "metadata": {
        "id": "A9YJ1QR9zWKi"
      },
      "outputs": [],
      "source": [
        "import matplotlib.pyplot as plt\n",
        "def plot_learningCurve(history,epoch):\n",
        "    #plot training & validation accuracy values\n",
        "    epoch_range = range(1, epoch+1)\n",
        "    plt.plot(epoch_range,history.history['accuracy'])\n",
        "    plt.plot(epoch_range,history.history['val_accuracy'])\n",
        "    plt.title('Model accuracy')\n",
        "    plt.ylabel('Accuracy')\n",
        "    plt.xlabel('Epoch')\n",
        "    plt.legend(['Train','Val'],loc = 'upper left')\n",
        "    plt.show()\n",
        "\n",
        "    #plot training & validation loss values\n",
        "    plt.plot(epoch_range,history.history['loss'])\n",
        "    plt.plot(epoch_range,history.history['val_loss'])\n",
        "    plt.title('Model loss')\n",
        "    plt.ylabel('Loss')\n",
        "    plt.xlabel('Epoch')\n",
        "    plt.legend(['Train','Val'],loc = 'upper left')\n",
        "    plt.show()"
      ]
    },
    {
      "cell_type": "code",
      "execution_count": null,
      "id": "fZTO75U_zgPS",
      "metadata": {
        "colab": {
          "base_uri": "https://localhost:8080/"
        },
        "id": "fZTO75U_zgPS",
        "outputId": "fdaca94c-271f-442a-eebb-ec7ed0b5695b"
      },
      "outputs": [
        {
          "data": {
            "text/plain": [
              "{'loss': [1.2362765073776245,\n",
              "  0.8433330655097961,\n",
              "  0.6867660284042358,\n",
              "  0.609031081199646,\n",
              "  0.5520765781402588,\n",
              "  0.4359065592288971,\n",
              "  0.44144266843795776,\n",
              "  0.40604788064956665,\n",
              "  0.3855583071708679,\n",
              "  0.319812536239624,\n",
              "  0.25632938742637634,\n",
              "  0.28825682401657104,\n",
              "  0.2676267623901367,\n",
              "  0.256876140832901,\n",
              "  0.23926855623722076,\n",
              "  0.23419909179210663,\n",
              "  0.2294720858335495,\n",
              "  0.2226758897304535,\n",
              "  0.17371441423892975,\n",
              "  0.1745084971189499,\n",
              "  0.2785167098045349,\n",
              "  0.1770794540643692,\n",
              "  0.20840655267238617,\n",
              "  0.17844459414482117,\n",
              "  0.19580477476119995,\n",
              "  0.20226216316223145,\n",
              "  0.14685626327991486,\n",
              "  0.16864004731178284,\n",
              "  0.1744210422039032,\n",
              "  0.1698862612247467,\n",
              "  0.1858326643705368,\n",
              "  0.16111072897911072,\n",
              "  0.17379292845726013,\n",
              "  0.16408219933509827,\n",
              "  0.14019061625003815,\n",
              "  0.14347431063652039,\n",
              "  0.15087652206420898,\n",
              "  0.15671199560165405,\n",
              "  0.12533003091812134,\n",
              "  0.13838620483875275,\n",
              "  0.1158856600522995,\n",
              "  0.11334149539470673,\n",
              "  0.1442229151725769,\n",
              "  0.11233336478471756,\n",
              "  0.12198984622955322,\n",
              "  0.12311449646949768,\n",
              "  0.16408640146255493,\n",
              "  0.13384521007537842,\n",
              "  0.17217698693275452,\n",
              "  0.12874633073806763,\n",
              "  0.1178298220038414,\n",
              "  0.11660674959421158,\n",
              "  0.0965176597237587,\n",
              "  0.10242658853530884,\n",
              "  0.1214803010225296,\n",
              "  0.09655065089464188,\n",
              "  0.11665970832109451,\n",
              "  0.11194214224815369,\n",
              "  0.10136985033750534,\n",
              "  0.1319999098777771,\n",
              "  0.15400312840938568,\n",
              "  0.08222518116235733,\n",
              "  0.13562846183776855,\n",
              "  0.1086944192647934,\n",
              "  0.11657483875751495,\n",
              "  0.1268966943025589,\n",
              "  0.11564159393310547,\n",
              "  0.1319485306739807,\n",
              "  0.13096627593040466,\n",
              "  0.09039194136857986,\n",
              "  0.10569478571414948,\n",
              "  0.11053049564361572,\n",
              "  0.1059153601527214,\n",
              "  0.12495045363903046,\n",
              "  0.1031714379787445,\n",
              "  0.10899889469146729,\n",
              "  0.1162070780992508,\n",
              "  0.11281057447195053,\n",
              "  0.0889982059597969,\n",
              "  0.08836245536804199,\n",
              "  0.09893427789211273,\n",
              "  0.11095155030488968,\n",
              "  0.08877230435609818,\n",
              "  0.09584235399961472,\n",
              "  0.07944037020206451,\n",
              "  0.10879497975111008,\n",
              "  0.09543386846780777,\n",
              "  0.10733631253242493,\n",
              "  0.11508011072874069,\n",
              "  0.08955425024032593,\n",
              "  0.081557497382164,\n",
              "  0.0862160176038742,\n",
              "  0.0857962891459465,\n",
              "  0.09771321713924408,\n",
              "  0.12170924246311188,\n",
              "  0.08882726728916168,\n",
              "  0.07070468366146088,\n",
              "  0.08788307011127472,\n",
              "  0.06338420510292053,\n",
              "  0.11245135962963104],\n",
              " 'accuracy': [0.5256723761558533,\n",
              "  0.6185818910598755,\n",
              "  0.7114914655685425,\n",
              "  0.7481662631034851,\n",
              "  0.7750611305236816,\n",
              "  0.8068459630012512,\n",
              "  0.8264058828353882,\n",
              "  0.8386307954788208,\n",
              "  0.8386307954788208,\n",
              "  0.8533007502555847,\n",
              "  0.8899755477905273,\n",
              "  0.8948655128479004,\n",
              "  0.8875305652618408,\n",
              "  0.8850855827331543,\n",
              "  0.8899755477905273,\n",
              "  0.8997554779052734,\n",
              "  0.9095354676246643,\n",
              "  0.8973104953765869,\n",
              "  0.9290953278541565,\n",
              "  0.9290953278541565,\n",
              "  0.8948655128479004,\n",
              "  0.9413203001022339,\n",
              "  0.9290953278541565,\n",
              "  0.9388753175735474,\n",
              "  0.92665034532547,\n",
              "  0.9119804501533508,\n",
              "  0.9388753175735474,\n",
              "  0.9290953278541565,\n",
              "  0.9339853525161743,\n",
              "  0.9462102651596069,\n",
              "  0.92665034532547,\n",
              "  0.9388753175735474,\n",
              "  0.9242053627967834,\n",
              "  0.9364303350448608,\n",
              "  0.9437652826309204,\n",
              "  0.9413203001022339,\n",
              "  0.9413203001022339,\n",
              "  0.9486552476882935,\n",
              "  0.9462102651596069,\n",
              "  0.95110023021698,\n",
              "  0.9413203001022339,\n",
              "  0.9486552476882935,\n",
              "  0.955990195274353,\n",
              "  0.95110023021698,\n",
              "  0.9633252024650574,\n",
              "  0.9535452127456665,\n",
              "  0.9462102651596069,\n",
              "  0.9584352374076843,\n",
              "  0.9462102651596069,\n",
              "  0.9413203001022339,\n",
              "  0.9584352374076843,\n",
              "  0.9584352374076843,\n",
              "  0.9608802199363708,\n",
              "  0.9657701849937439,\n",
              "  0.95110023021698,\n",
              "  0.9731051325798035,\n",
              "  0.95110023021698,\n",
              "  0.9535452127456665,\n",
              "  0.9657701849937439,\n",
              "  0.9388753175735474,\n",
              "  0.9437652826309204,\n",
              "  0.9633252024650574,\n",
              "  0.9535452127456665,\n",
              "  0.9657701849937439,\n",
              "  0.9608802199363708,\n",
              "  0.955990195274353,\n",
              "  0.955990195274353,\n",
              "  0.9462102651596069,\n",
              "  0.955990195274353,\n",
              "  0.9633252024650574,\n",
              "  0.9682151675224304,\n",
              "  0.9584352374076843,\n",
              "  0.9608802199363708,\n",
              "  0.9633252024650574,\n",
              "  0.9657701849937439,\n",
              "  0.9682151675224304,\n",
              "  0.9535452127456665,\n",
              "  0.9608802199363708,\n",
              "  0.9731051325798035,\n",
              "  0.9682151675224304,\n",
              "  0.9682151675224304,\n",
              "  0.955990195274353,\n",
              "  0.9608802199363708,\n",
              "  0.9584352374076843,\n",
              "  0.955990195274353,\n",
              "  0.955990195274353,\n",
              "  0.9608802199363708,\n",
              "  0.9706601500511169,\n",
              "  0.955990195274353,\n",
              "  0.9706601500511169,\n",
              "  0.9731051325798035,\n",
              "  0.9731051325798035,\n",
              "  0.9657701849937439,\n",
              "  0.9633252024650574,\n",
              "  0.9584352374076843,\n",
              "  0.9608802199363708,\n",
              "  0.9779950976371765,\n",
              "  0.9706601500511169,\n",
              "  0.9731051325798035,\n",
              "  0.9633252024650574],\n",
              " 'val_loss': [0.653148889541626,\n",
              "  0.616151750087738,\n",
              "  0.5766117572784424,\n",
              "  0.5389358401298523,\n",
              "  0.5009883642196655,\n",
              "  0.46553823351860046,\n",
              "  0.431413471698761,\n",
              "  0.4000757932662964,\n",
              "  0.3694850206375122,\n",
              "  0.33981409668922424,\n",
              "  0.3125446140766144,\n",
              "  0.2872993052005768,\n",
              "  0.26292505860328674,\n",
              "  0.2413109689950943,\n",
              "  0.21927574276924133,\n",
              "  0.1999555230140686,\n",
              "  0.1817028820514679,\n",
              "  0.1664607971906662,\n",
              "  0.15131676197052002,\n",
              "  0.1392059624195099,\n",
              "  0.1272800862789154,\n",
              "  0.11786865442991257,\n",
              "  0.10968706011772156,\n",
              "  0.10078306496143341,\n",
              "  0.09382950514554977,\n",
              "  0.08797235786914825,\n",
              "  0.0824732854962349,\n",
              "  0.07763910293579102,\n",
              "  0.07327274978160858,\n",
              "  0.069597989320755,\n",
              "  0.06630397588014603,\n",
              "  0.06316714733839035,\n",
              "  0.06011861935257912,\n",
              "  0.05753302946686745,\n",
              "  0.055762194097042084,\n",
              "  0.05366680026054382,\n",
              "  0.05194195359945297,\n",
              "  0.05042725428938866,\n",
              "  0.04855797439813614,\n",
              "  0.04747602343559265,\n",
              "  0.04622996225953102,\n",
              "  0.04592173919081688,\n",
              "  0.04508325457572937,\n",
              "  0.04408198967576027,\n",
              "  0.04280373454093933,\n",
              "  0.041831694543361664,\n",
              "  0.04127265140414238,\n",
              "  0.04141426086425781,\n",
              "  0.039797112345695496,\n",
              "  0.039247382432222366,\n",
              "  0.038529880344867706,\n",
              "  0.03750532492995262,\n",
              "  0.03691938519477844,\n",
              "  0.036577947437763214,\n",
              "  0.03683530539274216,\n",
              "  0.03629593178629875,\n",
              "  0.036388710141181946,\n",
              "  0.03538040816783905,\n",
              "  0.03498326241970062,\n",
              "  0.03543321415781975,\n",
              "  0.03542504087090492,\n",
              "  0.0365716777741909,\n",
              "  0.03739883750677109,\n",
              "  0.037567704916000366,\n",
              "  0.03806621953845024,\n",
              "  0.03824835270643234,\n",
              "  0.0379951111972332,\n",
              "  0.03812865912914276,\n",
              "  0.03730088844895363,\n",
              "  0.03669476881623268,\n",
              "  0.03623607009649277,\n",
              "  0.03560535982251167,\n",
              "  0.035658132284879684,\n",
              "  0.03587093949317932,\n",
              "  0.035999543964862823,\n",
              "  0.035929515957832336,\n",
              "  0.03580581024289131,\n",
              "  0.035675130784511566,\n",
              "  0.03581751883029938,\n",
              "  0.03707607090473175,\n",
              "  0.03644132986664772,\n",
              "  0.035450246185064316,\n",
              "  0.03538989648222923,\n",
              "  0.03503286838531494,\n",
              "  0.03421169891953468,\n",
              "  0.033344317227602005,\n",
              "  0.03381313011050224,\n",
              "  0.035184092819690704,\n",
              "  0.035932451486587524,\n",
              "  0.036611441522836685,\n",
              "  0.0365615040063858,\n",
              "  0.03566722944378853,\n",
              "  0.03545394167304039,\n",
              "  0.03646925091743469,\n",
              "  0.0377686470746994,\n",
              "  0.03904996067285538,\n",
              "  0.039526764303445816,\n",
              "  0.039713576436042786,\n",
              "  0.03878238797187805,\n",
              "  0.03862357512116432],\n",
              " 'val_accuracy': [0.6739130616188049,\n",
              "  0.8695651888847351,\n",
              "  0.95652174949646,\n",
              "  0.97826087474823,\n",
              "  0.97826087474823,\n",
              "  0.95652174949646,\n",
              "  0.9347826242446899,\n",
              "  0.9347826242446899,\n",
              "  0.9347826242446899,\n",
              "  0.9347826242446899,\n",
              "  0.9347826242446899,\n",
              "  0.95652174949646,\n",
              "  0.95652174949646,\n",
              "  0.95652174949646,\n",
              "  0.95652174949646,\n",
              "  0.95652174949646,\n",
              "  0.97826087474823,\n",
              "  0.97826087474823,\n",
              "  0.97826087474823,\n",
              "  0.97826087474823,\n",
              "  0.97826087474823,\n",
              "  0.97826087474823,\n",
              "  0.97826087474823,\n",
              "  0.97826087474823,\n",
              "  0.97826087474823,\n",
              "  0.97826087474823,\n",
              "  0.97826087474823,\n",
              "  0.97826087474823,\n",
              "  0.97826087474823,\n",
              "  0.97826087474823,\n",
              "  0.97826087474823,\n",
              "  0.97826087474823,\n",
              "  0.97826087474823,\n",
              "  0.97826087474823,\n",
              "  0.97826087474823,\n",
              "  0.97826087474823,\n",
              "  0.97826087474823,\n",
              "  0.97826087474823,\n",
              "  0.97826087474823,\n",
              "  0.97826087474823,\n",
              "  0.97826087474823,\n",
              "  0.97826087474823,\n",
              "  0.97826087474823,\n",
              "  0.97826087474823,\n",
              "  0.97826087474823,\n",
              "  0.97826087474823,\n",
              "  0.97826087474823,\n",
              "  0.97826087474823,\n",
              "  0.97826087474823,\n",
              "  0.97826087474823,\n",
              "  0.97826087474823,\n",
              "  0.97826087474823,\n",
              "  0.97826087474823,\n",
              "  0.97826087474823,\n",
              "  0.97826087474823,\n",
              "  0.97826087474823,\n",
              "  0.97826087474823,\n",
              "  0.97826087474823,\n",
              "  0.97826087474823,\n",
              "  0.97826087474823,\n",
              "  0.97826087474823,\n",
              "  0.97826087474823,\n",
              "  0.97826087474823,\n",
              "  0.97826087474823,\n",
              "  0.97826087474823,\n",
              "  0.97826087474823,\n",
              "  0.97826087474823,\n",
              "  0.97826087474823,\n",
              "  0.97826087474823,\n",
              "  0.97826087474823,\n",
              "  0.97826087474823,\n",
              "  0.97826087474823,\n",
              "  0.97826087474823,\n",
              "  0.97826087474823,\n",
              "  0.97826087474823,\n",
              "  0.97826087474823,\n",
              "  0.97826087474823,\n",
              "  0.97826087474823,\n",
              "  0.97826087474823,\n",
              "  0.97826087474823,\n",
              "  0.97826087474823,\n",
              "  0.97826087474823,\n",
              "  0.97826087474823,\n",
              "  0.97826087474823,\n",
              "  0.97826087474823,\n",
              "  0.97826087474823,\n",
              "  0.97826087474823,\n",
              "  0.97826087474823,\n",
              "  0.97826087474823,\n",
              "  0.97826087474823,\n",
              "  0.97826087474823,\n",
              "  0.97826087474823,\n",
              "  0.97826087474823,\n",
              "  0.97826087474823,\n",
              "  0.97826087474823,\n",
              "  0.97826087474823,\n",
              "  0.97826087474823,\n",
              "  0.97826087474823,\n",
              "  0.97826087474823,\n",
              "  0.97826087474823]}"
            ]
          },
          "execution_count": 91,
          "metadata": {},
          "output_type": "execute_result"
        }
      ],
      "source": [
        "history.history"
      ]
    },
    {
      "cell_type": "markdown",
      "id": "06f1173c",
      "metadata": {
        "id": "06f1173c"
      },
      "source": [
        "# 6. Test the model\n"
      ]
    },
    {
      "cell_type": "code",
      "execution_count": null,
      "id": "7042235d",
      "metadata": {
        "colab": {
          "base_uri": "https://localhost:8080/"
        },
        "id": "7042235d",
        "outputId": "6629c260-eb74-4b97-e663-8b1a0e42ea90"
      },
      "outputs": [
        {
          "name": "stdout",
          "output_type": "stream",
          "text": [
            "4/4 [==============================] - 0s 4ms/step\n",
            "(114, 1)\n",
            "[0.99999326]\n",
            "[[9.99993265e-01]\n",
            " [8.47553134e-01]\n",
            " [5.35465539e-01]\n",
            " [9.84533429e-01]\n",
            " [5.30058797e-03]\n",
            " [2.00816570e-03]\n",
            " [2.71593948e-04]\n",
            " [9.99978960e-01]\n",
            " [3.11480695e-03]\n",
            " [1.00000000e+00]\n",
            " [9.95590210e-01]\n",
            " [9.96389031e-01]\n",
            " [3.52301686e-05]\n",
            " [1.15427953e-04]\n",
            " [7.40254691e-05]\n",
            " [9.99970675e-01]\n",
            " [5.01827300e-02]\n",
            " [1.77248381e-02]\n",
            " [1.72432105e-03]\n",
            " [9.66256578e-03]\n",
            " [9.77813244e-01]\n",
            " [1.00000000e+00]\n",
            " [3.92168004e-05]\n",
            " [9.98148918e-01]\n",
            " [5.58406100e-06]\n",
            " [1.00000000e+00]\n",
            " [1.00000000e+00]\n",
            " [1.00000000e+00]\n",
            " [1.01703949e-06]\n",
            " [9.99957263e-01]\n",
            " [1.04719082e-04]\n",
            " [1.71853993e-02]\n",
            " [4.43644375e-02]\n",
            " [1.41798882e-04]\n",
            " [4.09868017e-06]\n",
            " [8.45469892e-01]\n",
            " [9.99976277e-01]\n",
            " [9.99581397e-01]\n",
            " [1.36037800e-03]\n",
            " [9.83640611e-01]\n",
            " [9.99999762e-01]\n",
            " [1.33964102e-04]\n",
            " [2.70681735e-03]\n",
            " [9.98986065e-01]\n",
            " [3.02621326e-03]\n",
            " [9.99999523e-01]\n",
            " [6.97441737e-06]\n",
            " [4.06311010e-05]\n",
            " [6.74984371e-03]\n",
            " [9.98280287e-01]\n",
            " [1.11047842e-03]\n",
            " [3.41780367e-03]\n",
            " [3.27405869e-05]\n",
            " [8.98316596e-03]\n",
            " [9.12943389e-04]\n",
            " [8.04399431e-04]\n",
            " [1.00000000e+00]\n",
            " [9.86587584e-01]\n",
            " [2.69658044e-02]\n",
            " [2.09455902e-05]\n",
            " [8.17826092e-01]\n",
            " [9.99994397e-01]\n",
            " [2.77411878e-01]\n",
            " [3.64339817e-03]\n",
            " [2.77345581e-03]\n",
            " [9.07140318e-04]\n",
            " [5.73322723e-06]\n",
            " [1.07459084e-03]\n",
            " [6.45699402e-06]\n",
            " [3.79868131e-03]\n",
            " [4.44008620e-04]\n",
            " [9.15739592e-03]\n",
            " [3.97923577e-05]\n",
            " [4.52891618e-05]\n",
            " [9.99970734e-01]\n",
            " [1.00000000e+00]\n",
            " [4.95968197e-05]\n",
            " [1.63534842e-05]\n",
            " [4.90214518e-07]\n",
            " [2.41887895e-03]\n",
            " [9.98995960e-01]\n",
            " [9.99999762e-01]\n",
            " [8.90090227e-01]\n",
            " [8.50800276e-02]\n",
            " [9.85971153e-01]\n",
            " [1.97612736e-02]\n",
            " [1.22421816e-01]\n",
            " [9.99932587e-01]\n",
            " [9.99192238e-01]\n",
            " [7.12671681e-05]\n",
            " [2.55591061e-04]\n",
            " [4.14986403e-07]\n",
            " [9.99024749e-01]\n",
            " [1.14700393e-04]\n",
            " [2.85782386e-04]\n",
            " [9.99997914e-01]\n",
            " [2.40122208e-05]\n",
            " [6.50308039e-07]\n",
            " [9.99999881e-01]\n",
            " [1.15517035e-01]\n",
            " [1.91055872e-02]\n",
            " [9.99997020e-01]\n",
            " [9.99999285e-01]\n",
            " [1.64812882e-05]\n",
            " [1.23139480e-05]\n",
            " [2.41847229e-04]\n",
            " [2.12528379e-04]\n",
            " [5.44091426e-02]\n",
            " [2.48584433e-06]\n",
            " [1.00000000e+00]\n",
            " [9.99999881e-01]\n",
            " [9.99992967e-01]\n",
            " [4.63686213e-02]\n",
            " [1.29589327e-02]]\n"
          ]
        }
      ],
      "source": [
        "##---------Type the code below this line------------------##\n",
        "##Accuracy of the model on test data\n",
        "prediction_test_data = model.predict(X_test)\n",
        "print(prediction_test_data.shape)\n",
        "print(prediction_test_data[0])\n",
        "\n",
        "print(prediction_test_data)"
      ]
    },
    {
      "cell_type": "code",
      "execution_count": null,
      "id": "d2VjTEajqaoY",
      "metadata": {
        "colab": {
          "base_uri": "https://localhost:8080/"
        },
        "id": "d2VjTEajqaoY",
        "outputId": "76e1b710-1c1d-405b-89e3-f7ea8f39ad79"
      },
      "outputs": [
        {
          "name": "stdout",
          "output_type": "stream",
          "text": [
            "4/4 [==============================] - 0s 5ms/step - loss: 0.0376 - accuracy: 0.9825\n",
            "0.9824561476707458\n"
          ]
        }
      ],
      "source": [
        "#Model Evaluation(model.predict() gives prediction probability of each class for that data point unlike ml algorithms that would give direct prediction eg. as either 0 or 1)\n",
        "loss,accuracy = model.evaluate(X_test,Y_test)\n",
        "print(accuracy)"
      ]
    },
    {
      "cell_type": "markdown",
      "id": "eb57940c",
      "metadata": {
        "id": "eb57940c"
      },
      "source": [
        "# 7. Report the result\n",
        "\n",
        "1. Plot the training and validation accuracy history.\n",
        "2. Plot the training and validation loss history.\n",
        "3. Report the testing accuracy and loss.\n",
        "4. Show Confusion Matrix for testing dataset.\n",
        "5. Report values for preformance study metrics like accuracy, precision, recall, F1 Score.\n"
      ]
    },
    {
      "cell_type": "markdown",
      "id": "DuSuMnXd8W2R",
      "metadata": {
        "id": "DuSuMnXd8W2R"
      },
      "source": [
        "Plot 1: **Training and validation accuracy history**\n",
        "\n",
        "Plot 2: **Plot the training and validation loss history.**\n"
      ]
    },
    {
      "cell_type": "code",
      "execution_count": null,
      "id": "cf409d22",
      "metadata": {
        "colab": {
          "base_uri": "https://localhost:8080/",
          "height": 927
        },
        "id": "cf409d22",
        "outputId": "51558919-da74-4458-b3bb-670c3f01db54"
      },
      "outputs": [
        {
          "data": {
            "image/png": "[encoded data removed]",
            "text/plain": [
              "<Figure size 640x480 with 1 Axes>"
            ]
          },
          "metadata": {},
          "output_type": "display_data"
        },
        {
          "data": {
            "image/png": "[encoded data removed]",
            "text/plain": [
              "<Figure size 640x480 with 1 Axes>"
            ]
          },
          "metadata": {},
          "output_type": "display_data"
        }
      ],
      "source": [
        "##---------Type the code below this line------------------##\n",
        "plot_learningCurve(history,epochs)"
      ]
    },
    {
      "cell_type": "markdown",
      "id": "fE-Zm1mi8zII",
      "metadata": {
        "id": "fE-Zm1mi8zII"
      },
      "source": [
        "3. **Report the testing accuracy and loss.**"
      ]
    },
    {
      "cell_type": "code",
      "execution_count": null,
      "id": "d3d_GPxm8BKk",
      "metadata": {
        "colab": {
          "base_uri": "https://localhost:8080/"
        },
        "id": "d3d_GPxm8BKk",
        "outputId": "fa57f0fa-89d1-4b0a-96db-bbc5991a0d53"
      },
      "outputs": [
        {
          "name": "stdout",
          "output_type": "stream",
          "text": [
            "4/4 [==============================] - 0s 5ms/step - loss: 0.0376 - accuracy: 0.9825\n",
            "Testing Accuracy: 0.9825\n",
            "Testing Loss: 0.0376\n"
          ]
        }
      ],
      "source": [
        "# Evaluate the model on the testing set\n",
        "test_loss, test_acc = model.evaluate(X_test, Y_test)\n",
        "\n",
        "# Print the testing accuracy and loss\n",
        "print(f\"Testing Accuracy: {test_acc:.4f}\")\n",
        "print(f\"Testing Loss: {test_loss:.4f}\")"
      ]
    },
    {
      "cell_type": "code",
      "execution_count": null,
      "id": "TqkKHBUg9WTW",
      "metadata": {
        "colab": {
          "base_uri": "https://localhost:8080/",
          "height": 633
        },
        "id": "TqkKHBUg9WTW",
        "outputId": "13ae855f-d71e-4284-ce6e-920e9965f8c0",
        "scrolled": true
      },
      "outputs": [
        {
          "name": "stdout",
          "output_type": "stream",
          "text": [
            "4/4 [==============================] - 0s 5ms/step\n",
            "Confusion Matrix:\n",
            "[[70  2]\n",
            " [ 0 42]]\n"
          ]
        },
        {
          "data": {
            "image/png": "[encoded data removed]",
            "text/plain": [
              "<Figure size 800x600 with 2 Axes>"
            ]
          },
          "metadata": {},
          "output_type": "display_data"
        }
      ],
      "source": [
        "from sklearn.metrics import confusion_matrix, classification_report\n",
        "\n",
        "# Assuming you have a trained model (`model`), testing data (`X_test`, `y_test`),\n",
        "# and predicted labels (`y_pred`) from the model on the testing data\n",
        "\n",
        "# Predict labels on testing data (if not already done)\n",
        "y_pred = model.predict(X_test).round()  # Or use predict() for probability scores\n",
        "\n",
        "# Generate confusion matrix\n",
        "cm = confusion_matrix(Y_test, y_pred)\n",
        "\n",
        "# Print the confusion matrix\n",
        "print(\"Confusion Matrix:\")\n",
        "print(cm)\n",
        "# Plotting the confusion matrix\n",
        "plt.figure(figsize=(8, 6))\n",
        "sns.heatmap(cm, annot=True, fmt='d', cmap='Blues')\n",
        "plt.xlabel('Predicted labels')\n",
        "plt.ylabel('True labels')\n",
        "plt.title('Confusion Matrix')\n",
        "plt.show()"
      ]
    },
    {
      "cell_type": "markdown",
      "id": "FWOvKG7HdD_i",
      "metadata": {
        "id": "FWOvKG7HdD_i"
      },
      "source": [
        "4. **Show Confusion Matrix for testing dataset.**"
      ]
    },
    {
      "cell_type": "code",
      "execution_count": null,
      "id": "-XbTkZ5Db4Jt",
      "metadata": {
        "colab": {
          "base_uri": "https://localhost:8080/"
        },
        "id": "-XbTkZ5Db4Jt",
        "outputId": "3ef135cd-b2e3-414a-d53b-c964fcfda636"
      },
      "outputs": [
        {
          "name": "stdout",
          "output_type": "stream",
          "text": [
            "              precision    recall  f1-score   support\n",
            "\n",
            "           0       1.00      0.97      0.99        72\n",
            "           1       0.95      1.00      0.98        42\n",
            "\n",
            "    accuracy                           0.98       114\n",
            "   macro avg       0.98      0.99      0.98       114\n",
            "weighted avg       0.98      0.98      0.98       114\n",
            "\n"
          ]
        }
      ],
      "source": [
        "print(classification_report(Y_test,y_pred))"
      ]
    },
    {
      "cell_type": "markdown",
      "id": "v6-gg43tc3sr",
      "metadata": {
        "id": "v6-gg43tc3sr"
      },
      "source": [
        "5. **Report values for preformance study metrics like accuracy, precision, recall, F1 Score.**"
      ]
    },
    {
      "cell_type": "code",
      "execution_count": null,
      "id": "Z2Gf3vTHcH3g",
      "metadata": {
        "colab": {
          "base_uri": "https://localhost:8080/"
        },
        "id": "Z2Gf3vTHcH3g",
        "outputId": "1440df98-f5c1-48a3-862a-9dc0968deffe"
      },
      "outputs": [
        {
          "name": "stdout",
          "output_type": "stream",
          "text": [
            "Accuracy: 0.9824561403508771\n",
            "Precision: 0.9545454545454546\n",
            "Recall: 1.0\n",
            "F1 Score: 0.9767441860465117\n"
          ]
        }
      ],
      "source": [
        "#Compute performance metrics\n",
        "accuracy = accuracy_score(Y_test, y_pred)\n",
        "precision = precision_score(Y_test, y_pred)\n",
        "recall = recall_score(Y_test, y_pred)\n",
        "f1 = f1_score(Y_test, y_pred)\n",
        "print(\"Accuracy:\", accuracy)\n",
        "print(\"Precision:\", precision)\n",
        "print(\"Recall:\", recall)\n",
        "print(\"F1 Score:\", f1)"
      ]
    },
    {
      "cell_type": "markdown",
      "id": "RcDDQlfbZQ7E",
      "metadata": {
        "id": "RcDDQlfbZQ7E"
      },
      "source": [
        "### NOTE\n",
        "\n",
        "\n",
        "All Late Submissions will incur a <b>penalty of -2 marks </b>. So submit your assignments on time.\n",
        "\n",
        "Good Luck"
      ]
    }
  ],
  "metadata": {
    "colab": {
      "provenance": []
    },
    "kernelspec": {
      "display_name": "Python 3 (ipykernel)",
      "language": "python",
      "name": "python3"
    },
    "language_info": {
      "codemirror_mode": {
        "name": "ipython",
        "version": 3
      },
      "file_extension": ".py",
      "mimetype": "text/x-python",
      "name": "python",
      "nbconvert_exporter": "python",
      "pygments_lexer": "ipython3",
      "version": "3.11.5"
    }
  },
  "nbformat": 4,
  "nbformat_minor": 5
}